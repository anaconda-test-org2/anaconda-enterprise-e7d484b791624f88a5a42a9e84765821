{
 "cells": [
  {
   "cell_type": "markdown",
   "metadata": {},
   "source": [
    "Intro To Python\n",
    "========\n",
    "This material is all available at: http://j.mp/academy-intro-saleswk\n",
    "<img src=\"https://www.continuum.io/sites/default/files/Continuum-Wordmark.png\">"
   ]
  },
  {
   "cell_type": "markdown",
   "metadata": {},
   "source": [
    "**Instructors**:\n",
    "* David Mertz [dmertz@continuum.io](mailto:dmertz@continuum.io)\n",
    "* Dhavide Aruliah [daruliah@continuum.io](mailto:daruliah@continuum.io)\n",
    "\n",
    "TIMESTAMP: 4:33pm Wednesday"
   ]
  },
  {
   "cell_type": "markdown",
   "metadata": {},
   "source": [
    "Notebooks\n",
    "---------\n",
    "* [0 Introduction](https://notebooks.anaconda.org/ijstokes/0-intropython)\n",
    "* [1 Language Basics](https://notebooks.anaconda.org/ijstokes/1-intropython-languagebasics)\n",
    "* [2 Data Types and Structures](https://notebooks.anaconda.org/ijstokes/2-intropython-datatypesstructures)\n",
    "* [3 Functions, Files, and Iterators](https://notebooks.anaconda.org/ijstokes/3-intropython-functionsfilesiterators)\n",
    "* [4 Exceptions Classes, Scripts, and Modules](https://notebooks.anaconda.org/ijstokes/4-intropython-exceptionsclassesscriptsmodules)\n",
    "* [5 Advanced Python](https://notebooks.anaconda.org/ijstokes/5-advpython)\n",
    "* [6 Data Formats and Storage](https://notebooks.anaconda.org/ijstokes/6-dataformatsstorage)\n",
    "* [7 Fast Numeric Arrays](https://notebooks.anaconda.org/ijstokes/7-fastnumericarrays)\n",
    "* [8 Tabular Data](https://notebooks.anaconda.org/ijstokes/8-tabulardata)\n",
    "* [9 Machine Learning](https://notebooks.anaconda.org/ijstokes/9-machinelearning)\n",
    "* [10 Optimization in Python](https://notebooks.anaconda.org/ijstokes/10-optimization1)\n",
    "* [11 Optimization using C extensions](https://notebooks.anaconda.org/ijstokes/11-optimization2)\n",
    "* [12 Tools and Techniques](https://notebooks.anaconda.org/ijstokes/12-toolsandtechniques)\n",
    "* [13 Scientific Python](https://notebooks.anaconda.org/ijstokes/13-scientificpython)\n",
    "* [15 Visualization with Bokeh](https://notebooks.anaconda.org/ijstokes/15-visualization-bokeh)\n",
    "* [16 Visualization with Matplotlib](https://notebooks.anaconda.org/ijstokes/16-visualization-matplotlib)"
   ]
  },
  {
   "cell_type": "markdown",
   "metadata": {},
   "source": [
    "Alternate Interfaces\n",
    "-------------------\n",
    "* [Wakari Public Viewing](http://release.demo.wakari.io:8080/ijstokes/saleswk/viewer/public/0-IntroPython.ipynb)\n",
    "* [Wakari Project View](http://release.demo.wakari.io/ijstokes/saleswk)\n",
    "    * requires [account creation](http://release.demo.wakari.io/) and login first\n",
    "* [Jupyter Hub](http://release.demo.wakari.io:8000/)\n",
    "* [Rodeo](http://release.demo.wakari.io:8888/)\n",
    "* [Browse Anaconda](http://anaconda.org/ijstokes)\n",
    "* wakari.io http://j.mp/python-adv-isr22 (ask for password)"
   ]
  },
  {
   "cell_type": "markdown",
   "metadata": {},
   "source": [
    "Graphical Setup\n",
    "--------------\n",
    "1. [Install Anaconda](http://continuum.io)\n",
    "2. Download this notebook (link at top of page)\n",
    "3. Double click on *Anaconda Launcher* icon on desktop\n",
    "4. Select *Environment*, then *New Environment* and enter:\n",
    "    * Name: `saleswk`\n",
    "    * Version: `3.4`\n",
    "5. Select *Install* for the *IPython Notebook* app\n",
    "6. Select *Launch* for the *IPython Notebook* app\n",
    "7. Navigate to the location where you downloaded this notebook (probably *Downloads*)\n",
    "8. Click on the notebook `0-IntroPython`\n",
    "\n",
    "Command-line Setup\n",
    "-----------------\n",
    "1. [Install Anaconda](http://continuum.io)\n",
    "2. Open your command line terminal (`Terminal.app`, `bash`, `Powershell`, etc.)\n",
    "    * Windows: *Start* -> `cmd.exe`\n",
    "    * Mac: *Spotlight* -> `terminal`\n",
    "3. From the CLI, create a working directory and change into it.\n",
    "4. Execute the following: **NOTE:** This does not currently work due to [this bug](https://github.com/conda/conda-env/issues/177)\n",
    "    ```bash\n",
    "    conda install anaconda-client\n",
    "    conda env create ijstokes/saleswk\n",
    "    source activate saleswk            # on Windows, just \"activate saleswk\"\n",
    "    anaconda notebook download ijstokes/0-intropython\n",
    "    jupyter notebook\n",
    "    ```\n",
    "5. (workaround) Instead, try this:\n",
    "    ```bash\n",
    "    conda install anaconda-client\n",
    "    conda create -n saleswk python=3.4 jupyter blaze bokeh pandas numpy matplotlib\n",
    "    source activate saleswk            # on Windows, just \"activate saleswk\"\n",
    "    anaconda notebook download ijstokes/0-intropython\n",
    "    jupyter notebook\n",
    "    ```\n",
    "6. Click on the notebook `0-IntroPython`"
   ]
  },
  {
   "cell_type": "markdown",
   "metadata": {},
   "source": [
    "Run Some Code!\n",
    "-------------\n",
    "When you have completed the setup process above, and are looking at this notebook inside of Jupyter, click in the *Cell* below and press `SHIFT-ENTER` to run it."
   ]
  },
  {
   "cell_type": "code",
   "execution_count": 1,
   "metadata": {
    "collapsed": false
   },
   "outputs": [
    {
     "name": "stdout",
     "output_type": "stream",
     "text": [
      "loop number 0 result 0\n",
      "loop number 1 result 1\n",
      "loop number 2 result 4\n",
      "loop number 3 result 9\n",
      "loop number 4 result 16\n"
     ]
    }
   ],
   "source": [
    "loops = 5\n",
    "for i in range(loops):\n",
    "    print('loop number', i, 'result', i**2)"
   ]
  },
  {
   "cell_type": "markdown",
   "metadata": {},
   "source": [
    "Now try changing it and re-running it (e.g. change the number of loops, or do the cube of `i` instead of the square)"
   ]
  },
  {
   "cell_type": "markdown",
   "metadata": {},
   "source": [
    "Topics for module\n",
    "----------------\n",
    "\n",
    "* [Introduction to Python](#Introduction-to-Python)\n",
    "\t* [Topics for module](#Topics-for-module)\n",
    "\t\t* [Developed by](#Developed-by)\n",
    "\t\t* [Taught by](#Taught-by)\n",
    "\t\t* [Some comments on pedagogical style](#Some-comments-on-pedagogical-style)\n",
    "\t* [Working with `conda`](#Working-with-conda)\n",
    "\t* [Let's have some fun in the next few cells](#Let's-have-some-fun-in-the-next-few-cells)\n",
    "\t* [Python Versions](#Python-Versions)\n",
    "\t* [What is Python?](#What-is-Python?)\n",
    "\t* [Great Python Tools](#Great-Python-Tools)\n",
    "\t* [Reading and Reference](#Reading-and-Reference)\n",
    "\t* [The wheat and chessboard problem](#The-wheat-and-chessboard-problem)\n",
    "\t* [Python Language Mental Model](#Python-Language-Mental-Model)\n",
    "\t\t* [Reserved words (not for variables)](#Reserved-words-%28not-for-variables%29)\n",
    "\t* [`__builtin__`](#__builtin__)\n",
    "\t\t* [Names you really *shouldn't* use (built-in functions)](#Names-you-really-*shouldn't*-use-%28built-in-functions%29)\n",
    "\t* [Outside the Notebook](#Outside-the-Notebook)\n",
    "\t\t* [Python Standard Library](#Python-Standard-Library)\n",
    "\t\t* [Technical digression on the Python interpreter](#Technical-digression-on-the-Python-interpreter)\n",
    "\t\t* [Some technical notes on lookups](#Some-technical-notes-on-lookups)\n",
    "\t\t* [Branching](#Branching)\n",
    "\t\t* [Boolean and Relational Operators](#Boolean-and-Relational-Operators)\n",
    "\t\t* [Ternary operator](#Ternary-operator)\n",
    "\t* [Exercise (booleans)](#Exercise-%28booleans%29)\n",
    "\t\t* [Identity and equality](#Identity-and-equality)\n",
    "\t* [Exercise (printing)](#Exercise-%28printing%29)\n",
    "\t\t* [Long lines](#Long-lines)\n",
    "\t\t* [User input](#User-input)\n",
    "\t* [Exercise (user input)](#Exercise-%28user-input%29)\n",
    "\t* [Exercise (Python as a calculator)](#Exercise-%28Python-as-a-calculator%29)\n",
    "\t* [Python Basic Datatypes](#Python-Basic-Datatypes)\n",
    "\t* [Operations on integers and floats](#Operations-on-integers-and-floats)\n",
    "\t* [Working with strings](#Working-with-strings)\n",
    "\t\t* [Escape codes](#Escape-codes)\n",
    "\t\t* [Strings are immutable sequences (of smaller strings)](#Strings-are-immutable-sequences-%28of-smaller-strings%29)\n",
    "\t\t* [Strings have many useful methods (that return new strings)](#Strings-have-many-useful-methods-%28that-return-new-strings%29)\n",
    "\t\t* [Two different styles of guarding a result](#Two-different-styles-of-guarding-a-result)\n",
    "\t\t* [The `textwrap` module](#The-textwrap-module)\n",
    "\t\t* [Formatting strings (old-style)](#Formatting-strings-%28old-style%29)\n",
    "\t\t* [The `format()` mini-language](#The-format%28%29-mini-language)\n",
    "\t\t* [Details on the `format()` mini-language](#Details-on-the-format%28%29-mini-language)\n",
    "\t\t* [`format()` allows several data-structures for specifiying values](#format%28%29-allows-several-data-structures-for-specifiying-values)\n",
    "\t* [Exercise (report formatting)](#Exercise-%28report-formatting%29)\n",
    "\t* [Proposed solutions:](#Proposed-solutions:)\n",
    "\t* [Regular Expressions](#Regular-Expressions)\n",
    "\t* [Exercise (regular expressions)](#Exercise-%28regular-expressions%29)\n",
    "\t* [Data structures](#Data-structures)\n",
    "\t\t* [Lists](#Lists)\n",
    "\t* [Quiz: What's wrong with the above examples of lists?](#Quiz:-What's-wrong-with-the-above-examples-of-lists?)\n",
    "\t* [Exercise (comparisons)](#Exercise-%28comparisons%29)\n",
    "\t* [Iteration](#Iteration)\n",
    "\t* [Quiz: Python mental model](#Quiz:-Python-mental-model)\n",
    "\t* [Exercise (mortgage calculator)](#Exercise-%28mortgage-calculator%29)\n",
    "\t* [Data structures](#Data-structures)\n",
    "\t\t* [None](#None)\n",
    "\t\t* [Tuples](#Tuples)\n",
    "\t\t* [`collections.namedtuple`](#collections.namedtuple)\n",
    "\t\t* [Dictionaries](#Dictionaries)\n",
    "\t\t* [Other special datatypes](#Other-special-datatypes)\n",
    "\t\t\t* [`collections.ordereddict`](#collections.ordereddict)\n",
    "\t\t\t* [`collections.Counter`](#collections.Counter)\n",
    "\t\t* [Sets](#Sets)\n",
    "\t* [Exercise (choosing data structures)](#Exercise-%28choosing-data-structures%29)\n",
    "\t* [Input and output](#Input-and-output)\n",
    "\t\t* [Basic file I/O](#Basic-file-I/O)\n",
    "\t\t* [Delimited data files](#Delimited-data-files)\n",
    "\t* [Exercise (file like objects)](#Exercise-%28file-like-objects%29)\n",
    "\t* [Comprehensions](#Comprehensions)\n",
    "\t* [A bit more on loops](#A-bit-more-on-loops)\n",
    "\t* [Functions](#Functions)\n",
    "\t\t* [Returning values](#Returning-values)\n",
    "\t\t* [Lambdas](#Lambdas)\n",
    "\t\t* [Generator functions](#Generator-functions)\n",
    "\t\t\t* [`yield`](#yield)\n",
    "\t\t\t* [`yield from`](#yield-from)\n",
    "\t\t* [Module: itertools](#Module:-itertools)\n",
    "\t\t* [Large sequences, even if not quite infinitely long](#Large-sequences,-even-if-not-quite-infinitely-long)\n",
    "\t\t* [Chaining iterables](#Chaining-iterables)\n",
    "\t* [Exercise (creating iterables)](#Exercise-%28creating-iterables%29)\n",
    "\t\t* [`nonlocal` and `global`](#nonlocal-and-global)\n",
    "\t* [Classes](#Classes)\n",
    "\t* [Performing magic with classes](#Performing-magic-with-classes)\n",
    "\t* [Exercise (create a magic object)](#Exercise-%28create-a-magic-object%29)\n",
    "\t* [Exceptions](#Exceptions)\n",
    "\t* [Writing scripts](#Writing-scripts)\n",
    "\t* [Modules and Packages (and sub-packages)](#Modules-and-Packages-%28and-sub-packages%29)\n",
    "\t* [Exercise (creating packages)](#Exercise-%28creating-packages%29)\n"
   ]
  },
  {
   "cell_type": "markdown",
   "metadata": {},
   "source": [
    "### Some comments on pedagogical style"
   ]
  },
  {
   "cell_type": "markdown",
   "metadata": {},
   "source": [
    "For the most part, we will introduce new concepts incrementally. Sometimes examples will deliberately introduce something you haven't seen yet. You can probably guess what these new constructs are doing along the way, but if they are unclear, **please** stop and ask for more information.  \n",
    "\n",
    "Even if you think you understand—either something covered explicitly, or something thrown in early—and would like to play with that construct some more, *let's do it!* The great thing about Notebooks (and about the Python interactive shell itself) is that we can play around, try things out, interactively discover options, and so on. We'll learn this material *together,* and experimentation and exploration is a much better way to learn than passive observation. \n",
    "\n",
    "* Discussion mixed with exercises\n",
    "* Please ask questions\n",
    "* Don't hesitate to ask for more detail"
   ]
  },
  {
   "cell_type": "markdown",
   "metadata": {},
   "source": [
    "## Working with `conda`"
   ]
  },
  {
   "cell_type": "markdown",
   "metadata": {},
   "source": [
    "**Create an environment**\n",
    "\n",
    "```bash\n",
    "% conda create -n py34 python=3.4 numpy=1.9\n",
    "```"
   ]
  },
  {
   "cell_type": "markdown",
   "metadata": {},
   "source": [
    "**From an environment file (`environment.yml`)**\n",
    "\n",
    "```bash\n",
    "% cat environment.yml\n",
    "name: pandas-tutorial-2\n",
    "dependencies:\n",
    "  - python=3.4\n",
    "  - pandas\n",
    "  - bokeh\n",
    "  - blaze\n",
    "  - ipython\n",
    "  - ipython-notebook\n",
    "  - numpy\n",
    "% conda env create \n",
    "```"
   ]
  },
  {
   "cell_type": "markdown",
   "metadata": {},
   "source": [
    "**Activate an environment**\n",
    "\n",
    "```bash\n",
    "% source activate py34\n",
    "\n",
    "What packages are in that enviroment?**\n",
    "\n",
    "```"
   ]
  },
  {
   "cell_type": "markdown",
   "metadata": {},
   "source": [
    "```bash\n",
    "% conda list\n",
    "```\n",
    "**Store a requirements file**\n",
    "\n"
   ]
  },
  {
   "cell_type": "markdown",
   "metadata": {},
   "source": [
    "% conda env export > freeze.yml\n",
    "```\n",
    "\n",
    "**Deactivate an environment**\n",
    "\n",
    "```bash"
   ]
  },
  {
   "cell_type": "markdown",
   "metadata": {},
   "source": [
    "% source deactivate\n",
    "```\n",
    "\n",
    "**List environments in your system**\n",
    "\n",
    "```bash"
   ]
  },
  {
   "cell_type": "markdown",
   "metadata": {},
   "source": [
    "% conda info -e\n",
    "```"
   ]
  },
  {
   "cell_type": "markdown",
   "metadata": {},
   "source": [
    "<hr/>\n",
    "This tutorial, and Python in general, run more smoothly under Python 3.x.\n",
    "\n",
    "Whether you're running on Python 2 or Python 3, please install [Python-Future](http://python-future.org/futurize.html):\n",
    "```bash\n",
    "conda install future\n",
    "```"
   ]
  },
  {
   "cell_type": "code",
   "execution_count": null,
   "metadata": {
    "collapsed": false
   },
   "outputs": [],
   "source": [
    "from __future__ import (absolute_import, division,\n",
    "                        print_function, unicode_literals)\n",
    "from future import standard_library\n",
    "standard_library.install_aliases()\n",
    "from future.builtins import (\n",
    "         bytes, dict, int, list, object, range, str,\n",
    "         ascii, chr, hex, input, next, oct, open,\n",
    "         pow, round, super, filter, map, zip)"
   ]
  },
  {
   "cell_type": "markdown",
   "metadata": {},
   "source": [
    "## Let's have some fun in the next few cells"
   ]
  },
  {
   "cell_type": "code",
   "execution_count": null,
   "metadata": {
    "collapsed": false
   },
   "outputs": [],
   "source": [
    "import this"
   ]
  },
  {
   "cell_type": "code",
   "execution_count": null,
   "metadata": {
    "collapsed": false
   },
   "outputs": [],
   "source": [
    "import antigravity"
   ]
  },
  {
   "cell_type": "code",
   "execution_count": null,
   "metadata": {
    "collapsed": false
   },
   "outputs": [],
   "source": [
    "print(\"Hello world\")"
   ]
  },
  {
   "cell_type": "markdown",
   "metadata": {},
   "source": [
    "## Python Versions"
   ]
  },
  {
   "cell_type": "markdown",
   "metadata": {},
   "source": [
    "`MAJOR.MINOR.MICRO`\n",
    "\n",
    "E.g. `1.5.2`\n",
    "\n",
    "* Major version: Significant change to language structure (grammar and reserved words), and implementation.\n",
    "\n",
    "* Minor version: Attempts to be forward- and backward-compatible, but introduces new *Standard Library* modules or updates to existing modules.\n",
    "    * forward-/backward-compatibility is not guaranteed\n",
    "    * always give 2 minor versions advance notice of language changes\n",
    "    \n",
    "* Micro version: only bug fixes -- no language or API changes"
   ]
  },
  {
   "cell_type": "code",
   "execution_count": null,
   "metadata": {
    "collapsed": false
   },
   "outputs": [],
   "source": [
    "import sys\n",
    "print(sys.version)"
   ]
  },
  {
   "cell_type": "code",
   "execution_count": null,
   "metadata": {
    "collapsed": false
   },
   "outputs": [],
   "source": [
    "print(\"Hello World\", sys.version, 3.141592657)"
   ]
  },
  {
   "cell_type": "code",
   "execution_count": null,
   "metadata": {
    "collapsed": false
   },
   "outputs": [],
   "source": [
    "help(sys)"
   ]
  },
  {
   "cell_type": "code",
   "execution_count": null,
   "metadata": {
    "collapsed": false
   },
   "outputs": [],
   "source": [
    "dir(sys)"
   ]
  },
  {
   "cell_type": "code",
   "execution_count": null,
   "metadata": {
    "collapsed": false
   },
   "outputs": [],
   "source": [
    "sys.flags"
   ]
  },
  {
   "cell_type": "code",
   "execution_count": null,
   "metadata": {
    "collapsed": false
   },
   "outputs": [],
   "source": [
    "sys.version_info"
   ]
  },
  {
   "cell_type": "code",
   "execution_count": null,
   "metadata": {
    "collapsed": false
   },
   "outputs": [],
   "source": [
    "major_version = sys.version_info.major\n",
    "print(major_version)"
   ]
  },
  {
   "cell_type": "markdown",
   "metadata": {},
   "source": [
    "## What is Python?"
   ]
  },
  {
   "cell_type": "markdown",
   "metadata": {},
   "source": [
    "* An interpreted, high-level programming language.\n",
    "* Similar to Perl, Ruby, Tcl, and other so-called \"scripting languages.\"\n",
    "* Created by Guido van Rossum around 1990. Named in honor of Monty Python."
   ]
  },
  {
   "cell_type": "markdown",
   "metadata": {},
   "source": [
    "## Great Python Tools"
   ]
  },
  {
   "cell_type": "markdown",
   "metadata": {},
   "source": [
    "* <a href=\"http://ipython.org\">IPython</a>\n",
    "    * command line: `ipython`\n",
    "    * web view: `ipython notebook`\n",
    "* <a href=\"https://code.google.com/p/spyderlib/\">Spyder</a> Python IDE\n",
    "    * included with Anaconda*\n",
    "* <a href=\"https://www.jetbrains.com/pycharm/\">PyCharm</a> Python IDE\n",
    "    * free community edition\n",
    "* <a href=\"http://pydev.org/\">PyDev</a> Eclipse IDE plugin for Python development\n",
    "* <a href=\"http://www.sublimetext.com/\">Sublime Text 3</a> cross-platform programmer's editor"
   ]
  },
  {
   "cell_type": "markdown",
   "metadata": {},
   "source": [
    "## Reading and Reference"
   ]
  },
  {
   "cell_type": "markdown",
   "metadata": {},
   "source": [
    "* <a href=\"http://python.net/~goodger/projects/pycon/2007/idiomatic/handout.html\">Idiomatic Python</a>\n",
    "* Python Style Guides:\n",
    "    * <a href=\"http://legacy.python.org/dev/peps/pep-0008/\">PEP 8</a>\n",
    "    * <a href=\"http://google-styleguide.googlecode.com/svn/trunk/pyguide.html\">Google Python Style Guide</a>\n",
    "* Magic methods:\n",
    "    * <a href=\"http://docs.python.org/reference/datamodel.html#special-method-names\">Official Specs</a>\n",
    "    * <a href=\"http://www.rafekettler.com/magicmethods.html\">Rafe Kettler's great summary</a>\n",
    "* Testing and debugging:\n",
    "    * <a href=\"https://wiki.python.org/moin/DebuggingWithGdb\">Python and gdb</a>\n",
    "    * <a href=\"https://fedoraproject.org/wiki/Features/EasierPythonDebugging\">gdb python plugins</a>\n",
    "    * <a href=\"http://blog.devork.be/2009/07/how-to-bring-running-python-program.html\">attach pdb via signals</a>\n",
    "    * <a href=\"https://pypi.python.org/pypi/pytracemalloc/1.2\">memory profiling: PyTraceMalloc </a>"
   ]
  },
  {
   "cell_type": "markdown",
   "metadata": {},
   "source": [
    "<hr/>"
   ]
  },
  {
   "cell_type": "markdown",
   "metadata": {},
   "source": [
    "## The wheat and chessboard problem"
   ]
  },
  {
   "cell_type": "markdown",
   "metadata": {},
   "source": [
    "*Stories about the invention of chess include a geometric progression problem. The earliest written record of the story is in the Shahnameh, an epic written by the Persian poet Ferdowsi between c. 977 and 1010 CE. In another version, the inventor of chess is Sessa, an ancient Indian Brahmin.*\n",
    "\n",
    "*In the wheat and chessboard problem, the inventor of chess asks his ruler to give him one grain of wheat for the first square on the chessboard on the first day, two grains for the second square on the second day, four grains for the third square on the third day, and so on, always doubling the grains for each square. The ruler laughs at the request, thinking it's a meager prize for a brilliant invention. The court treasurers calculate that an unexpectedly huge number of wheat grains will outstrip the ruler's resources. Stories differ as to whether the inventor became a high-ranking advisor—or was executed for impertinence*\n",
    "\n",
    "Just how audacious was the inventor's request? Let's find out. Then we can discuss whether the smart ass inventor/mathematician deserved a place of honor or execution."
   ]
  },
  {
   "cell_type": "code",
   "execution_count": null,
   "metadata": {
    "collapsed": false
   },
   "outputs": [],
   "source": [
    "import webbrowser\n",
    "url = \"http://en.wikipedia.org/wiki/Wheat_and_chessboard_problem\"\n",
    "webbrowser.open(url)"
   ]
  },
  {
   "cell_type": "code",
   "execution_count": null,
   "metadata": {
    "collapsed": false
   },
   "outputs": [],
   "source": [
    "# Let's set up some constants\n",
    "grains_in_bushel = 950000\n",
    "bushels_in_ton = 36.7437\n",
    "tons_per_annum = 5.8e7   # Produced in the USA"
   ]
  },
  {
   "cell_type": "code",
   "execution_count": null,
   "metadata": {
    "collapsed": false
   },
   "outputs": [],
   "source": [
    "USA_production = grains_in_bushel * bushels_in_ton * tons_per_annum\n",
    "grains_given = 0\n",
    "current_gift = 1\n",
    "for n in range(64):  # Number of squares on chessboard\n",
    "    day = n+1        # perhaps days should count from one\n",
    "    grains_given = grains_given + current_gift\n",
    "    current_gift = 2 * current_gift\n",
    "    if grains_given < USA_production:\n",
    "        message = \"No problem\"\n",
    "    else:\n",
    "        message = \"This feels spendy!\"\n",
    "    if grains_given < 1e6:\n",
    "        amount = str(grains_given)\n",
    "    else:\n",
    "        amount = \"%.0e\" % grains_given \n",
    "    print(\"Day:\", str(day).rjust(2), \n",
    "          \"| Amount of gift:\", amount, \"grains\", \n",
    "          \"|\", message)"
   ]
  },
  {
   "cell_type": "markdown",
   "metadata": {},
   "source": [
    "Let's ask a simple question: On what day does the ruler balk? "
   ]
  },
  {
   "cell_type": "code",
   "execution_count": null,
   "metadata": {
    "collapsed": false
   },
   "outputs": [],
   "source": [
    "# We might want to use some of these math functions\n",
    "from math import sqrt, factorial, log, ceil, floor, log10, log2\n",
    "\n",
    "from gzip import decompress\n",
    "decompress(b'\\x1f\\x8b\\x08\\x00c\\xd7sU\\x02\\xff+.H\\xcdK\\xa9T\\xb0'\n",
    "           b'UHN\\xcd\\xcc\\xd1\\xc8\\xc9O7\\xd2\\x08\\rv\\x8c/(\\xcaO)'\n",
    "           b'M.\\xc9\\xcc\\xcf\\xd3\\xd4\\x04\\x00\\xafHv\\xc4#\\x00\\x00\\x00')"
   ]
  },
  {
   "cell_type": "code",
   "execution_count": null,
   "metadata": {
    "collapsed": false
   },
   "outputs": [],
   "source": [
    "spendy = ceil(log2(USA_production))\n",
    "spendy"
   ]
  },
  {
   "cell_type": "code",
   "execution_count": null,
   "metadata": {
    "collapsed": false
   },
   "outputs": [],
   "source": [
    "from math import *\n",
    "help(pow)"
   ]
  },
  {
   "cell_type": "code",
   "execution_count": null,
   "metadata": {
    "collapsed": false
   },
   "outputs": [],
   "source": [
    "height = 442           # An integer \n",
    "height = 442.0         # Floating point \n",
    "height = \"Really tall\" # A string\n",
    "print(height)"
   ]
  },
  {
   "cell_type": "markdown",
   "metadata": {},
   "source": [
    "## Python Language Mental Model"
   ]
  },
  {
   "cell_type": "markdown",
   "metadata": {},
   "source": [
    "* 33 reserved words: (aka <a href=\"https://docs.python.org/3.4/reference/lexical_analysis.html#keywords\">Python keywords</a>)\n",
    "    * *logic:* `and, not, or`\n",
    "    * *namespaces:* `import, from, as, del, global`\n",
    "    * *object creation:* `class, def, lambda`\n",
    "    * *functions:* `return, print, yield`\n",
    "    * *looping:* `while, for, break, continue`\n",
    "    * *conditional:* `if, else, elif`\n",
    "    * *exceptions:* `try, except, finally, raise`\n",
    "    * *misc:* `pass, assert, with, exec, in, is`"
   ]
  },
  {
   "cell_type": "markdown",
   "metadata": {},
   "source": [
    "\"Variable names follow same rules as C: `[A-Za-z_][A-Za-z0-9_]*`\"\n",
    "\n",
    "**Actually, this is no longer true in Python 3.x!**\n",
    "\n",
    "See: [PEP 3131 -- Supporting Non-ASCII Identifiers](https://www.python.org/dev/peps/pep-3131/)\n",
    "\n",
    "> Within the ASCII range (U+0001..U+007F), the valid characters for identifiers are the same as in Python 2.5. This specification only introduces additional characters from outside the ASCII range. For other characters, the classification uses the version of the Unicode Character Database as included in the unicodedata module.\n",
    "\n",
    "> The identifier syntax is &lt;XID_Start&gt; &lt;XID_Continue&gt;.\n",
    "\n",
    "> The exact specification of which characters have the [XID_Start or XID_Continue](http://www.unicode.org/Public/4.1.0/ucd/DerivedCoreProperties.txt) properties can be found in the DerivedCoreProperties file of the Unicode data in use by Python.\n",
    "\n",
    "You do not declare types (int, float, etc.)"
   ]
  },
  {
   "cell_type": "markdown",
   "metadata": {},
   "source": [
    "### Reserved words (not for variables)"
   ]
  },
  {
   "cell_type": "markdown",
   "metadata": {},
   "source": [
    "|      |        |        |        |        |\n",
    "|------|--------|--------|--------|--------|\n",
    "|False | class  |finally | is     | return |\n",
    "|None  |continue| for    | lambda | try    |\n",
    "|True  | def    | from   |nonlocal| while  |\n",
    "|and   | del    | global | not    | with   |\n",
    "|as    | elif   | if     | or     | yield  |\n",
    "|assert| else   | import | pass   |\n",
    "|break | except | in     | raise  |"
   ]
  },
  {
   "cell_type": "markdown",
   "metadata": {},
   "source": [
    "##`__builtin__`"
   ]
  },
  {
   "cell_type": "markdown",
   "metadata": {},
   "source": [
    "* Interpreter starts up knowing (almost) *nothing* but language syntax\n",
    "* The Python language defines a special module called *__builtin__* that is part of the Standard Library\n",
    "* It contains *functions*, *exceptions*, and *classes* that are very common:\n",
    "    * Just over a dozen core types\n",
    "        * *None, int, long, float, bool, complex, str, bytes, byetarray, list, dict, tuple, set*\n",
    "    * around 20 supporting types\n",
    "        * *range, Ellipsis, object, ...*\n",
    "    * 59 exceptions (CamelCase, mostly ending in *Error* or *Warning*)\n",
    "    * 50+ functions\n",
    "        * Math: *abs min max pow round sum divmod*\n",
    "        * Logic: *all any apply map filter*\n",
    "        * Check: *callable isinstance issubclass*\n",
    "        * Convert: *bin chr hex cmp coerce oct ord unichr*\n",
    "        * Introspect: *dir id vars locals globals hasattr getattr setattr delattr compile eval execfile intern hash repr*\n",
    "        * File: *open*\n",
    "        * Iterable: *len range zip iter next sorted reversed*\n",
    "        * Other: *format reload*"
   ]
  },
  {
   "cell_type": "code",
   "execution_count": null,
   "metadata": {
    "collapsed": false
   },
   "outputs": [],
   "source": [
    "len([name for name in dir(__builtins__) \n",
    "          if name.endswith(('Error','Warning'))])"
   ]
  },
  {
   "cell_type": "code",
   "execution_count": null,
   "metadata": {
    "collapsed": false
   },
   "outputs": [],
   "source": [
    "[name for name in dir(__builtins__) \n",
    "          if name.endswith(('Error','Warning'))]"
   ]
  },
  {
   "cell_type": "markdown",
   "metadata": {},
   "source": [
    "### Names you really *shouldn't* use (built-in functions)"
   ]
  },
  {
   "cell_type": "markdown",
   "metadata": {},
   "source": [
    "|        |        |           |       |          |          |         |       |\n",
    "|--------|--------|-----------|-------|----------|----------|---------|-------|\n",
    "| abs    | all    | any       | ascii |  bin     | bool     |bytearray| bytes | \n",
    "|callable| chr    |classmethod|compile| complex  |copyright | credits |delattr|\n",
    "| dict   | dir    | divmod    | reload|enumerate | eval     | exec    | filter|\n",
    "| float  | format | frozenset |getattr| globals  | hasattr  | hash    | help  |\n",
    "| hex    | id     | input     | int   |isinstance|issubclass| iter    | len   |\n",
    "|license | list   | locals    | map   | max      |memoryview|   min   | next  |\n",
    "| object | oct    | open      | ord   | pow      | print    | property| range |\n",
    "|  repr  |reversed| round     | set   | setattr  | slice    | sorted  |staticmethod\n",
    "| str    | sum    | super     | tuple | type     | vars     | zip\n",
    "\n",
    "A common convention to avoid name collision with built-in or reserved words is to add a trailing underscore, e.g.:\n",
    "\n",
    "```python\n",
    "map_ = get_USA_map()\n",
    "id_ = db.primary_key_for(\"David\", \"Mertz\")\n",
    "class_ = student.graduating_year\n",
    "```"
   ]
  },
  {
   "cell_type": "code",
   "execution_count": null,
   "metadata": {
    "collapsed": false
   },
   "outputs": [],
   "source": [
    "bi = dir(__builtin__)\n",
    "bi"
   ]
  },
  {
   "cell_type": "code",
   "execution_count": null,
   "metadata": {
    "collapsed": false
   },
   "outputs": [],
   "source": [
    "help(all)"
   ]
  },
  {
   "cell_type": "code",
   "execution_count": null,
   "metadata": {
    "collapsed": false
   },
   "outputs": [],
   "source": [
    "help(webbrowser.open)"
   ]
  },
  {
   "cell_type": "code",
   "execution_count": null,
   "metadata": {
    "collapsed": false
   },
   "outputs": [],
   "source": [
    "def hello(name):\n",
    "    \"\"\"This function says hello to the caller\n",
    "    \n",
    "    The argument 'name' should be a persons firstname\n",
    "    \"\"\"\n",
    "    print(\"Hello\", name)\n",
    "    \n",
    "hello(\"Raghav\")"
   ]
  },
  {
   "cell_type": "code",
   "execution_count": null,
   "metadata": {
    "collapsed": false
   },
   "outputs": [],
   "source": [
    "help(hello)"
   ]
  },
  {
   "cell_type": "markdown",
   "metadata": {},
   "source": [
    "## Outside the Notebook"
   ]
  },
  {
   "cell_type": "markdown",
   "metadata": {},
   "source": [
    "Before proceeding, let's go through a brief explanation of files, editors and IDEs, the command line, the interactive prompt, running Python modules, etc...\n",
    "\n",
    "<hr/>"
   ]
  },
  {
   "cell_type": "markdown",
   "metadata": {},
   "source": [
    "### Python Standard Library"
   ]
  },
  {
   "cell_type": "markdown",
   "metadata": {},
   "source": [
    "* Python Standard Library offers about 300 amazing modules:\n",
    "    * included with every Python distribution (*\"batteries included\"*)\n",
    "    * well documented\n",
    "    * stable APIs (7-12 years)\n",
    "    * great performance (highly optimized—implemented in C if necessary)\n",
    "    * widely used (field tested: problems will surface fast)\n",
    "    * code reviewed\n",
    "    * great test coverage (~100%)\n",
    "* A killer feature of Python\n",
    "    * so why wouldn't you use them?\n",
    "    * sing it from the mountaintops!\n",
    "* Check the Standard Library **first**:\n",
    "    * before writing it yourself\n",
    "    * before looking in the PyPi or conda\n",
    "* Python Tutorial provides a nice overview in the last few chapters\n",
    "    * skimmable\n",
    "    * includes examples"
   ]
  },
  {
   "cell_type": "markdown",
   "metadata": {},
   "source": [
    "### Technical digression on the Python interpreter"
   ]
  },
  {
   "cell_type": "markdown",
   "metadata": {},
   "source": [
    "Think of a *virgin python interpreter* as an *empty box*. This is what your program will see when it starts running, and what you will see when you start an interactive interpreter session.\n",
    "\n",
    "The interpreter only knows about:\n",
    "\n",
    "* Core syntax\n",
    "* `__main__` module scope (`local` and `global` scope both refer to this)\n",
    "* how to resolve references:\n",
    "    * *local scope* (`locals()`)\n",
    "    * *global scope* (`globals()`)\n",
    "    * `__builtin__` Standard Library module\n",
    "* Interpreter starts with usual module metadata references:\n",
    "    * `__name__`: name of the module (always `__main__` for initial interpreter instance)\n",
    "    * `__package__`: name of the package this module is in (always `None` for initial interpreter instance)\n",
    "    * `__doc__`: module *docstring* (always `None` for initial interpreter instance)\n",
    "    * *CPython implementation detail:* CPython interpreter will automatically add a reference `__builtins__` to all *global* scopes\n",
    "    \n",
    "Everything else needs to \"appear\" via:\n",
    "\n",
    "1. *assignment statements*:\n",
    "    `REFERENCE = EXPRESSION`,\n",
    "    e.g. `x = 3` or `y = sort(['foo', 'bar', 'zip'])`\n",
    "2. *import statements*: imports modules or creates references to objects defined in modules\n",
    "3. *class statements*: creates a class object and adds a reference in the *local* scope\n",
    "4. *def statements*: creates a function object and adds a reference in the *local* scope"
   ]
  },
  {
   "cell_type": "markdown",
   "metadata": {},
   "source": [
    "### Some technical notes on lookups"
   ]
  },
  {
   "cell_type": "markdown",
   "metadata": {},
   "source": [
    "* Any reference lookup that doesn't find the reference in the *local* namespace (first) or the *global* (which means *module*) namespace (second) will check the `__builtin__` modules namespace (third)\n",
    "* CPython automatically provides a reference to the `__builtin__` module in every *global* namespace but gives it the name `__builtins__`\n",
    "    * under normal use, you never need to use this module reference\n",
    "* If the *local* or *global* namespace has a reference that is found in `__builtin__` then the `__builtin__` reference will be masked"
   ]
  },
  {
   "cell_type": "markdown",
   "metadata": {},
   "source": [
    "### Branching"
   ]
  },
  {
   "cell_type": "code",
   "execution_count": null,
   "metadata": {
    "collapsed": false
   },
   "outputs": [],
   "source": [
    "# If-else\n",
    "from random import random\n",
    "a, b = random(), random()\n",
    "\n",
    "if a < b:\n",
    "    print(\"Computer says no\")\n",
    "else:\n",
    "    print(\"Computer says yes\")"
   ]
  },
  {
   "cell_type": "code",
   "execution_count": null,
   "metadata": {
    "collapsed": true
   },
   "outputs": [],
   "source": [
    "# No requirement for else branch\n",
    "if 2+2 == 5:\n",
    "    print(\"This seems wrong, somehow!\")"
   ]
  },
  {
   "cell_type": "code",
   "execution_count": null,
   "metadata": {
    "collapsed": false
   },
   "outputs": [],
   "source": [
    "import random\n",
    "random.seed(123)\n",
    "for _ in range(10):\n",
    "    print(random.random())"
   ]
  },
  {
   "cell_type": "code",
   "execution_count": null,
   "metadata": {
    "collapsed": false
   },
   "outputs": [],
   "source": [
    "import random\n",
    "for _ in range(10):\n",
    "    print(random.random())"
   ]
  },
  {
   "cell_type": "code",
   "execution_count": null,
   "metadata": {
    "collapsed": false
   },
   "outputs": [],
   "source": [
    "# If-elif-else\n",
    "PLUS, MINUS, TIMES, UNKNOWN = range(4)\n",
    "from random import randint\n",
    "a = \"+-*_\"[randint(0,3)]\n",
    "\n",
    "if a == '+':\n",
    "    op = PLUS\n",
    "elif a == '-': \n",
    "    op = MINUS \n",
    "elif a == '*': \n",
    "    op = TIMES\n",
    "else:\n",
    "    op = UNKNOWN\n",
    "    \n",
    "print(op)"
   ]
  },
  {
   "cell_type": "code",
   "execution_count": null,
   "metadata": {
    "collapsed": false
   },
   "outputs": [],
   "source": [
    "if 2+2 == 5:\n",
    "    print(\"Big brother is right!\")\n",
    "elif 3 > 4:\n",
    "    print(\"My math is off\")\n",
    "else:\n",
    "    if 3+5 == 6:\n",
    "        print(\"Still not right\")\n",
    "    else:\n",
    "        print(\"Things seem right\")"
   ]
  },
  {
   "cell_type": "markdown",
   "metadata": {},
   "source": [
    "There is a slight \"hack\" to implement something close to a switch statement in Python.  Pythonistas will disagree on how idiomatic this is, but it has a certain elegance."
   ]
  },
  {
   "cell_type": "code",
   "execution_count": null,
   "metadata": {
    "collapsed": false
   },
   "outputs": [],
   "source": [
    "def named_function(): print('choice d')\n",
    "\n",
    "branches = {'a':lambda: print(\"choice a\"),\n",
    "            'b':lambda: print(\"choice b\"),\n",
    "            'c':lambda: print(\"choice c\"),\n",
    "            'd':named_function}\n",
    "\n",
    "letter = input(\"Which letter? \")\n",
    "branches[letter]()"
   ]
  },
  {
   "cell_type": "code",
   "execution_count": null,
   "metadata": {
    "collapsed": false
   },
   "outputs": [],
   "source": [
    "import math\n",
    "if 'math' in vars():\n",
    "    print(\"We have imported the math module\")"
   ]
  },
  {
   "cell_type": "markdown",
   "metadata": {},
   "source": [
    "### Boolean and Relational Operators"
   ]
  },
  {
   "cell_type": "markdown",
   "metadata": {},
   "source": [
    "|LT |GT |LE  |GE  |EQ  |NE  | AND | OR | NOT |\n",
    "|---|---|----|----|----|----|-----|----|-----|\n",
    "| < | > | <= | >= | == | != | and | or | not |"
   ]
  },
  {
   "cell_type": "code",
   "execution_count": null,
   "metadata": {
    "collapsed": false
   },
   "outputs": [],
   "source": [
    "a, b, c = 1, 2, 3\n",
    "\n",
    "# We can do a couple comparisons in same conditional\n",
    "if b >= a and b <= c:\n",
    "    print(\"b is between a and c\")\n",
    "    \n",
    "# More compactly we could also use:\n",
    "if a <= b <= c:\n",
    "    print(\"b is still between a and c\")\n",
    "    \n",
    "# De Morgan's Law works in Python too\n",
    "if not (b < a or  b > c):\n",
    "    print(\"b remains between a and c\")"
   ]
  },
  {
   "cell_type": "code",
   "execution_count": null,
   "metadata": {
    "collapsed": false
   },
   "outputs": [],
   "source": [
    "a, b, c, d = 1, 2, 3, 4\n",
    "if a < b < c < d:\n",
    "    print(\"Comparison of 4 things\")"
   ]
  },
  {
   "cell_type": "markdown",
   "metadata": {},
   "source": [
    "### Ternary operator"
   ]
  },
  {
   "cell_type": "code",
   "execution_count": null,
   "metadata": {
    "collapsed": false
   },
   "outputs": [],
   "source": [
    "# Compare to the C version:\n",
    "# lastname = (myname==\"David\") ? \"Mertz\" : \"Ramirez\"\n",
    "#\n",
    "myname = \"David\"\n",
    "lastname = \"Mertz\" if myname == \"David\" else \"Ramirez\"\n",
    "print(lastname)\n",
    "\n",
    "# Compare also to this (which is NOT PEP 8 compliant!)\n",
    "if myname == \"David\": \n",
    "    lastname = \"Mertz\"\n",
    "else: \n",
    "    lastname = \"Ramirez\""
   ]
  },
  {
   "cell_type": "markdown",
   "metadata": {},
   "source": [
    "## Exercise (booleans)"
   ]
  },
  {
   "cell_type": "markdown",
   "metadata": {},
   "source": [
    "What values do you think evaluate as True or as False within a conditional expression?\n",
    "\n",
    "Try some experiments and tell me what you find ...."
   ]
  },
  {
   "cell_type": "code",
   "execution_count": null,
   "metadata": {
    "collapsed": false
   },
   "outputs": [],
   "source": [
    "bool(2)"
   ]
  },
  {
   "cell_type": "markdown",
   "metadata": {},
   "source": [
    "### Identity and equality"
   ]
  },
  {
   "cell_type": "code",
   "execution_count": null,
   "metadata": {
    "collapsed": false
   },
   "outputs": [],
   "source": [
    "v1 = \"abc\"\n",
    "v2 = \"abc\"\n",
    "# This answer is not guaranteed, but an implementation detail\n",
    "v1 is v2"
   ]
  },
  {
   "cell_type": "code",
   "execution_count": null,
   "metadata": {
    "collapsed": false
   },
   "outputs": [],
   "source": [
    "abc = \"\".join([\"a\",\"b\",\"c\"])\n",
    "print(abc)\n",
    "bool(\"abc\" is abc)"
   ]
  },
  {
   "cell_type": "code",
   "execution_count": null,
   "metadata": {
    "collapsed": false
   },
   "outputs": [],
   "source": [
    "\"abc\" == abc"
   ]
  },
  {
   "cell_type": "code",
   "execution_count": null,
   "metadata": {
    "collapsed": false
   },
   "outputs": [],
   "source": [
    "id(\"abc\")"
   ]
  },
  {
   "cell_type": "code",
   "execution_count": null,
   "metadata": {
    "collapsed": false
   },
   "outputs": [],
   "source": [
    "id(abc)"
   ]
  },
  {
   "cell_type": "code",
   "execution_count": null,
   "metadata": {
    "collapsed": false
   },
   "outputs": [],
   "source": [
    "id(v1), id(v2)"
   ]
  },
  {
   "cell_type": "code",
   "execution_count": null,
   "metadata": {
    "collapsed": false
   },
   "outputs": [],
   "source": [
    "1 == 1.0"
   ]
  },
  {
   "cell_type": "code",
   "execution_count": null,
   "metadata": {
    "collapsed": false
   },
   "outputs": [],
   "source": [
    "1 is 1.0"
   ]
  },
  {
   "cell_type": "code",
   "execution_count": null,
   "metadata": {
    "collapsed": false
   },
   "outputs": [],
   "source": [
    "x = 1\n",
    "y = 1.0\n",
    "x == y, x is y"
   ]
  },
  {
   "cell_type": "code",
   "execution_count": null,
   "metadata": {
    "collapsed": false
   },
   "outputs": [],
   "source": [
    "int(1e9) is 1000000000, int(1e9) == 1000000000"
   ]
  },
  {
   "cell_type": "code",
   "execution_count": null,
   "metadata": {
    "collapsed": false
   },
   "outputs": [],
   "source": [
    "int(1e1) is 10"
   ]
  },
  {
   "cell_type": "markdown",
   "metadata": {},
   "source": [
    "## Exercise (printing)"
   ]
  },
  {
   "cell_type": "markdown",
   "metadata": {},
   "source": [
    "Let's play with the `print()` function for a while"
   ]
  },
  {
   "cell_type": "code",
   "execution_count": null,
   "metadata": {
    "collapsed": false
   },
   "outputs": [],
   "source": [
    "help(print)"
   ]
  },
  {
   "cell_type": "code",
   "execution_count": null,
   "metadata": {
    "collapsed": false
   },
   "outputs": [],
   "source": [
    "print(\"I'm sorry Dave\", file=sys.stderr)"
   ]
  },
  {
   "cell_type": "code",
   "execution_count": null,
   "metadata": {
    "collapsed": false
   },
   "outputs": [],
   "source": [
    "print(1, 2, 3)\n",
    "print(1, 2, 3, sep=\",\")\n",
    "print(1, 2, 3, end=\"\\n--------\\n\")"
   ]
  },
  {
   "cell_type": "markdown",
   "metadata": {},
   "source": [
    "### Long lines"
   ]
  },
  {
   "cell_type": "code",
   "execution_count": null,
   "metadata": {
    "collapsed": false
   },
   "outputs": [],
   "source": [
    "product, type_, age = \"game\", \"pirate memory\", 6\n",
    "\n",
    "if product==\"game\" and type_==\"pirate memory\" \\\n",
    "                   and age >= 4 and age <= 8:\n",
    "    print(\"I'll take it!\")\n",
    "    \n",
    "if (product==\"game\" and type_==\"pirate memory\" \n",
    "                    and age >= 4 and age <= 8):\n",
    "    print(\"It's mine!\")"
   ]
  },
  {
   "cell_type": "markdown",
   "metadata": {},
   "source": [
    "### User input"
   ]
  },
  {
   "cell_type": "code",
   "execution_count": null,
   "metadata": {
    "collapsed": false
   },
   "outputs": [],
   "source": [
    "name = input(\"Your name:\")\n",
    "print(\"Hello\", name)"
   ]
  },
  {
   "cell_type": "code",
   "execution_count": null,
   "metadata": {
    "collapsed": false
   },
   "outputs": [],
   "source": [
    "pi = input(\"What is pi? \")\n",
    "twopi = float(pi) * 2\n",
    "print(twopi)"
   ]
  },
  {
   "cell_type": "markdown",
   "metadata": {},
   "source": [
    "Another common way to get user input is as command-line arguments."
   ]
  },
  {
   "cell_type": "code",
   "execution_count": null,
   "metadata": {
    "collapsed": false
   },
   "outputs": [],
   "source": [
    "code = \"\"\"\n",
    "import sys\n",
    "for arg in sys.argv:\n",
    "    print(arg)\n",
    "\"\"\"\n",
    "open('showargs.py','w').write(code)\n",
    "!python showargs.py this that other"
   ]
  },
  {
   "cell_type": "markdown",
   "metadata": {},
   "source": [
    "## Exercise (user input)"
   ]
  },
  {
   "cell_type": "markdown",
   "metadata": {},
   "source": [
    "Let's play with the `input()` function for a while.  Try out `eval()` too while you are at it."
   ]
  },
  {
   "cell_type": "markdown",
   "metadata": {},
   "source": [
    "This jumps ahead to several things we have not explicitly discussed, but sometimes input might come from other places too."
   ]
  },
  {
   "cell_type": "code",
   "execution_count": null,
   "metadata": {
    "collapsed": false
   },
   "outputs": [],
   "source": [
    "# Read Seattle Rider Alerts \n",
    "url = \"http://www.soundtransit.org/Schedules/Alerts?rssFeed=true\"\n",
    "\n",
    "from urllib.request import urlopen\n",
    "from html.parser import unescape\n",
    "from xml.etree.ElementTree import fromstring\n",
    "from textwrap import fill\n",
    "\n",
    "raw = urlopen(url).read()\n",
    "info = fromstring(raw)\n",
    "for desc in info.findall(\".//description\"):\n",
    "    if desc.text:\n",
    "        print(fill(unescape(desc.text), 60))\n",
    "        print(\"=\"*60)\n",
    "print(raw)"
   ]
  },
  {
   "cell_type": "markdown",
   "metadata": {},
   "source": [
    "## Exercise (Python as a calculator)"
   ]
  },
  {
   "cell_type": "markdown",
   "metadata": {},
   "source": [
    "Play around with evaluating numeric expressions you'd like to calculate.  Perhaps you want to use capabilities in the `math` module we have seen briefly.  \n",
    "\n",
    "Does anything seem surprising in the syntax or available functions? What did you learn about Python syntax and semantics?"
   ]
  },
  {
   "cell_type": "code",
   "execution_count": null,
   "metadata": {
    "collapsed": false
   },
   "outputs": [],
   "source": [
    " 3 + 4"
   ]
  },
  {
   "cell_type": "code",
   "execution_count": null,
   "metadata": {
    "collapsed": false
   },
   "outputs": [],
   "source": [
    "\"the\" + \"cat\""
   ]
  },
  {
   "cell_type": "code",
   "execution_count": null,
   "metadata": {
    "collapsed": false
   },
   "outputs": [],
   "source": [
    "3 * 4"
   ]
  },
  {
   "cell_type": "code",
   "execution_count": null,
   "metadata": {
    "collapsed": false
   },
   "outputs": [],
   "source": [
    "3 * 'the' # This concatenates the string \"the\" 3 times"
   ]
  },
  {
   "cell_type": "code",
   "execution_count": null,
   "metadata": {
    "collapsed": false
   },
   "outputs": [],
   "source": [
    "2^4 # \"two to the power four\" using a carat for exponeniation... gives logical xor"
   ]
  },
  {
   "cell_type": "code",
   "execution_count": null,
   "metadata": {
    "collapsed": false
   },
   "outputs": [],
   "source": [
    "2**4 # \"two to the power four\" using a ** for exponeniation... gives intended result"
   ]
  },
  {
   "cell_type": "code",
   "execution_count": null,
   "metadata": {
    "collapsed": false
   },
   "outputs": [],
   "source": [
    "25/4 # '/' means divided by"
   ]
  },
  {
   "cell_type": "code",
   "execution_count": null,
   "metadata": {
    "collapsed": false
   },
   "outputs": [],
   "source": [
    "25//4 # '//' means integer division: divide and round down to nearest integer"
   ]
  },
  {
   "cell_type": "markdown",
   "metadata": {},
   "source": [
    "## Python Basic Datatypes"
   ]
  },
  {
   "cell_type": "markdown",
   "metadata": {},
   "source": [
    "* Numbers\n",
    "  * ints (unlimited size)\n",
    "  * floats\n",
    "  * Fractions\n",
    "  * Decimals\n",
    "  * complex\n",
    "  * booleans\n",
    "* Strings"
   ]
  },
  {
   "cell_type": "code",
   "execution_count": null,
   "metadata": {
    "collapsed": false
   },
   "outputs": [],
   "source": [
    "a = 1\n",
    "print(a,type(a))"
   ]
  },
  {
   "cell_type": "code",
   "execution_count": null,
   "metadata": {
    "collapsed": false
   },
   "outputs": [],
   "source": [
    "a = 'a string'\n",
    "print(a, type(a))"
   ]
  },
  {
   "cell_type": "code",
   "execution_count": null,
   "metadata": {
    "collapsed": false
   },
   "outputs": [],
   "source": [
    "a = 4.732\n",
    "print(a, type(a))"
   ]
  },
  {
   "cell_type": "code",
   "execution_count": null,
   "metadata": {
    "collapsed": false
   },
   "outputs": [],
   "source": [
    "# Some integers\n",
    "print(2**8)\n",
    "print(2**32)\n",
    "print(2**64)\n",
    "print(2**65)\n",
    "print(2**129)"
   ]
  },
  {
   "cell_type": "code",
   "execution_count": null,
   "metadata": {
    "collapsed": false
   },
   "outputs": [],
   "source": [
    "# Even a large one\n",
    "2**(2**16)"
   ]
  },
  {
   "cell_type": "code",
   "execution_count": null,
   "metadata": {
    "collapsed": false
   },
   "outputs": [],
   "source": [
    "# Hex integers\n",
    "0xFF03 # 15*16**3 + 15*16**2 +0*16**1 +3*16**0"
   ]
  },
  {
   "cell_type": "code",
   "execution_count": null,
   "metadata": {
    "collapsed": false
   },
   "outputs": [],
   "source": [
    "15*16**3 + 15*16**2 +0*16**1 +3*16**0 # Verify result above"
   ]
  },
  {
   "cell_type": "code",
   "execution_count": null,
   "metadata": {
    "collapsed": false
   },
   "outputs": [],
   "source": [
    "# Octal integers\n",
    "0o76543 # 7*8**4 + 6*8**3 + 5*8**2 + 4*8**1 + 3*8**0"
   ]
  },
  {
   "cell_type": "code",
   "execution_count": null,
   "metadata": {
    "collapsed": false
   },
   "outputs": [],
   "source": [
    "7*8**4 + 6*8**3 + 5*8**2 + 4*8**1 + 3*8**0 # My answer above was correct..."
   ]
  },
  {
   "cell_type": "code",
   "execution_count": null,
   "metadata": {
    "collapsed": false
   },
   "outputs": [],
   "source": [
    "# Binary integers\n",
    "0b10010011"
   ]
  },
  {
   "cell_type": "code",
   "execution_count": null,
   "metadata": {
    "collapsed": false
   },
   "outputs": [],
   "source": [
    "# Types of division (different from Python 2.x)\n",
    "print(2/3)\n",
    "print(2//3)\n",
    "print(2.0//3.0)"
   ]
  },
  {
   "cell_type": "code",
   "execution_count": null,
   "metadata": {
    "collapsed": false
   },
   "outputs": [],
   "source": [
    "# Floating point numbers (IEEE 754)\n",
    "# 17 decimal digits of precision; exponents of -324 to 308.  I.e. a C double\n",
    "23.45"
   ]
  },
  {
   "cell_type": "code",
   "execution_count": null,
   "metadata": {
    "collapsed": false
   },
   "outputs": [],
   "source": [
    "int(3e4) # \"3e4\" means \"3 times 10 to the power 4\""
   ]
  },
  {
   "cell_type": "code",
   "execution_count": null,
   "metadata": {
    "collapsed": false
   },
   "outputs": [],
   "source": [
    "-12345.6e78"
   ]
  },
  {
   "cell_type": "code",
   "execution_count": null,
   "metadata": {
    "collapsed": false
   },
   "outputs": [],
   "source": [
    "-1.23456e310 # overflows to -infinity"
   ]
  },
  {
   "cell_type": "code",
   "execution_count": null,
   "metadata": {
    "collapsed": false
   },
   "outputs": [],
   "source": [
    "for under in range(308, 400):\n",
    "    print(\"1e-%d\" % under)\n",
    "    if float(\"1e-%d\" % under) == 0:\n",
    "        print(under)\n",
    "        break"
   ]
  },
  {
   "cell_type": "code",
   "execution_count": null,
   "metadata": {
    "collapsed": false
   },
   "outputs": [],
   "source": [
    "float('nan') # \"nan\" means \"Not a Number\", e.g., 0/0, inf/0, inf/inf, 0/inf, a handful of other cases."
   ]
  },
  {
   "cell_type": "code",
   "execution_count": null,
   "metadata": {
    "collapsed": false
   },
   "outputs": [],
   "source": [
    "print(1/5)"
   ]
  },
  {
   "cell_type": "code",
   "execution_count": null,
   "metadata": {
    "collapsed": false
   },
   "outputs": [],
   "source": [
    "denominators = [3, 4, 6, 0, 3]\n",
    "for d in denominators:\n",
    "    print(\"d = %d\" % d)\n",
    "    print(7/d)"
   ]
  },
  {
   "cell_type": "code",
   "execution_count": null,
   "metadata": {
    "collapsed": false
   },
   "outputs": [],
   "source": [
    "denominators = [3, 4, 6, 0, 3]\n",
    "for d in denominators:\n",
    "    print(\"d = %d\" % d)\n",
    "    try:\n",
    "        print(7/d)\n",
    "    except ZeroDivisionError:\n",
    "        print(\"Attempt to divide by zero\")"
   ]
  },
  {
   "cell_type": "markdown",
   "metadata": {},
   "source": [
    "* [Python documentation](https://docs.python.org/3.4/library/decimal.html)\n",
    "* [IBM General Decimal Arithmetic Specification](http://speleotrove.com/decimal/decarith.html) (Version 1.70 – 7 Apr 2009)"
   ]
  },
  {
   "cell_type": "code",
   "execution_count": null,
   "metadata": {
    "collapsed": false
   },
   "outputs": [],
   "source": [
    "# Decimal numbers \n",
    "from decimal import *\n",
    "getcontext().prec = 6\n",
    "Decimal(1) / Decimal(7)"
   ]
  },
  {
   "cell_type": "code",
   "execution_count": null,
   "metadata": {
    "collapsed": false
   },
   "outputs": [],
   "source": [
    "# Controlling precision\n",
    "getcontext().prec = 28\n",
    "Decimal(1) / Decimal(7)"
   ]
  },
  {
   "cell_type": "code",
   "execution_count": null,
   "metadata": {
    "collapsed": false
   },
   "outputs": [],
   "source": [
    "getcontext().prec = 300\n",
    "Decimal(1) / Decimal(7)"
   ]
  },
  {
   "cell_type": "code",
   "execution_count": null,
   "metadata": {
    "collapsed": false
   },
   "outputs": [],
   "source": [
    "getcontext().prec = 28 # Still stored internally as binary numbers\n",
    "print(Decimal(.4))\n",
    "print(Decimal(\".4\"))"
   ]
  },
  {
   "cell_type": "code",
   "execution_count": null,
   "metadata": {
    "collapsed": false
   },
   "outputs": [],
   "source": [
    "# Fractions\n",
    "from fractions import *\n",
    "fract = Fraction(2,5)\n",
    "print(fract)"
   ]
  },
  {
   "cell_type": "code",
   "execution_count": null,
   "metadata": {
    "collapsed": false
   },
   "outputs": [],
   "source": [
    "a = Fraction(.4)\n",
    "print(a)\n",
    "print(a.limit_denominator(1000))"
   ]
  },
  {
   "cell_type": "code",
   "execution_count": null,
   "metadata": {
    "collapsed": false
   },
   "outputs": [],
   "source": [
    "# Converting numeric types\n",
    "Decimal(fract) # This doesn't work; someone would have to include type conversion in the deciaml/fraction modules..."
   ]
  },
  {
   "cell_type": "code",
   "execution_count": null,
   "metadata": {
    "collapsed": false
   },
   "outputs": [],
   "source": [
    "float(fract) # This works as intended"
   ]
  },
  {
   "cell_type": "code",
   "execution_count": null,
   "metadata": {
    "collapsed": false
   },
   "outputs": [],
   "source": [
    "Decimal(float(fract)) # This should work"
   ]
  },
  {
   "cell_type": "code",
   "execution_count": null,
   "metadata": {
    "collapsed": false
   },
   "outputs": [],
   "source": [
    "# Booleans: Is the Boolean value \"True\" simply the integer value \"1\"?\n",
    "True == 1 "
   ]
  },
  {
   "cell_type": "code",
   "execution_count": null,
   "metadata": {
    "collapsed": false
   },
   "outputs": [],
   "source": [
    "False < 1"
   ]
  },
  {
   "cell_type": "code",
   "execution_count": null,
   "metadata": {
    "collapsed": false
   },
   "outputs": [],
   "source": [
    "(True + 1) * False"
   ]
  },
  {
   "cell_type": "code",
   "execution_count": null,
   "metadata": {
    "collapsed": false
   },
   "outputs": [],
   "source": [
    "isinstance(True, int)"
   ]
  },
  {
   "cell_type": "code",
   "execution_count": null,
   "metadata": {
    "collapsed": false
   },
   "outputs": [],
   "source": [
    "True is 1"
   ]
  },
  {
   "cell_type": "code",
   "execution_count": null,
   "metadata": {
    "collapsed": false
   },
   "outputs": [],
   "source": [
    "type(True), type(1)"
   ]
  },
  {
   "cell_type": "code",
   "execution_count": null,
   "metadata": {
    "collapsed": false
   },
   "outputs": [],
   "source": [
    "mylist = ['David', 'Hannah', 'Sally', 'Trent']\n",
    "count = 0\n",
    "for k in range(4):\n",
    "    print(k, mylist[k])\n",
    "    if ('a' in mylist[k]):\n",
    "        count += 1 # equivalent to count = count + 1\n",
    "print(\"The value of count is %d\" % count)"
   ]
  },
  {
   "cell_type": "code",
   "execution_count": null,
   "metadata": {
    "collapsed": false
   },
   "outputs": [],
   "source": [
    "mylist = ['David', 'Hannah', 'Sally', 'Trent']\n",
    "count = 0\n",
    "for word in mylist:\n",
    "    print(word)\n",
    "    if ('a' in word):\n",
    "        count += 1 # equivalent to count = count + 1\n",
    "print(\"The value of count is %d\" % count)"
   ]
  },
  {
   "cell_type": "code",
   "execution_count": null,
   "metadata": {
    "collapsed": false
   },
   "outputs": [],
   "source": [
    "[word for word in mylist] # Spits out values in mylist"
   ]
  },
  {
   "cell_type": "code",
   "execution_count": null,
   "metadata": {
    "collapsed": false
   },
   "outputs": [],
   "source": [
    "[word for word in mylist if 'a' in word]"
   ]
  },
  {
   "cell_type": "code",
   "execution_count": null,
   "metadata": {
    "collapsed": false
   },
   "outputs": [],
   "source": [
    "['a' in word for word in mylist]"
   ]
  },
  {
   "cell_type": "code",
   "execution_count": null,
   "metadata": {
    "collapsed": false
   },
   "outputs": [],
   "source": [
    "# i.e. sum([True, True, True, False])\n",
    "sum('a' in word for word in ['David', 'Hannah', 'Sally', 'Trent'])"
   ]
  },
  {
   "cell_type": "code",
   "execution_count": null,
   "metadata": {
    "collapsed": false
   },
   "outputs": [],
   "source": [
    "word = 'Hannah'\n",
    "word.count('a')\n",
    "word.upper()"
   ]
  },
  {
   "cell_type": "code",
   "execution_count": null,
   "metadata": {
    "collapsed": false
   },
   "outputs": [],
   "source": [
    "# i.e. sum([1, 2, 1, 0])\n",
    "sum(word.count('a') for word in ['David', 'Hannah', 'Sally', 'Trent'])"
   ]
  },
  {
   "cell_type": "code",
   "execution_count": null,
   "metadata": {
    "collapsed": false
   },
   "outputs": [],
   "source": [
    "issubclass(bool, int)"
   ]
  },
  {
   "cell_type": "code",
   "execution_count": null,
   "metadata": {
    "collapsed": false
   },
   "outputs": [],
   "source": [
    "# Complex numbers\n",
    "complex_one = 1 + 0j\n",
    "print(complex_one == 1.0)\n",
    "print(complex_one is 1.0)\n",
    "type(complex_one)"
   ]
  },
  {
   "cell_type": "code",
   "execution_count": null,
   "metadata": {
    "collapsed": false
   },
   "outputs": [],
   "source": [
    "delta = 0.0001   # Set our delta\n",
    "δ = delta \n",
    "abs(3.14159265 - 3.1415) < δ"
   ]
  },
  {
   "cell_type": "code",
   "execution_count": null,
   "metadata": {
    "collapsed": false
   },
   "outputs": [],
   "source": [
    "type(δ)"
   ]
  },
  {
   "cell_type": "code",
   "execution_count": null,
   "metadata": {
    "collapsed": false
   },
   "outputs": [],
   "source": [
    "complex_one <= 2.0"
   ]
  },
  {
   "cell_type": "code",
   "execution_count": null,
   "metadata": {
    "collapsed": false
   },
   "outputs": [],
   "source": [
    "1+1j < -1-.5j"
   ]
  },
  {
   "cell_type": "code",
   "execution_count": null,
   "metadata": {
    "collapsed": false
   },
   "outputs": [],
   "source": [
    "2+0j < 3+0j"
   ]
  },
  {
   "cell_type": "code",
   "execution_count": null,
   "metadata": {
    "collapsed": false
   },
   "outputs": [],
   "source": [
    "abs(1+1j)"
   ]
  },
  {
   "cell_type": "code",
   "execution_count": null,
   "metadata": {
    "collapsed": false
   },
   "outputs": [],
   "source": [
    "complex_one.real, complex_one.imag"
   ]
  },
  {
   "cell_type": "markdown",
   "metadata": {},
   "source": [
    "## Operations on integers and floats"
   ]
  },
  {
   "cell_type": "code",
   "execution_count": null,
   "metadata": {
    "collapsed": false
   },
   "outputs": [],
   "source": [
    "3 + 4   # addition"
   ]
  },
  {
   "cell_type": "code",
   "execution_count": null,
   "metadata": {
    "collapsed": false
   },
   "outputs": [],
   "source": [
    "3 - 4   # subtraction"
   ]
  },
  {
   "cell_type": "code",
   "execution_count": null,
   "metadata": {
    "collapsed": false
   },
   "outputs": [],
   "source": [
    "3 * 4   # multiplication"
   ]
  },
  {
   "cell_type": "code",
   "execution_count": null,
   "metadata": {
    "collapsed": false
   },
   "outputs": [],
   "source": [
    "3 / 4   # \"true division\""
   ]
  },
  {
   "cell_type": "code",
   "execution_count": null,
   "metadata": {
    "collapsed": false
   },
   "outputs": [],
   "source": [
    "3 // 4  # floor division"
   ]
  },
  {
   "cell_type": "code",
   "execution_count": null,
   "metadata": {
    "collapsed": false
   },
   "outputs": [],
   "source": [
    "13 % 4   # modulo"
   ]
  },
  {
   "cell_type": "code",
   "execution_count": null,
   "metadata": {
    "collapsed": false
   },
   "outputs": [],
   "source": [
    "3 ** 4  # power"
   ]
  },
  {
   "cell_type": "code",
   "execution_count": null,
   "metadata": {
    "collapsed": false
   },
   "outputs": [],
   "source": [
    "3 << 4  # shift left (int only)"
   ]
  },
  {
   "cell_type": "code",
   "execution_count": null,
   "metadata": {
    "collapsed": false
   },
   "outputs": [],
   "source": [
    "33 >> 4  # shift right (int only)"
   ]
  },
  {
   "cell_type": "code",
   "execution_count": null,
   "metadata": {
    "collapsed": false
   },
   "outputs": [],
   "source": [
    "3 & 4   # bitwise and (int only)"
   ]
  },
  {
   "cell_type": "code",
   "execution_count": null,
   "metadata": {
    "collapsed": false
   },
   "outputs": [],
   "source": [
    "3 | 4   # bitwise or (int only)"
   ]
  },
  {
   "cell_type": "code",
   "execution_count": null,
   "metadata": {
    "collapsed": false
   },
   "outputs": [],
   "source": [
    "3 ^ 4   # bitwise xor (int only)"
   ]
  },
  {
   "cell_type": "code",
   "execution_count": null,
   "metadata": {
    "collapsed": false
   },
   "outputs": [],
   "source": [
    "~ 3     # bitwise not (int only)"
   ]
  },
  {
   "cell_type": "code",
   "execution_count": null,
   "metadata": {
    "collapsed": false
   },
   "outputs": [],
   "source": [
    "abs(3-4)  # absolute value"
   ]
  },
  {
   "cell_type": "code",
   "execution_count": null,
   "metadata": {
    "collapsed": false
   },
   "outputs": [],
   "source": [
    "pow(3,4) # expct 81"
   ]
  },
  {
   "cell_type": "code",
   "execution_count": null,
   "metadata": {
    "collapsed": false
   },
   "outputs": [],
   "source": [
    "pow = __builtins__.pow\n",
    "pow(3, 4, 5)   # power with optional modulo: (3**4) % 5"
   ]
  },
  {
   "cell_type": "code",
   "execution_count": null,
   "metadata": {
    "collapsed": false
   },
   "outputs": [],
   "source": [
    "divmod(3, 4)   # division with remainder"
   ]
  },
  {
   "cell_type": "code",
   "execution_count": null,
   "metadata": {
    "collapsed": false
   },
   "outputs": [],
   "source": [
    "int(3.14)      # convert to an int"
   ]
  },
  {
   "cell_type": "code",
   "execution_count": null,
   "metadata": {
    "collapsed": false
   },
   "outputs": [],
   "source": [
    "float(3)       # convert to a float"
   ]
  },
  {
   "cell_type": "code",
   "execution_count": null,
   "metadata": {
    "collapsed": false
   },
   "outputs": [],
   "source": [
    "float(\"3.14\")"
   ]
  },
  {
   "cell_type": "code",
   "execution_count": null,
   "metadata": {
    "collapsed": false
   },
   "outputs": [],
   "source": [
    "\"%.1f\" % 3.57"
   ]
  },
  {
   "cell_type": "code",
   "execution_count": null,
   "metadata": {
    "collapsed": false
   },
   "outputs": [],
   "source": [
    "float(\"abc\")"
   ]
  },
  {
   "cell_type": "code",
   "execution_count": null,
   "metadata": {
    "collapsed": false
   },
   "outputs": [],
   "source": [
    "from math import ceil, floor\n",
    "ceil(3.99), floor(3.99)"
   ]
  },
  {
   "cell_type": "code",
   "execution_count": null,
   "metadata": {
    "collapsed": false
   },
   "outputs": [],
   "source": [
    "3 + 4.0        # cast to \"higher type\" as needed"
   ]
  },
  {
   "cell_type": "code",
   "execution_count": null,
   "metadata": {
    "collapsed": false
   },
   "outputs": [],
   "source": [
    "c = 3+4.0j + 2     # another upward cast\n",
    "c.real, c.imag"
   ]
  },
  {
   "cell_type": "markdown",
   "metadata": {},
   "source": [
    "## Working with strings"
   ]
  },
  {
   "cell_type": "markdown",
   "metadata": {},
   "source": [
    "### Escape codes"
   ]
  },
  {
   "cell_type": "markdown",
   "metadata": {},
   "source": [
    "'\\n'   Line feed\n",
    "    '\\r'   Carriage return\n",
    "    '\\t'   Tab\n",
    "    '\\xHH' Hex value\n",
    "    '\\\"'   Literal quote[*]\n",
    "    '\\\\'   Backslash\n",
    "    \n",
    "Python has several quoting conventions to make some escaping easier. You can use \"triple quotes\" to enclose multi-line strings or internal quotes. Either single or double quotes may be used, so the other style can occur within the string. Often explicit escaping is not needed."
   ]
  },
  {
   "cell_type": "code",
   "execution_count": null,
   "metadata": {
    "collapsed": false
   },
   "outputs": [],
   "source": [
    "old_s = 'Mary had a little lamb\\nIts fleece was white as snow\\nAnd everywhere that Mary went\\nThe lamb wias sure to go.'\n",
    "print(old_s)"
   ]
  },
  {
   "cell_type": "code",
   "execution_count": null,
   "metadata": {
    "collapsed": false
   },
   "outputs": [],
   "source": [
    "s = \"\"\"Mary had a little lamb\n",
    "Its fleece was white as snow\n",
    "And everywhere that Mary went\n",
    "The lamb was sure to go.\"\"\"\n",
    "print(s)"
   ]
  },
  {
   "cell_type": "code",
   "execution_count": null,
   "metadata": {
    "collapsed": false
   },
   "outputs": [],
   "source": [
    "s = 'Ain\\'t it a shame?!'\n",
    "print(s)"
   ]
  },
  {
   "cell_type": "code",
   "execution_count": null,
   "metadata": {
    "collapsed": false
   },
   "outputs": [],
   "source": [
    "s = \"Ain't it a shame?!\"\n",
    "s"
   ]
  },
  {
   "cell_type": "code",
   "execution_count": null,
   "metadata": {
    "collapsed": false
   },
   "outputs": [],
   "source": [
    "s = \"\"\"He said \"Ain't that a shame\"!\"\"\"\n",
    "print(s)"
   ]
  },
  {
   "cell_type": "code",
   "execution_count": null,
   "metadata": {
    "collapsed": false
   },
   "outputs": [],
   "source": [
    "print('He said \"Hi\" to me')"
   ]
  },
  {
   "cell_type": "code",
   "execution_count": null,
   "metadata": {
    "collapsed": false
   },
   "outputs": [],
   "source": [
    "print(\"He said \\\"Hi\\\" to me\")"
   ]
  },
  {
   "cell_type": "markdown",
   "metadata": {},
   "source": [
    "### Strings are immutable sequences (of smaller strings)"
   ]
  },
  {
   "cell_type": "code",
   "execution_count": null,
   "metadata": {
    "collapsed": false
   },
   "outputs": [],
   "source": [
    "s = \"My name is David\"\n",
    "s[11] # Indexed from zero, so s[11] is the 12th character"
   ]
  },
  {
   "cell_type": "code",
   "execution_count": null,
   "metadata": {
    "collapsed": false
   },
   "outputs": [],
   "source": [
    "s[4:9] # Slicing: pull out cahracter 4 up to (but *not* including) character 9 from s"
   ]
  },
  {
   "cell_type": "code",
   "execution_count": null,
   "metadata": {
    "collapsed": false
   },
   "outputs": [],
   "source": [
    "s[3:7] + s[7:10] # Remember, + concatenates strings..."
   ]
  },
  {
   "cell_type": "code",
   "execution_count": null,
   "metadata": {
    "collapsed": false
   },
   "outputs": [],
   "source": [
    "s[11:] # From s[11] to the very end"
   ]
  },
  {
   "cell_type": "code",
   "execution_count": null,
   "metadata": {
    "collapsed": false
   },
   "outputs": [],
   "source": [
    "s[:11] # From the very start up to (but not including) character 11"
   ]
  },
  {
   "cell_type": "code",
   "execution_count": null,
   "metadata": {
    "collapsed": false
   },
   "outputs": [],
   "source": [
    "s[-5] # s[-5] means the character 5 preceding the end"
   ]
  },
  {
   "cell_type": "code",
   "execution_count": null,
   "metadata": {
    "collapsed": false
   },
   "outputs": [],
   "source": [
    "s[-5:] # Equivalent to s[11:]"
   ]
  },
  {
   "cell_type": "code",
   "execution_count": null,
   "metadata": {
    "collapsed": false
   },
   "outputs": [],
   "source": [
    "s[-5:-3] # Again, remember slicing is half-open (non-inclusive)"
   ]
  },
  {
   "cell_type": "code",
   "execution_count": null,
   "metadata": {
    "collapsed": false
   },
   "outputs": [],
   "source": [
    "s[1:10:3] # Specify stride of length 3 (i.e., count in steps of 3)"
   ]
  },
  {
   "cell_type": "code",
   "execution_count": null,
   "metadata": {
    "collapsed": false
   },
   "outputs": [],
   "source": [
    "s[0], s[10]"
   ]
  },
  {
   "cell_type": "code",
   "execution_count": null,
   "metadata": {
    "collapsed": false
   },
   "outputs": [],
   "source": [
    "full = s + \" Mertz\"\n",
    "full"
   ]
  },
  {
   "cell_type": "code",
   "execution_count": null,
   "metadata": {
    "collapsed": false
   },
   "outputs": [],
   "source": [
    "'a' in full"
   ]
  },
  {
   "cell_type": "code",
   "execution_count": null,
   "metadata": {
    "collapsed": false
   },
   "outputs": [],
   "source": [
    "'David' in full"
   ]
  },
  {
   "cell_type": "code",
   "execution_count": null,
   "metadata": {
    "collapsed": false
   },
   "outputs": [],
   "source": [
    "'a' in full or 'A' in full\n",
    "print(full)"
   ]
  },
  {
   "cell_type": "code",
   "execution_count": null,
   "metadata": {
    "collapsed": false
   },
   "outputs": [],
   "source": [
    "'a' in full and 'A' in full"
   ]
  },
  {
   "cell_type": "code",
   "execution_count": null,
   "metadata": {
    "collapsed": false
   },
   "outputs": [],
   "source": [
    "'a' in full.lower()"
   ]
  },
  {
   "cell_type": "code",
   "execution_count": null,
   "metadata": {
    "collapsed": false
   },
   "outputs": [],
   "source": [
    "len(full)"
   ]
  },
  {
   "cell_type": "code",
   "execution_count": null,
   "metadata": {
    "collapsed": false
   },
   "outputs": [],
   "source": [
    "s[11:] * 5"
   ]
  },
  {
   "cell_type": "code",
   "execution_count": null,
   "metadata": {
    "collapsed": false
   },
   "outputs": [],
   "source": [
    "s[11] = 'R' # Important: strings are immutable!"
   ]
  },
  {
   "cell_type": "code",
   "execution_count": null,
   "metadata": {
    "collapsed": false
   },
   "outputs": [],
   "source": [
    "new_s = s[:11] + 'R' + s[12:]\n",
    "print(new_s)"
   ]
  },
  {
   "cell_type": "code",
   "execution_count": null,
   "metadata": {
    "collapsed": false
   },
   "outputs": [],
   "source": [
    "new_s = s.replace('D','R')\n",
    "print(new_s)"
   ]
  },
  {
   "cell_type": "markdown",
   "metadata": {},
   "source": [
    "### Strings have many useful methods (that return new strings)"
   ]
  },
  {
   "cell_type": "code",
   "execution_count": null,
   "metadata": {
    "collapsed": true
   },
   "outputs": [],
   "source": []
  },
  {
   "cell_type": "code",
   "execution_count": null,
   "metadata": {
    "collapsed": false
   },
   "outputs": [],
   "source": [
    "haiku = \"\"\"\n",
    "    an aging willow\n",
    "    its image unsteady\n",
    "    in the flowing stream\n",
    "\"\"\"\n",
    "print(haiku)"
   ]
  },
  {
   "cell_type": "code",
   "execution_count": null,
   "metadata": {
    "collapsed": false
   },
   "outputs": [],
   "source": [
    "haiku.count('i')"
   ]
  },
  {
   "cell_type": "code",
   "execution_count": null,
   "metadata": {
    "collapsed": false
   },
   "outputs": [],
   "source": [
    "haiku.count('in')"
   ]
  },
  {
   "cell_type": "code",
   "execution_count": null,
   "metadata": {
    "collapsed": false
   },
   "outputs": [],
   "source": [
    "haiku.count('x')"
   ]
  },
  {
   "cell_type": "code",
   "execution_count": null,
   "metadata": {
    "collapsed": false
   },
   "outputs": [],
   "source": [
    "print(haiku.strip()) # Removes leading/trailing whitespace (but not internal whitespace)"
   ]
  },
  {
   "cell_type": "code",
   "execution_count": null,
   "metadata": {
    "collapsed": false
   },
   "outputs": [],
   "source": [
    "lines = haiku.split('\\n')\n",
    "lines"
   ]
  },
  {
   "cell_type": "code",
   "execution_count": null,
   "metadata": {
    "collapsed": false
   },
   "outputs": [],
   "source": [
    "# We're going to jump ahead slightly in this example\n",
    "[line.strip() for line in haiku.split('\\n') if line]"
   ]
  },
  {
   "cell_type": "code",
   "execution_count": null,
   "metadata": {
    "collapsed": false
   },
   "outputs": [],
   "source": [
    "print(\"\\n\".join([line.strip() for line in haiku.split('\\n') if line]))"
   ]
  },
  {
   "cell_type": "code",
   "execution_count": null,
   "metadata": {
    "collapsed": false
   },
   "outputs": [],
   "source": [
    "print(haiku.upper())\n",
    "print(haiku)"
   ]
  },
  {
   "cell_type": "code",
   "execution_count": null,
   "metadata": {
    "collapsed": false
   },
   "outputs": [],
   "source": [
    "print(haiku.replace('unsteady','wavering'))"
   ]
  },
  {
   "cell_type": "code",
   "execution_count": null,
   "metadata": {
    "collapsed": false
   },
   "outputs": [],
   "source": [
    "print(haiku.replace('uneasy','wavering'))"
   ]
  },
  {
   "cell_type": "code",
   "execution_count": null,
   "metadata": {
    "collapsed": false
   },
   "outputs": [],
   "source": [
    "'uneasy' in haiku # Should evaluate to False"
   ]
  },
  {
   "cell_type": "code",
   "execution_count": null,
   "metadata": {
    "collapsed": false
   },
   "outputs": [],
   "source": [
    "haiku.endswith('stream') # Whoops, need to strip the whitespace..."
   ]
  },
  {
   "cell_type": "code",
   "execution_count": null,
   "metadata": {
    "collapsed": false
   },
   "outputs": [],
   "source": [
    "haiku.strip().endswith('stream') # This is what we expected..."
   ]
  },
  {
   "cell_type": "code",
   "execution_count": null,
   "metadata": {
    "collapsed": false
   },
   "outputs": [],
   "source": [
    "lines = map(str.strip, haiku.split('\\n'))\n",
    "[x for x in lines if x.endswith(('willow','stream'))] # or"
   ]
  },
  {
   "cell_type": "code",
   "execution_count": null,
   "metadata": {
    "collapsed": false
   },
   "outputs": [],
   "source": [
    "haiku.find('aging') # Returns leading index of first occurrence of 'aging' inside 'haiku'"
   ]
  },
  {
   "cell_type": "code",
   "execution_count": null,
   "metadata": {
    "collapsed": false
   },
   "outputs": [],
   "source": [
    "print(haiku.find('old'))\n",
    "print(haiku)"
   ]
  },
  {
   "cell_type": "code",
   "execution_count": null,
   "metadata": {
    "collapsed": false
   },
   "outputs": [],
   "source": [
    "help(str.find)"
   ]
  },
  {
   "cell_type": "code",
   "execution_count": null,
   "metadata": {
    "collapsed": false
   },
   "outputs": [],
   "source": [
    "haiku.index('aging') #using index method\n",
    "haiku[:8]"
   ]
  },
  {
   "cell_type": "code",
   "execution_count": null,
   "metadata": {
    "collapsed": false
   },
   "outputs": [],
   "source": [
    "haiku.index('old') # ValueError because 'old' not substring of haiku"
   ]
  },
  {
   "cell_type": "markdown",
   "metadata": {},
   "source": [
    "### Two different styles of guarding a result"
   ]
  },
  {
   "cell_type": "code",
   "execution_count": null,
   "metadata": {
    "collapsed": false
   },
   "outputs": [],
   "source": [
    "haiku[-1:]"
   ]
  },
  {
   "cell_type": "code",
   "execution_count": null,
   "metadata": {
    "collapsed": false
   },
   "outputs": [],
   "source": [
    "pos = haiku.find('old')\n",
    "if pos != -1:\n",
    "    print(haiku[pos:])\n",
    "else:\n",
    "    print(\"Not found\")"
   ]
  },
  {
   "cell_type": "code",
   "execution_count": null,
   "metadata": {
    "collapsed": false
   },
   "outputs": [],
   "source": [
    "# More Pythonic not to allow a bad answer to pass silently\n",
    "try:\n",
    "    pos = haiku.index('old')\n",
    "    print(haiku[pos:])\n",
    "except ValueError as e:\n",
    "    print(\"Not found\")"
   ]
  },
  {
   "cell_type": "code",
   "execution_count": null,
   "metadata": {
    "collapsed": false
   },
   "outputs": [],
   "source": [
    "haiku.isalpha() # Only True when all characters are alphanumeric"
   ]
  },
  {
   "cell_type": "code",
   "execution_count": null,
   "metadata": {
    "collapsed": false
   },
   "outputs": [],
   "source": [
    "\"David\".isalpha() # Should be True"
   ]
  },
  {
   "cell_type": "code",
   "execution_count": null,
   "metadata": {
    "collapsed": false
   },
   "outputs": [],
   "source": [
    "haiku.isdigit() "
   ]
  },
  {
   "cell_type": "code",
   "execution_count": null,
   "metadata": {
    "collapsed": false
   },
   "outputs": [],
   "source": [
    "\"12345\".isdigit()"
   ]
  },
  {
   "cell_type": "code",
   "execution_count": null,
   "metadata": {
    "collapsed": false
   },
   "outputs": [],
   "source": [
    "haiku.islower()"
   ]
  },
  {
   "cell_type": "code",
   "execution_count": null,
   "metadata": {
    "collapsed": false
   },
   "outputs": [],
   "source": [
    "\"abc123#$%^&\".islower()"
   ]
  },
  {
   "cell_type": "code",
   "execution_count": null,
   "metadata": {
    "collapsed": false
   },
   "outputs": [],
   "source": [
    "\"12345\".islower()"
   ]
  },
  {
   "cell_type": "code",
   "execution_count": null,
   "metadata": {
    "collapsed": false
   },
   "outputs": [],
   "source": [
    "help(str.islower)"
   ]
  },
  {
   "cell_type": "code",
   "execution_count": null,
   "metadata": {
    "collapsed": false
   },
   "outputs": [],
   "source": [
    "haiku.isupper()"
   ]
  },
  {
   "cell_type": "code",
   "execution_count": null,
   "metadata": {
    "collapsed": false
   },
   "outputs": [],
   "source": [
    "words = haiku.split()\n",
    "words"
   ]
  },
  {
   "cell_type": "code",
   "execution_count": null,
   "metadata": {
    "collapsed": false
   },
   "outputs": [],
   "source": [
    "haiku.replace('\\n','') #Puts everything in one line"
   ]
  },
  {
   "cell_type": "code",
   "execution_count": null,
   "metadata": {
    "collapsed": false
   },
   "outputs": [],
   "source": [
    "haiku.replace('\\n','').split('w')"
   ]
  },
  {
   "cell_type": "code",
   "execution_count": null,
   "metadata": {
    "collapsed": false
   },
   "outputs": [],
   "source": [
    "print(words)"
   ]
  },
  {
   "cell_type": "code",
   "execution_count": null,
   "metadata": {
    "collapsed": false
   },
   "outputs": [],
   "source": [
    "\"__\".join(words)"
   ]
  },
  {
   "cell_type": "code",
   "execution_count": null,
   "metadata": {
    "collapsed": false
   },
   "outputs": [],
   "source": [
    "\"_\".join(haiku)"
   ]
  },
  {
   "cell_type": "code",
   "execution_count": null,
   "metadata": {
    "collapsed": false
   },
   "outputs": [],
   "source": [
    "# also str.rindex() exists, and behaves as expected\n",
    "haiku.rfind('st'), haiku.find('st')"
   ]
  },
  {
   "cell_type": "code",
   "execution_count": null,
   "metadata": {
    "collapsed": false
   },
   "outputs": [],
   "source": [
    "prefixes = ('Da', 'Ti', 'Le')\n",
    "\"David\".startswith(prefixes)"
   ]
  },
  {
   "cell_type": "code",
   "execution_count": null,
   "metadata": {
    "collapsed": false
   },
   "outputs": [],
   "source": [
    "# Decompose elements into parallel lists\n",
    "dates = [\"09/05/1984\", \"05/04/1999\", \"01/02/1921\"]\n",
    "months, days, years = [], [], []\n",
    "for date in dates:\n",
    "    m, d, y = date.split('/')\n",
    "    months.append(m)\n",
    "    days.append(d)\n",
    "    years.append(y)\n",
    "months, days, years"
   ]
  },
  {
   "cell_type": "markdown",
   "metadata": {},
   "source": [
    "### The `textwrap` module"
   ]
  },
  {
   "cell_type": "code",
   "execution_count": null,
   "metadata": {
    "collapsed": false
   },
   "outputs": [],
   "source": [
    "s = \"\"\"Lorem ipsum dolor sit amet, consectetur adipisicing elit, \n",
    "sed do eiusmod tempor incididunt ut labore et dolore magna aliqua.\"\"\"\n",
    "import textwrap\n",
    "s2 = textwrap.fill(s, width=35, initial_indent=\"| \", subsequent_indent=\"| \")\n",
    "print(s2)"
   ]
  },
  {
   "cell_type": "code",
   "execution_count": null,
   "metadata": {
    "collapsed": false
   },
   "outputs": [],
   "source": [
    "# In docstrings you usually want to preserve line breaks, \n",
    "# not overall indentation\n",
    "import textwrap\n",
    "def myfunc(): \n",
    "    multi_line = \"\"\"\n",
    "           Lorem ipsum dolor sit amet,\n",
    "           consectetur adipisicing elit, sed\n",
    "           do eiusmod tempor incididunt u\n",
    "           labore et dolore magna aliqua.\n",
    "       \"\"\"\n",
    "    multi_line = textwrap.dedent(multi_line)\n",
    "    return multi_line\n",
    "print(myfunc())"
   ]
  },
  {
   "cell_type": "code",
   "execution_count": null,
   "metadata": {
    "collapsed": false
   },
   "outputs": [],
   "source": [
    "message = \"\"\"\n",
    "David Mertz, Ph.D. <dmertz@continuum.io> wrote:\n",
    "Lorem ipsum dolor sit amet,\n",
    "consectetur adipisicing elit, sed\n",
    "do eiusmod tempor incididunt ut\n",
    "labore et dolore magna aliqua.\n",
    "\"\"\".strip()\n",
    "print(textwrap.indent(message, '> ', \n",
    "                      predicate=lambda l: not l.endswith('wrote:\\n')))"
   ]
  },
  {
   "cell_type": "markdown",
   "metadata": {},
   "source": [
    "### Formatting strings (old-style)"
   ]
  },
  {
   "cell_type": "code",
   "execution_count": null,
   "metadata": {
    "collapsed": false
   },
   "outputs": [],
   "source": [
    "a = str(42.5)\n",
    "a"
   ]
  },
  {
   "cell_type": "code",
   "execution_count": null,
   "metadata": {
    "collapsed": false
   },
   "outputs": [],
   "source": [
    "# String interpolation (C-style, more or less)\n",
    "# i.e. %[flags][width][.precision]type\n",
    "from math import pi\n",
    "\"Pi is about %d, in %s\" % (pi, \"Indiana\")"
   ]
  },
  {
   "cell_type": "code",
   "execution_count": null,
   "metadata": {
    "collapsed": false
   },
   "outputs": [],
   "source": [
    "\"For rough use, we often just use %0.4f\" % pi"
   ]
  },
  {
   "cell_type": "code",
   "execution_count": null,
   "metadata": {
    "collapsed": false
   },
   "outputs": [],
   "source": [
    "\"For rough use, we often just use %0.7f\" % pi"
   ]
  },
  {
   "cell_type": "code",
   "execution_count": null,
   "metadata": {
    "collapsed": false
   },
   "outputs": [],
   "source": [
    "\"Better precision is %.17f\" % pi"
   ]
  },
  {
   "cell_type": "code",
   "execution_count": null,
   "metadata": {
    "collapsed": false
   },
   "outputs": [],
   "source": [
    "\"Past 17 digits, floating point precision is meaningless: %.30f\" % pi"
   ]
  },
  {
   "cell_type": "code",
   "execution_count": null,
   "metadata": {
    "collapsed": false
   },
   "outputs": [],
   "source": [
    "\"Octal %o; Decimal %i; HEX %X; hex %x; Octal w/ marker %#o; Hex w/ marker %#X\" % (\n",
    "       13,         13,     13,     13,                 13,                13)"
   ]
  },
  {
   "cell_type": "code",
   "execution_count": null,
   "metadata": {
    "collapsed": false
   },
   "outputs": [],
   "source": [
    "\"Explicit signs %+d, %+d\" % (-13, 13)"
   ]
  },
  {
   "cell_type": "code",
   "execution_count": null,
   "metadata": {
    "collapsed": false
   },
   "outputs": [],
   "source": [
    "\"Zero padded ints %+06d, %+06d\" % (-13, 13)"
   ]
  },
  {
   "cell_type": "code",
   "execution_count": null,
   "metadata": {
    "collapsed": false
   },
   "outputs": [],
   "source": [
    "\"Space padded ints %6d, %6d\" % (-13, 13)"
   ]
  },
  {
   "cell_type": "code",
   "execution_count": null,
   "metadata": {
    "collapsed": false
   },
   "outputs": [],
   "source": [
    "\"An exponential format %.3e\" % 1234567890"
   ]
  },
  {
   "cell_type": "markdown",
   "metadata": {},
   "source": [
    "| Conversion | Meaning\n",
    "|------------|-------------------\n",
    "|d     |      Signed integer decimal.\n",
    "|i     |      Signed integer decimal.\n",
    "|o     |      Unsigned octal.\n",
    "|u     |      Unsigned decimal.\n",
    "|x     |      Unsigned hexadecimal (lowercase).\n",
    "|X     |      Unsigned hexadecimal (uppercase).\n",
    "|e     |      Floating point exponential format (lowercase).\n",
    "|E     |      Floating point exponential format (uppercase).\n",
    "|f     |      Floating point decimal format.\n",
    "|F     |      Floating point decimal format.\n",
    "|g     |      Same as \"e\" if exponent is greater than -4 or less than precision, \"f\" otherwise.\n",
    "|G     |      Same as \"E\" if exponent is greater than -4 or less than precision, \"F\" otherwise.\n",
    "|c     |      Single character (accepts integer or single character string).\n",
    "|r     |      String (converts any python object using repr()).\n",
    "|s     |      String (converts any python object using str()).\n",
    "|%     |      No argument is converted, results in a \"%\" character in the result."
   ]
  },
  {
   "cell_type": "code",
   "execution_count": null,
   "metadata": {
    "collapsed": false
   },
   "outputs": [],
   "source": [
    "# str() just produces a human-readable string, repr() tries to give something \n",
    "# that can be passed back to eval() to produce the equivalent object\n",
    "print(str(Decimal(41.5)))\n",
    "print(repr(Decimal(41.5)))"
   ]
  },
  {
   "cell_type": "markdown",
   "metadata": {},
   "source": [
    "### The `format()` mini-language"
   ]
  },
  {
   "cell_type": "markdown",
   "metadata": {},
   "source": [
    "The `format()` function and `.format()` method of strings are enormously powerful, and enormously confusing. However, they can do more than old-style string-interpolation. Let's try it old-style."
   ]
  },
  {
   "cell_type": "code",
   "execution_count": null,
   "metadata": {
    "collapsed": false
   },
   "outputs": [],
   "source": [
    "costs = (1234.5678, 9900000.1, 83, .02)\n",
    "for n, item in enumerate(costs):\n",
    "    print(\"Purchase %d:\\t$%.2f\" % (n+1, item))"
   ]
  },
  {
   "cell_type": "markdown",
   "metadata": {},
   "source": [
    "We can do better than the last slide using a format specifier. In particular, two things we want in formatted currencies is comma separators in large numbers and right alignment."
   ]
  },
  {
   "cell_type": "code",
   "execution_count": null,
   "metadata": {
    "collapsed": false
   },
   "outputs": [],
   "source": [
    "line = \"Purchase {}:\\t${:>13,.2f}\"\n",
    "for n, item in enumerate(costs):\n",
    "    print(line.format(n+1, item))"
   ]
  },
  {
   "cell_type": "markdown",
   "metadata": {},
   "source": [
    "We compactly described the currency format above. However, I would rather have the dollar sign close to its amount. I think this need be done in two stages."
   ]
  },
  {
   "cell_type": "code",
   "execution_count": null,
   "metadata": {
    "collapsed": false
   },
   "outputs": [],
   "source": [
    "line = \"Purchase {}:\\t{:>14}\"\n",
    "for n, item in enumerate(costs):\n",
    "    amount = \"${:,.2f}\".format(item)\n",
    "    print(line.format(n+1, amount))"
   ]
  },
  {
   "cell_type": "markdown",
   "metadata": {},
   "source": [
    "### Details on the `format()` mini-language"
   ]
  },
  {
   "cell_type": "markdown",
   "metadata": {},
   "source": [
    "Take a look at this for a complete description of the .format() mini language: https://docs.python.org/3.4/library/string.html#formatstrings\n",
    "\n",
    "| Option | Meaning\n",
    "|--------|----------------------------------------\n",
    "| <      | The field will be left-aligned within the available space. The default for strings.\n",
    "| >      | The field will be right-aligned within the available space. The default for numbers.\n",
    "| =      | Forces the padding to be placed after the sign (if any) but before the digits. This is used for printing fields in the form \"+000000120\". This alignment option is only valid for numeric types.\n",
    "| ^      | Forces the field to be centered within the available space.\n",
    "| +      | A sign should be used for both positive as well as negative numbers.\n",
    "| -      | A sign should be used only for negative numbers; the default behavior.\n",
    "| space  | A leading space should be used on positive numbers, a minus sign on negative numbers."
   ]
  },
  {
   "cell_type": "markdown",
   "metadata": {},
   "source": [
    "### `format()` allows several data-structures for specifiying values"
   ]
  },
  {
   "cell_type": "code",
   "execution_count": null,
   "metadata": {
    "collapsed": false
   },
   "outputs": [],
   "source": [
    "print(\"The capital of {1:s} is {2:s}, a {0:s} city\".format(\n",
    "                        \"Northern\", \"California\", \"Sacramento\"))"
   ]
  },
  {
   "cell_type": "code",
   "execution_count": null,
   "metadata": {
    "collapsed": false
   },
   "outputs": [],
   "source": [
    "print(\"The capital of {state} is {capital}\".format(\n",
    "                         capital=\"Sacramento\", state=\"California\"))"
   ]
  },
  {
   "cell_type": "code",
   "execution_count": null,
   "metadata": {
    "collapsed": false
   },
   "outputs": [],
   "source": [
    "info = {'state':'California', \n",
    "        'capital':'Sacramento', \n",
    "        'region':'west coast'}\n",
    "print(\"The capital of {state} is {capital}\".format(**info))"
   ]
  },
  {
   "cell_type": "code",
   "execution_count": null,
   "metadata": {
    "collapsed": false
   },
   "outputs": [],
   "source": [
    "# Don't do this in real code! Very fragile!\n",
    "state = 'California'\n",
    "capital = 'Sacramento'\n",
    "animal = 'California Condor'\n",
    "print(\"The capital of {state} is {capital}\".format(**locals()))"
   ]
  },
  {
   "cell_type": "code",
   "execution_count": null,
   "metadata": {
    "collapsed": false
   },
   "outputs": [],
   "source": [
    "names = ['Tony', 'David', 'Ivan', 'Emily']\n",
    "print(*names)\n",
    "print(names)\n",
    "\n",
    "def hi(name=\"\", age=0, *args, **other_stuff):\n",
    "    print(\"Hi %s who is %d\" % (name,age))\n",
    "    print(other_stuff)\n",
    "    \n",
    "david = {'name':'David', 'age':50, 'zipcode':90048, 'town':'Los Angeles'} \n",
    "hi(**david)\n",
    "hi(**{'name':'David', 'age':50, 'zipcode':90048, 'town':'Los Angeles'})"
   ]
  },
  {
   "cell_type": "markdown",
   "metadata": {},
   "source": [
    "## Exercise (report formatting)"
   ]
  },
  {
   "cell_type": "markdown",
   "metadata": {},
   "source": [
    "The below code displays quarterly budgets for several departments, for a two year range.  The code itself is not written particularly well, and the report created is not very attractive.  The joke in the names, of course, refers to a Monty Python skit, the inspiration for the name of the Python programming language.\n",
    "\n",
    "In the time you have, change the code using techniques we have seen already—or others you might guess at or know—to produce a more attractive and readable report on these hypothetical quarterly budgets.  There is no one right answer, and feel free to ask questions as you work on this.  Let's see what each student comes up with."
   ]
  },
  {
   "cell_type": "code",
   "execution_count": 2,
   "metadata": {
    "collapsed": false
   },
   "outputs": [
    {
     "name": "stdout",
     "output_type": "stream",
     "text": [
      "['Defense', 'Arts & Culture', 'Silly Walks']\n",
      "Q1/2015, Q2/2015, Q3/2015, Q4/2015\n",
      "[90060491.74, 53361838.79, 8152082.82, 23239243.06]\n",
      "[9919066.44, 43776691.91, 98067864.47, 36966569.06]\n",
      "[71632985.01, 19160013.5, 52839415.37, 65330537.18]\n"
     ]
    }
   ],
   "source": [
    "# Some not very good code that produces a crude report\n",
    "from random import randint\n",
    "# Department names\n",
    "departments = [\"Defense\", \"Arts & Culture\", \"Silly Walks\"]\n",
    "# Quarter names\n",
    "quarter_names = \"Q1/2015, Q2/2015, Q3/2015, Q4/2015\"\n",
    "# Let's hold some numeric data for Q1 2015 through Q2 2015\n",
    "quarter_data = []\n",
    "for i in range(3):\n",
    "    dept_budget = []\n",
    "    for j in range(4):\n",
    "        budget = randint(100, 1e10)/100\n",
    "        dept_budget.append(budget)\n",
    "    quarter_data.append(dept_budget)\n",
    "    \n",
    "print(departments)\n",
    "print(quarter_names)\n",
    "for quarters in quarter_data:\n",
    "    print(quarters)"
   ]
  },
  {
   "cell_type": "markdown",
   "metadata": {},
   "source": [
    "Let's discuss for a while **why** the code above is not very good"
   ]
  },
  {
   "cell_type": "code",
   "execution_count": 3,
   "metadata": {
    "collapsed": false
   },
   "outputs": [
    {
     "data": {
      "text/plain": [
       "14"
      ]
     },
     "execution_count": 3,
     "metadata": {},
     "output_type": "execute_result"
    }
   ],
   "source": [
    "max(len(d) for d in departments)"
   ]
  },
  {
   "cell_type": "markdown",
   "metadata": {},
   "source": [
    "## Proposed solutions:"
   ]
  },
  {
   "cell_type": "code",
   "execution_count": 5,
   "metadata": {
    "collapsed": false
   },
   "outputs": [
    {
     "name": "stdout",
     "output_type": "stream",
     "text": [
      "['', 'Q1/2015', 'Q2/2015', 'Q3/2015', 'Q4/2015']\n",
      "['Defense']\n",
      "['Arts & Culture']\n",
      "['Silly Walks']\n"
     ]
    }
   ],
   "source": [
    "# A solution I might propose\n",
    "from random import randint\n",
    "departments = [\"Defense\", \"Arts & Culture\", \"Silly Walks\"]\n",
    "quarter_names = \"Q1/2015, Q2/2015, Q3/2015, Q4/2015\"\n",
    "\n",
    "# Make better data structure out of quarter_names\n",
    "quarter_names = quarter_names.split(', ')\n",
    "table = [[\"\"] + quarter_names]\n",
    "\n",
    "# Tables looks\n",
    "# [\n",
    "#    [Blank, Header1, Header2, Header3],\n",
    "#    [Label1, Value11, Value21, Value31],\n",
    "#    [Label2, Value12, Value22, Value32]\n",
    "# ]\n",
    "\n",
    "# Populate just the labels for the rows\n",
    "for department in departments:\n",
    "    table.append([department])\n",
    "    \n",
    "# Just show what we have    \n",
    "for row in table:\n",
    "    print(row)"
   ]
  },
  {
   "cell_type": "code",
   "execution_count": 6,
   "metadata": {
    "collapsed": false
   },
   "outputs": [
    {
     "name": "stdout",
     "output_type": "stream",
     "text": [
      "['', 'Q1/2015', 'Q2/2015', 'Q3/2015', 'Q4/2015']\n",
      "['Defense', 11139423.43, 93376729.89, 96134911.38, 25778879.39]\n",
      "['Arts & Culture', 34836775.35, 87362455.75, 41466101.36, 26175373.53]\n",
      "['Silly Walks', 89744524.96, 57336588.52, 10739568.82, 95794434.96]\n"
     ]
    }
   ],
   "source": [
    "# Now populate the data values in row and column\n",
    "for row in table[1:]:\n",
    "    for _ in quarter_names:     # convention: '_' is ignored value\n",
    "        budget = randint(100, 1e10)/100\n",
    "        row.append(budget)\n",
    "\n",
    "# Just show what we have    \n",
    "for row in table:\n",
    "    print(row)"
   ]
  },
  {
   "cell_type": "code",
   "execution_count": 9,
   "metadata": {
    "collapsed": false
   },
   "outputs": [],
   "source": [
    "output = open(\"report.txt\", 'w')    \n",
    "\n",
    "# This is the printing/formatting step\n",
    "for quarter in table[0]:\n",
    "    print(\"%14s\" % quarter, end=\"\", file=output)\n",
    "print(file=output)\n",
    "for row in table[1:]:\n",
    "    print(row[0].rjust(14), end=\"\", file=output)\n",
    "    for cell in row[1:]:\n",
    "        print('   £{:>10,.0f}'.format(cell), end=\"\", file=output)\n",
    "    print(file=output)\n",
    "\n",
    "output.close()"
   ]
  },
  {
   "cell_type": "code",
   "execution_count": 10,
   "metadata": {
    "collapsed": false
   },
   "outputs": [
    {
     "name": "stdout",
     "output_type": "stream",
     "text": [
      "                     Q1/2015       Q2/2015       Q3/2015       Q4/2015\n",
      "       Defense   £11,139,423   £93,376,730   £96,134,911   £25,778,879\n",
      "Arts & Culture   £34,836,775   £87,362,456   £41,466,101   £26,175,374\n",
      "   Silly Walks   £89,744,525   £57,336,589   £10,739,569   £95,794,435\n",
      "\n"
     ]
    }
   ],
   "source": [
    "txt = open('report.txt').read()\n",
    "print(txt)"
   ]
  },
  {
   "cell_type": "markdown",
   "metadata": {},
   "source": [
    "## Regular Expressions"
   ]
  },
  {
   "cell_type": "markdown",
   "metadata": {},
   "source": [
    "[Learning to use regular expressions](http://gnosis.cx/publish/programming/regular_expressions.html)"
   ]
  },
  {
   "cell_type": "code",
   "execution_count": null,
   "metadata": {
    "collapsed": false
   },
   "outputs": [],
   "source": [
    "from IPython.display import display_html\n",
    "import re\n",
    "def re_show(pat, s):\n",
    "    new = \"\"\n",
    "    matches = re.finditer(pat, s)\n",
    "    last = 0\n",
    "    for match in matches:\n",
    "        start, end = match.span()\n",
    "        new += s[last:start]\n",
    "        new += \"<font color='red'><u>%s</u></font>\" % s[start:end]\n",
    "        last = end\n",
    "    new += s[end:]\n",
    "    display_html(\"<pre>%s</pre>\" % new, raw=True)"
   ]
  },
  {
   "cell_type": "code",
   "execution_count": null,
   "metadata": {
    "collapsed": false
   },
   "outputs": [],
   "source": [
    "s = \"\"\"Mary had a little lamb.\n",
    "And everywhere that Mary\n",
    "went, the lamb was sure\n",
    "to go.\"\"\"\n",
    "re_show('t.*l', s)"
   ]
  },
  {
   "cell_type": "markdown",
   "metadata": {},
   "source": [
    "## Exercise (regular expressions)"
   ]
  },
  {
   "cell_type": "markdown",
   "metadata": {},
   "source": [
    "Try the patterns shown in the [tutorial](http://gnosis.cx/publish/programming/regular_expressions.html), or any others you wonder about, using the `re_show()` function."
   ]
  },
  {
   "cell_type": "markdown",
   "metadata": {},
   "source": [
    "## Data structures"
   ]
  },
  {
   "cell_type": "markdown",
   "metadata": {},
   "source": [
    "### Lists"
   ]
  },
  {
   "cell_type": "markdown",
   "metadata": {},
   "source": [
    "Perhaps the most common (mutable) data structure used in Python is the list. Lists are an efficient, ordered sequence of heterogeneous elements. Lists can expand, and have `O(1)` access and amortized `O(1)` append. In essence, for those of you who think in C terms, a Python list is mostly an array of references to Python objects.\n",
    "\n",
    "Sometimes people coming from other programming languages think they need to be clever, and use linked-lists, queues, deques, or other special structures for sequences of things. Most of the time they are wrong, and a list would be easier and about as fast. The most notable exception is using `numpy` arrays and matrices and other structures of fixed datatypes."
   ]
  },
  {
   "cell_type": "code",
   "execution_count": null,
   "metadata": {
    "collapsed": false
   },
   "outputs": [],
   "source": [
    "from decimal import Decimal\n",
    "l1 = ['David Mertz', 50, Decimal(100.5), 3.14, map, object]\n",
    "print(l1)"
   ]
  },
  {
   "cell_type": "code",
   "execution_count": null,
   "metadata": {
    "collapsed": false
   },
   "outputs": [],
   "source": [
    "# Most typical mutation of a list is appending elements\n",
    "l1.append(\"Instructor\")\n",
    "print(l1)"
   ]
  },
  {
   "cell_type": "code",
   "execution_count": null,
   "metadata": {
    "collapsed": false
   },
   "outputs": [],
   "source": [
    "l7 = [1, 2, 3]\n",
    "l7.extend(\"Loser\")\n",
    "l7"
   ]
  },
  {
   "cell_type": "code",
   "execution_count": null,
   "metadata": {
    "collapsed": false
   },
   "outputs": [],
   "source": [
    "# Can add multiple items too\n",
    "l1.extend(['Los Angeles', 90048])\n",
    "print(l1)"
   ]
  },
  {
   "cell_type": "code",
   "execution_count": null,
   "metadata": {
    "collapsed": false
   },
   "outputs": [],
   "source": [
    "# You can insert into the middle of lists also, \n",
    "# but less efficiently O(n)\n",
    "l1.insert(1, 1j)\n",
    "print(l1)"
   ]
  },
  {
   "cell_type": "code",
   "execution_count": null,
   "metadata": {
    "collapsed": false
   },
   "outputs": [],
   "source": [
    "# Remove an item by either index or by value\n",
    "del l1[5]\n",
    "print(l1)"
   ]
  },
  {
   "cell_type": "code",
   "execution_count": null,
   "metadata": {
    "collapsed": false
   },
   "outputs": [],
   "source": [
    "# By value\n",
    "l1.remove(\"Los Angeles\")\n",
    "print(l1)"
   ]
  },
  {
   "cell_type": "code",
   "execution_count": null,
   "metadata": {
    "collapsed": false
   },
   "outputs": [],
   "source": [
    "# By value (but might not succeed)\n",
    "l1.remove(\"Los Angeles\")\n",
    "print(l1)"
   ]
  },
  {
   "cell_type": "code",
   "execution_count": null,
   "metadata": {
    "collapsed": false
   },
   "outputs": [],
   "source": [
    "l3 = ['Christopher', 'imran', 'jim', 'Krish', 'Larenzo', \"Moise\", \"Vernon\"]\n",
    "l3 = [val for val in l3 if val not in ('Vernon', 'jim')]\n",
    "print(l3)"
   ]
  },
  {
   "cell_type": "code",
   "execution_count": null,
   "metadata": {
    "collapsed": false
   },
   "outputs": [],
   "source": [
    "repeats = [1, 2, 3, 1, 2, 1.0, Decimal(1)]\n",
    "print(repeats)\n",
    "print([e for e in repeats if e != 1])\n",
    "print([e for e in repeats if e == 1])\n",
    "\n",
    "# indices of things not equal to one\n",
    "print([(index, e) for index, e in enumerate(repeats) if e != 1])"
   ]
  },
  {
   "cell_type": "code",
   "execution_count": null,
   "metadata": {
    "collapsed": false
   },
   "outputs": [],
   "source": [
    "# We can add lists to concatenate them as new lists\n",
    "l2 = [\"Ben Zaitlen\", \"Christine Doig\"] + l1\n",
    "print(l1)\n",
    "print(l2)"
   ]
  },
  {
   "cell_type": "code",
   "execution_count": null,
   "metadata": {
    "collapsed": false
   },
   "outputs": [],
   "source": [
    "L2 = l1 + [\"Ben Zaitlen\", \"Christine Doig\"]\n",
    "print(L2)"
   ]
  },
  {
   "cell_type": "code",
   "execution_count": null,
   "metadata": {
    "collapsed": false
   },
   "outputs": [],
   "source": [
    "# We can also replicate lists as new lists\n",
    "l3 = l2 * 3\n",
    "print(l3)"
   ]
  },
  {
   "cell_type": "markdown",
   "metadata": {},
   "source": [
    "## Quiz: What's wrong with the above examples of lists?"
   ]
  },
  {
   "cell_type": "code",
   "execution_count": null,
   "metadata": {
    "collapsed": false
   },
   "outputs": [],
   "source": [
    "import codecs\n",
    "s = \"\"\"Nafjre: Gur hfr bs yvfgf gung vf fhttrfgrq ol gur ynfg \n",
    "srj rknzcyrf znxr gurz frrz zhpu zber yvxr 'erpbeqf' guna yvxr \n",
    "'n ohapu bs fvzvyne guvatf'. Vg jnf pbairavrag gb guebj va gur \n",
    "qvssrerag glcrf bs guvatf gb fubj gung yvfgf ner abg glcrq nf \n",
    "va P be fvzvyne ynathntrf. Ubjrire, gur guvatf vafvqr n yvfg \n",
    "ner fgvyy trarenyyl 'sbe gur fnzr checbfr' va fbzr frafr. Ghcyrf, \n",
    "juvpu jr jvyy trg gb fubegyl, ner n orggre zngpu sbe 'erpbeqf'.\"\"\"\n",
    "print(codecs.encode(s, 'rot13'))"
   ]
  },
  {
   "cell_type": "code",
   "execution_count": null,
   "metadata": {
    "collapsed": false
   },
   "outputs": [],
   "source": [
    "# Lists are sequences, like the strings we have looked at.  \n",
    "# We can do things we'd like to do with sequences\n",
    "l2[5]   # Indexing"
   ]
  },
  {
   "cell_type": "code",
   "execution_count": null,
   "metadata": {
    "collapsed": false
   },
   "outputs": [],
   "source": [
    "# Indexing from right\n",
    "l2[-2]"
   ]
  },
  {
   "cell_type": "code",
   "execution_count": null,
   "metadata": {
    "collapsed": false
   },
   "outputs": [],
   "source": [
    "# Replacing elements\n",
    "from fractions import Fraction\n",
    "l2[5] = Fraction(104, 99)\n",
    "print(l2)"
   ]
  },
  {
   "cell_type": "code",
   "execution_count": null,
   "metadata": {
    "collapsed": false
   },
   "outputs": [],
   "source": [
    "len(l2), len(l2[0])   # Find the length, or the length of a string in element"
   ]
  },
  {
   "cell_type": "code",
   "execution_count": null,
   "metadata": {
    "collapsed": false
   },
   "outputs": [],
   "source": [
    "# We can test list membership.  Note: O(n) operation\n",
    "if 3.14 in l2:\n",
    "    print('l2 has a rough approximation of pi inside it')"
   ]
  },
  {
   "cell_type": "code",
   "execution_count": null,
   "metadata": {
    "collapsed": false
   },
   "outputs": [],
   "source": [
    "# Slicing is very powerful, and not as elegant in many languages\n",
    "l2[3:5]"
   ]
  },
  {
   "cell_type": "code",
   "execution_count": null,
   "metadata": {
    "collapsed": false
   },
   "outputs": [],
   "source": [
    "# New list form several indices\n",
    "indices = [1, 3, 7]\n",
    "l3 = [l2[i] for i in indices]\n",
    "l3"
   ]
  },
  {
   "cell_type": "code",
   "execution_count": null,
   "metadata": {
    "collapsed": false
   },
   "outputs": [],
   "source": [
    "l2[-3:]"
   ]
  },
  {
   "cell_type": "code",
   "execution_count": null,
   "metadata": {
    "collapsed": false
   },
   "outputs": [],
   "source": [
    "l2[:3]"
   ]
  },
  {
   "cell_type": "code",
   "execution_count": null,
   "metadata": {
    "collapsed": false
   },
   "outputs": [],
   "source": [
    "l2[0:99:2]"
   ]
  },
  {
   "cell_type": "code",
   "execution_count": null,
   "metadata": {
    "collapsed": false
   },
   "outputs": [],
   "source": [
    "l2[::2]"
   ]
  },
  {
   "cell_type": "code",
   "execution_count": null,
   "metadata": {
    "collapsed": false
   },
   "outputs": [],
   "source": [
    "# An \"empty slice\" is a quick way to make a shallow copy\n",
    "l4 = l2[:]\n",
    "print(l2)\n",
    "print(l4)\n",
    "l2 is l4, l2 == l4"
   ]
  },
  {
   "cell_type": "code",
   "execution_count": null,
   "metadata": {
    "collapsed": false
   },
   "outputs": [],
   "source": [
    "# Changing the copy doesn't change the original (or vice versa)\n",
    "del l4[4:]\n",
    "print(l2)\n",
    "print(l4)\n",
    "l2 is l4, l2 == l4"
   ]
  },
  {
   "cell_type": "code",
   "execution_count": null,
   "metadata": {
    "collapsed": false
   },
   "outputs": [],
   "source": [
    "# On the other hand, simple assignment just gives the same mutable list another name\n",
    "l5 = l4\n",
    "l5[3] = None\n",
    "l5.append(\"Continuum Analytics\")\n",
    "print(l4)\n",
    "print(l5)\n",
    "l4 is l5, l4 == l5"
   ]
  },
  {
   "cell_type": "code",
   "execution_count": null,
   "metadata": {
    "collapsed": false
   },
   "outputs": [],
   "source": [
    "# Reversing (by mutation)\n",
    "l4.reverse()\n",
    "print(l5)"
   ]
  },
  {
   "cell_type": "code",
   "execution_count": null,
   "metadata": {
    "collapsed": false
   },
   "outputs": [],
   "source": [
    "# Reversing (and returning result)\n",
    "l6 = reversed(l5)\n",
    "print(l5)\n",
    "print(l6)"
   ]
  },
  {
   "cell_type": "code",
   "execution_count": null,
   "metadata": {
    "collapsed": false
   },
   "outputs": [],
   "source": [
    "# That was strange! Python 3 is often \"lazy\" and doesn't \n",
    "# compute something until needed\n",
    "print(list(l6))"
   ]
  },
  {
   "cell_type": "code",
   "execution_count": null,
   "metadata": {
    "collapsed": false
   },
   "outputs": [],
   "source": [
    "l6 = reversed(l5)  # Pretend that l5 is a billion item list\n",
    "for item in l6:\n",
    "    print(item)"
   ]
  },
  {
   "cell_type": "code",
   "execution_count": null,
   "metadata": {
    "collapsed": false
   },
   "outputs": [],
   "source": [
    "# Sorting (by mutation)\n",
    "l7 = l5[:]\n",
    "l7.sort()\n",
    "print(l7)"
   ]
  },
  {
   "cell_type": "code",
   "execution_count": null,
   "metadata": {
    "collapsed": false
   },
   "outputs": [],
   "source": [
    "# Another gotcha! Not everything can be compared to be sorted\n",
    "l7.remove(None)\n",
    "l7.sort()\n",
    "print(l7)"
   ]
  },
  {
   "cell_type": "code",
   "execution_count": null,
   "metadata": {
    "collapsed": false
   },
   "outputs": [],
   "source": [
    "# Sorting (and returning result, also using a fancier sort key)\n",
    "print(l7)\n",
    "def second_word(s):\n",
    "    return s.split()[1]\n",
    "l8 = sorted(l7, key=second_word, reverse=False)\n",
    "print(l7)\n",
    "print(l8)\n",
    "sorted(l7, key=len)"
   ]
  },
  {
   "cell_type": "code",
   "execution_count": null,
   "metadata": {
    "collapsed": false
   },
   "outputs": [],
   "source": [
    "l7.append(\"Aaron White\")\n",
    "print(l7)\n",
    "def sort_len_then_val(s):\n",
    "    return len(s), s\n",
    "sorted(l7, key=sort_len_then_val)"
   ]
  },
  {
   "cell_type": "code",
   "execution_count": null,
   "metadata": {
    "collapsed": false
   },
   "outputs": [],
   "source": [
    "ids = (6, 7, 10, 9)\n",
    "locations = ('Here', 'There', \"Elsewhere\", \"Home\")\n",
    "id_locs = list(zip(locations, ids))\n",
    "print(id_locs)\n",
    "[pair[1] for pair in sorted(id_locs)]"
   ]
  },
  {
   "cell_type": "code",
   "execution_count": null,
   "metadata": {
    "collapsed": false
   },
   "outputs": [],
   "source": [
    "lines = open('report.txt').readlines()\n",
    "lines"
   ]
  },
  {
   "cell_type": "code",
   "execution_count": null,
   "metadata": {
    "collapsed": false
   },
   "outputs": [],
   "source": [
    "sum(len(s) for s in lines)"
   ]
  },
  {
   "cell_type": "markdown",
   "metadata": {},
   "source": [
    "## Exercise (comparisons)"
   ]
  },
  {
   "cell_type": "markdown",
   "metadata": {},
   "source": [
    "We saw that some lists might not be sortable.  What that actually amounts to, at heart, is that some different types of objects cannot be compared for inequality.  Hence `None < \"David\"` simply does not have an answer.\n",
    "\n",
    "Spend a few minutes and try comparing the various types of Python objects that we have seen in the class so far.  Can you characterize which have inequality relationships and which fail when trying this?  After the exercise, let's discuss comparability of objects and values."
   ]
  },
  {
   "cell_type": "code",
   "execution_count": null,
   "metadata": {
    "collapsed": false
   },
   "outputs": [],
   "source": [
    "0 < \"foo\""
   ]
  },
  {
   "cell_type": "code",
   "execution_count": null,
   "metadata": {
    "collapsed": false
   },
   "outputs": [],
   "source": [
    "0 < Decimal('0')"
   ]
  },
  {
   "cell_type": "code",
   "execution_count": null,
   "metadata": {
    "collapsed": false
   },
   "outputs": [],
   "source": [
    "def force_sort(x):\n",
    "    return str(type(x)), repr(x)\n",
    "\n",
    "sorted([3, 10, None, \"foo\", 1+0j, 2+3j], key=force_sort)"
   ]
  },
  {
   "cell_type": "markdown",
   "metadata": {},
   "source": [
    "## Iteration"
   ]
  },
  {
   "cell_type": "markdown",
   "metadata": {},
   "source": [
    "Notwithstanding the many cool things we can do with lists by applying methods, calling functions, indexing and slicing, the most common idiom for working with lists is to loop over them.  In fact, this idiom is extremely common for working with many Python objects.  \n",
    "\n",
    "There are only two looping constructs in Python, `for` and `while`, and the former is far more common than the latter."
   ]
  },
  {
   "cell_type": "code",
   "execution_count": null,
   "metadata": {
    "collapsed": false
   },
   "outputs": [],
   "source": [
    "# Loop over a collection of \"similar\" items\n",
    "for name in l8:\n",
    "    first, last = name.split()\n",
    "    print(first.lower(), last.upper())"
   ]
  },
  {
   "cell_type": "markdown",
   "metadata": {},
   "source": [
    "If you come from working in some other languages, you may be unduly tempted to think about the index positions of items in a list.  You *can* \"write C in Python.\"  And you can \"write FORTRAN in Python.\"  And you can \"write Perl in Python.\"  Ad nauseam.  Generally it's best to avoid doing these things."
   ]
  },
  {
   "cell_type": "code",
   "execution_count": null,
   "metadata": {
    "collapsed": false
   },
   "outputs": [],
   "source": [
    "# A C programming veteran's first Python loop\n",
    "from codecs import encode\n",
    "for index in range(len(l8)):\n",
    "    item = l8[index]\n",
    "    print(encode(item, 'rot13'))"
   ]
  },
  {
   "cell_type": "markdown",
   "metadata": {},
   "source": [
    "While looping over the indices of a list obviously *does* work, as in the prior example, it is not *Pythonic* to do so.  In Python, we like to think about collections themselves, and only rarely about how we index into them."
   ]
  },
  {
   "cell_type": "code",
   "execution_count": null,
   "metadata": {
    "collapsed": false
   },
   "outputs": [],
   "source": [
    "# Sometimes we genuinely do want both an index and an item\n",
    "for n, name in enumerate(l8):\n",
    "    print(\"(%d) %s\" % (n+1, name))"
   ]
  },
  {
   "cell_type": "markdown",
   "metadata": {},
   "source": [
    "## Quiz: Python mental model"
   ]
  },
  {
   "cell_type": "markdown",
   "metadata": {},
   "source": [
    "1. How many reserved words (keywords) are there in Python?\n",
    "  1. How many can you name? (*Hint:* think of the categories: namespace, logic, function, object creation, looping, conditional, exceptions, misc)\n",
    "  1. What does the Python interpreter know about at startup?\n",
    "1. What is special about the `builtin` module?\n",
    "1. What is the breakdown of the `builtin` module's contents?\n",
    "1. How many packages are in the Python Standard Library?\n",
    "1. What are features of the Python Standard Library?\n",
    "1. How does name scoping work in Python?\n",
    "1. What is Python's reference lookup priority?\n",
    "1. How are objects scoped in Python?\n",
    "1. What are the mechanisms to create objects in Python?\n",
    "1. How do you delete an object in Python?\n",
    "1. How does `import` work?\n",
    "1. What does it mean to be *Pythonic*?"
   ]
  },
  {
   "cell_type": "markdown",
   "metadata": {},
   "source": [
    "## Exercise (mortgage calculator) "
   ]
  },
  {
   "cell_type": "markdown",
   "metadata": {},
   "source": [
    "Take a look at an example [balloon mortgage calculator](http://www.mortgagecalculator.org/calcs/balloon.php).\n",
    "\n",
    "Let's duplicate the functionality of that web page (and we can use it to check our answers).  Here is information we need to collect:\n",
    "\n",
    "* How much are you looking to borrow?\n",
    "* What is the loan's annual interest rate?\t\n",
    "* What is the term of the loan in months?\t\n",
    "* Upfront payment amount?\t\n",
    "* Balloon payment at end?\n",
    "\n",
    "We'd like to produce these calculated data:\n",
    "  \n",
    "* This is the amount of your monthly payment\n",
    "* Total monthly payments\n",
    "* Paid upfront\n",
    "* Balloon payment due at end\n",
    "* Total of all payments\n",
    "* Total interest cost\n",
    "* Effective annual rate"
   ]
  },
  {
   "cell_type": "markdown",
   "metadata": {},
   "source": [
    "## Data structures"
   ]
  },
  {
   "cell_type": "markdown",
   "metadata": {},
   "source": [
    "### None"
   ]
  },
  {
   "cell_type": "markdown",
   "metadata": {},
   "source": [
    "Not really a data structure, but the special value `None` in Python is often used `NULL` or `nil` or `Nothing` are used in other languages.  It is a frequent placeholder to say, \"We don't yet know how to handle this item, but we know to check whether it *is* `None`.\"  Hence code like this is common:\n",
    "\n",
    "```python\n",
    "for item in collection:\n",
    "    if item is not None:\n",
    "        process(item)\n",
    "    else:\n",
    "        pass\n",
    "```"
   ]
  },
  {
   "cell_type": "markdown",
   "metadata": {},
   "source": [
    "### Tuples"
   ]
  },
  {
   "cell_type": "markdown",
   "metadata": {},
   "source": [
    "A tuple is a heterogeneous and immutable sequence of items. Many of the same operations you can do on lists can also be done to tuples, but their role is conceptually different. A tuple is much more like a \"record\" that holds a collection of associated information, where a list is a sequence of items that might be treated similarly. As we have seen, lists do not need to by homogeneous in type, but we expect there to be something \"similar\" about the things inside them; tuples are generally expected to contain *dissimilar* things."
   ]
  },
  {
   "cell_type": "code",
   "execution_count": null,
   "metadata": {
    "collapsed": false
   },
   "outputs": [],
   "source": [
    "# Store ticker symbol, shares held, price, acquisition date in a tuple\n",
    "from datetime import date\n",
    "goog = ('GOOG', 100, 538.22, date(2015, 1, 15))\n",
    "ibm = ('IBM', 500, 172.68, date(1952, 6, 1))\n",
    "aapl = ('AAPL', 250, 127.62, date(1999, 3, 14))\n",
    "mystocks = [goog, ibm, aapl]\n",
    "mystocks"
   ]
  },
  {
   "cell_type": "code",
   "execution_count": null,
   "metadata": {
    "collapsed": false
   },
   "outputs": [],
   "source": [
    "# We can access a tuple much as we could a list, but we cannot modify it\n",
    "goog[2] = 521.13"
   ]
  },
  {
   "cell_type": "code",
   "execution_count": null,
   "metadata": {
    "collapsed": false
   },
   "outputs": [],
   "source": [
    "# We can add (or multiply) tuples to make new ones (like with lists)\n",
    "x = (1,2,\"A\") + (4,5,6)\n",
    "y = (1,2,\"A\") * 3\n",
    "print(x)\n",
    "print(y)"
   ]
  },
  {
   "cell_type": "code",
   "execution_count": null,
   "metadata": {
    "collapsed": false
   },
   "outputs": [],
   "source": [
    "# This is a more typical style of programming\n",
    "asset_value = 0\n",
    "for stock in mystocks:\n",
    "    shares, price = stock[1:3]\n",
    "    asset_value += shares*price\n",
    "print(asset_value)"
   ]
  },
  {
   "cell_type": "code",
   "execution_count": null,
   "metadata": {
    "collapsed": false
   },
   "outputs": [],
   "source": [
    "# Some special syntax issues\n",
    "empty_tup = ()              # Empty tuple\n",
    "one_item = ('Foo',)         # One-item tuple (comma required)\n",
    "no_parens = \"this\", \"that\"  # Parentheses sometimes optional\n",
    "print(empty_tup, one_item, no_parens)"
   ]
  },
  {
   "cell_type": "code",
   "execution_count": null,
   "metadata": {
    "collapsed": false
   },
   "outputs": [],
   "source": [
    "# More special syntax\n",
    "a, b, c = 4, 5, 6    # Tuple on right is \"unpacked\" into vars on right\n",
    "print(a, b, c)"
   ]
  },
  {
   "cell_type": "code",
   "execution_count": null,
   "metadata": {
    "collapsed": false
   },
   "outputs": [],
   "source": [
    "# Even more special: can gather \"rest of values\"\n",
    "a, b, *c = range(10)\n",
    "a, b, c"
   ]
  },
  {
   "cell_type": "code",
   "execution_count": null,
   "metadata": {
    "collapsed": false
   },
   "outputs": [],
   "source": [
    "a, *b, c = range(10)\n",
    "a, b, c"
   ]
  },
  {
   "cell_type": "code",
   "execution_count": null,
   "metadata": {
    "collapsed": false
   },
   "outputs": [],
   "source": [
    "range(10)"
   ]
  },
  {
   "cell_type": "code",
   "execution_count": null,
   "metadata": {
    "collapsed": false
   },
   "outputs": [],
   "source": [
    "tup20 = tuple(range(20))\n",
    "newtup = tup20[:10] + ('ten',) + tup20[11:]\n",
    "newtup"
   ]
  },
  {
   "cell_type": "code",
   "execution_count": null,
   "metadata": {
    "collapsed": false
   },
   "outputs": [],
   "source": [
    "mylist = [1,2,3]\n",
    "mytup = (1,2,3)\n",
    "type(mylist), type(mytup)"
   ]
  },
  {
   "cell_type": "code",
   "execution_count": null,
   "metadata": {
    "collapsed": false
   },
   "outputs": [],
   "source": [
    "try:\n",
    "    mytup[1] = 33\n",
    "except TypeError:\n",
    "    print(\"Trying to assign to immutable thing\")"
   ]
  },
  {
   "cell_type": "code",
   "execution_count": null,
   "metadata": {
    "collapsed": false
   },
   "outputs": [],
   "source": [
    "tuple(reversed(mytup))"
   ]
  },
  {
   "cell_type": "markdown",
   "metadata": {},
   "source": [
    "### `collections.namedtuple`"
   ]
  },
  {
   "cell_type": "markdown",
   "metadata": {},
   "source": [
    "There is a special kind of tuple in the `collections` module that is worth considering very often for clean code.  It requires no extra memory per tuple, but allows you to name the index positions for better documentation of your intent in using tuples."
   ]
  },
  {
   "cell_type": "code",
   "execution_count": null,
   "metadata": {
    "collapsed": false
   },
   "outputs": [],
   "source": [
    "from collections import namedtuple\n",
    "Stock = namedtuple(\"Stock\", \"symbol shares price acquired\") # Space separated field names\n",
    "goog = Stock('GOOG', 100, 538.22, date(2015, 1, 15))\n",
    "ibm = Stock('IBM', 500, 172.68, date(1952, 6, 1))\n",
    "aapl = Stock(*aapl)    # Re-use of plain tuple as multiple args\n",
    "mystocks = [goog, ibm, aapl]\n",
    "mystocks"
   ]
  },
  {
   "cell_type": "code",
   "execution_count": null,
   "metadata": {
    "collapsed": false
   },
   "outputs": [],
   "source": [
    "attributes = [\"firstname\", \"lastname\", \"employer\"]\n",
    "Person = namedtuple('Person', attributes)\n",
    "david = Person('David', 'Mertz', \"Continuum Analytics\")\n",
    "dhavide = Person('Dhavide', 'Aruliah', \"Continuum Analytics\")\n",
    "david, dhavide"
   ]
  },
  {
   "cell_type": "code",
   "execution_count": null,
   "metadata": {
    "collapsed": false
   },
   "outputs": [],
   "source": [
    "# Re-write our code sample for better readability\n",
    "asset_value = 0\n",
    "for stock in mystocks:\n",
    "    asset_value += stock.shares * stock.price\n",
    "print(asset_value)"
   ]
  },
  {
   "cell_type": "code",
   "execution_count": null,
   "metadata": {
    "collapsed": false
   },
   "outputs": [],
   "source": [
    "from itertools import zip_longest\n",
    "symbols = ('GOOG', 'IBM', 'AAPL', 'HP')\n",
    "shares = (100, 500, 250)\n",
    "prices = (500, 172, 127)\n",
    "SimpleStock = namedtuple(\"SimpleStock\", \"symbol shares prices\")\n",
    "for info in zip_longest(symbols, shares, prices):\n",
    "    print(SimpleStock(*info))"
   ]
  },
  {
   "cell_type": "code",
   "execution_count": null,
   "metadata": {
    "collapsed": false
   },
   "outputs": [],
   "source": [
    "goog[1:3], goog[-1]"
   ]
  },
  {
   "cell_type": "markdown",
   "metadata": {},
   "source": [
    "### Dictionaries"
   ]
  },
  {
   "cell_type": "markdown",
   "metadata": {},
   "source": [
    "Dictionaries are an associative array (hash table) that gives `O(1)` lookup and insertion of elements, but does not have any inherent order to it. A dictionary maps zero or more (immutable) *keys* to (possibly mutable) *values*.  Dictionaries are mutable, and keys within them can be added, deleted, or their values modified."
   ]
  },
  {
   "cell_type": "code",
   "execution_count": null,
   "metadata": {
    "collapsed": false
   },
   "outputs": [],
   "source": [
    "# A dictionary to hold stock information\n",
    "goog = {'symbol': 'GOOG',\n",
    "        'shares': 100,\n",
    "        'price': 538.22,\n",
    "        'acquired': date(2015, 1, 15) }\n",
    "print(goog)\n",
    "goog['price'] = 521.78\n",
    "print(goog)"
   ]
  },
  {
   "cell_type": "code",
   "execution_count": null,
   "metadata": {
    "collapsed": false
   },
   "outputs": [],
   "source": [
    "sorted(goog.keys(), key=len)"
   ]
  },
  {
   "cell_type": "code",
   "execution_count": null,
   "metadata": {
    "collapsed": false
   },
   "outputs": [],
   "source": [
    "# Add some more information to the dictionary\n",
    "goog['broker'] = \"Roberto Cruz\"\n",
    "goog"
   ]
  },
  {
   "cell_type": "code",
   "execution_count": null,
   "metadata": {
    "collapsed": false
   },
   "outputs": [],
   "source": [
    "# Or remove an item\n",
    "del goog['acquired']\n",
    "goog"
   ]
  },
  {
   "cell_type": "code",
   "execution_count": null,
   "metadata": {
    "collapsed": false
   },
   "outputs": [],
   "source": [
    "# Dictionaries have a few useful methods\n",
    "print(goog.keys())\n",
    "print(goog.values())\n",
    "print(goog.items())\n",
    "goog.update({'shares':200, 'price':540.12, 'hometown':'Mountain View'})\n",
    "print(goog)"
   ]
  },
  {
   "cell_type": "code",
   "execution_count": null,
   "metadata": {
    "collapsed": false
   },
   "outputs": [],
   "source": [
    "# Iterating over a dictionary (keys)\n",
    "for key in goog:\n",
    "    print(key, goog[key])"
   ]
  },
  {
   "cell_type": "markdown",
   "metadata": {},
   "source": [
    "### Other special datatypes"
   ]
  },
  {
   "cell_type": "markdown",
   "metadata": {},
   "source": [
    "#### `collections.OrderedDict`"
   ]
  },
  {
   "cell_type": "markdown",
   "metadata": {},
   "source": [
    "A special data type in the standard library acts like a dictionary, but also retains the insertion order of keys within the dictionary."
   ]
  },
  {
   "cell_type": "code",
   "execution_count": null,
   "metadata": {
    "collapsed": false
   },
   "outputs": [],
   "source": [
    "from collections import OrderedDict\n",
    "pairs = [('broker','Roberto Cruz'), ('price',521.78), \n",
    "         ('shares',100), ('symbol','GOOG')]\n",
    "dct = dict(pairs)\n",
    "od = OrderedDict(pairs)\n",
    "print(list(dct.keys()))  # No guarantee about order\n",
    "print(list(od.keys()))   # Keys in specific order of insertion\n",
    "od['shares'] = 200\n",
    "print(list(od.keys()))\n",
    "od['rating'] = 4\n",
    "print(list(od.keys()))"
   ]
  },
  {
   "cell_type": "markdown",
   "metadata": {},
   "source": [
    "#### `collections.Counter`"
   ]
  },
  {
   "cell_type": "markdown",
   "metadata": {},
   "source": [
    "A special dict-like datatype for counting hashable items; sometimes called a \"bag\" or \"multiset\""
   ]
  },
  {
   "cell_type": "code",
   "execution_count": 19,
   "metadata": {
    "collapsed": false
   },
   "outputs": [
    {
     "data": {
      "text/plain": [
       "[('a', 5), ('b', 2), ('r', 2), ('c', 1), ('d', 1)]"
      ]
     },
     "execution_count": 19,
     "metadata": {},
     "output_type": "execute_result"
    }
   ],
   "source": [
    "from collections import Counter\n",
    "c = Counter('abracadabra')\n",
    "c.most_common()"
   ]
  },
  {
   "cell_type": "code",
   "execution_count": 20,
   "metadata": {
    "collapsed": false
   },
   "outputs": [
    {
     "data": {
      "text/plain": [
       "['a', 'b', 'c', 'd', 'r']"
      ]
     },
     "execution_count": 20,
     "metadata": {},
     "output_type": "execute_result"
    }
   ],
   "source": [
    "sorted(c)"
   ]
  },
  {
   "cell_type": "code",
   "execution_count": 21,
   "metadata": {
    "collapsed": false
   },
   "outputs": [
    {
     "data": {
      "text/plain": [
       "2"
      ]
     },
     "execution_count": 21,
     "metadata": {},
     "output_type": "execute_result"
    }
   ],
   "source": [
    "c['r']"
   ]
  },
  {
   "cell_type": "code",
   "execution_count": 22,
   "metadata": {
    "collapsed": false
   },
   "outputs": [
    {
     "data": {
      "text/plain": [
       "6"
      ]
     },
     "execution_count": 22,
     "metadata": {},
     "output_type": "execute_result"
    }
   ],
   "source": [
    "c['r'] += 4\n",
    "c['r']"
   ]
  },
  {
   "cell_type": "code",
   "execution_count": 23,
   "metadata": {
    "collapsed": false
   },
   "outputs": [
    {
     "data": {
      "text/plain": [
       "0"
      ]
     },
     "execution_count": 23,
     "metadata": {},
     "output_type": "execute_result"
    }
   ],
   "source": [
    "c['x']"
   ]
  },
  {
   "cell_type": "code",
   "execution_count": 24,
   "metadata": {
    "collapsed": false
   },
   "outputs": [
    {
     "data": {
      "text/plain": [
       "Counter({'a': 10, 'r': 8, 'b': 4, 'c': 2, 'd': 2})"
      ]
     },
     "execution_count": 24,
     "metadata": {},
     "output_type": "execute_result"
    }
   ],
   "source": [
    "c.update(\"abracadabra\")\n",
    "c"
   ]
  },
  {
   "cell_type": "code",
   "execution_count": 25,
   "metadata": {
    "collapsed": false
   },
   "outputs": [
    {
     "data": {
      "text/plain": [
       "[(5, 16), (6, 15), (7, 13), (2, 11), (4, 10), (3, 9), (8, 9), (9, 9), (1, 8)]"
      ]
     },
     "execution_count": 25,
     "metadata": {},
     "output_type": "execute_result"
    }
   ],
   "source": [
    "from random import randint\n",
    "nums = [randint(1,9) for _ in range(100)]\n",
    "numcount = Counter(nums)\n",
    "numcount.most_common()"
   ]
  },
  {
   "cell_type": "code",
   "execution_count": 26,
   "metadata": {
    "collapsed": false
   },
   "outputs": [
    {
     "data": {
      "text/plain": [
       "Counter({5: 16, 6: 15, 7: 13, 2: 11, 4: 10, 3: 9, 8: 9, 9: 9, 1: 8})"
      ]
     },
     "execution_count": 26,
     "metadata": {},
     "output_type": "execute_result"
    }
   ],
   "source": [
    "numcount"
   ]
  },
  {
   "cell_type": "code",
   "execution_count": 27,
   "metadata": {
    "collapsed": false
   },
   "outputs": [
    {
     "data": {
      "text/plain": [
       "[(5, 16), (6, 15), (7, 13)]"
      ]
     },
     "execution_count": 27,
     "metadata": {},
     "output_type": "execute_result"
    }
   ],
   "source": [
    "numcount.most_common(3)"
   ]
  },
  {
   "cell_type": "code",
   "execution_count": 28,
   "metadata": {
    "collapsed": false
   },
   "outputs": [
    {
     "data": {
      "text/plain": [
       "[(5, 16), (6, 15), (2, 11), (4, 10), (3, 9), (7, 9), (8, 9), (9, 9), (1, 8)]"
      ]
     },
     "execution_count": 28,
     "metadata": {},
     "output_type": "execute_result"
    }
   ],
   "source": [
    "numcount.subtract([7,7,7,7])\n",
    "numcount.most_common()"
   ]
  },
  {
   "cell_type": "code",
   "execution_count": 29,
   "metadata": {
    "collapsed": false
   },
   "outputs": [
    {
     "data": {
      "text/plain": [
       "[(5, 16), (6, 15), (2, 11), (4, 10), (3, 9), (7, 9), (9, 9), (1, 8), (8, 7)]"
      ]
     },
     "execution_count": 29,
     "metadata": {},
     "output_type": "execute_result"
    }
   ],
   "source": [
    "numcount[8] -= 2\n",
    "numcount.most_common()"
   ]
  },
  {
   "cell_type": "markdown",
   "metadata": {},
   "source": [
    "### Sets"
   ]
  },
  {
   "cell_type": "markdown",
   "metadata": {},
   "source": [
    "Sets are much like dictionaries that lack values, but only have keys.  In fact, for many years, in very old versions of Python, a standard idiom was to use dictionaries as sets, but set all the values to `None`.  Sets allow a few standard set-theoretic operations (intersection, union, subset, etc)."
   ]
  },
  {
   "cell_type": "code",
   "execution_count": null,
   "metadata": {
    "collapsed": false
   },
   "outputs": [],
   "source": [
    "instructors = set([\"Ben Zaitlen\", \"Christine Doig\"])\n",
    "instructors.add(\"David Mertz\")\n",
    "instructors"
   ]
  },
  {
   "cell_type": "code",
   "execution_count": null,
   "metadata": {
    "collapsed": false
   },
   "outputs": [],
   "source": [
    "names_with_D = set([\"David Mertz\", \"Christine Doig\", \"John Doe\"])\n",
    "names_with_D | instructors    # Union of sets"
   ]
  },
  {
   "cell_type": "code",
   "execution_count": null,
   "metadata": {
    "collapsed": false
   },
   "outputs": [],
   "source": [
    "names_with_D & instructors    # Intersection of sets"
   ]
  },
  {
   "cell_type": "code",
   "execution_count": null,
   "metadata": {
    "collapsed": false
   },
   "outputs": [],
   "source": [
    "names_with_D ^ instructors    # Symmetric difference"
   ]
  },
  {
   "cell_type": "code",
   "execution_count": null,
   "metadata": {
    "collapsed": false
   },
   "outputs": [],
   "source": [
    "names_with_D - instructors    # Difference of sets"
   ]
  },
  {
   "cell_type": "code",
   "execution_count": null,
   "metadata": {
    "collapsed": false
   },
   "outputs": [],
   "source": [
    "names_with_D <= instructors   # Test for subset"
   ]
  },
  {
   "cell_type": "code",
   "execution_count": null,
   "metadata": {
    "collapsed": false
   },
   "outputs": [],
   "source": [
    "names_with_D >= {\"John Doe\", \"David Mertz\"}  # Test for superset"
   ]
  },
  {
   "cell_type": "code",
   "execution_count": null,
   "metadata": {
    "collapsed": false
   },
   "outputs": [],
   "source": [
    "\"John Doe\" in names_with_D    # Membership in set"
   ]
  },
  {
   "cell_type": "code",
   "execution_count": null,
   "metadata": {
    "collapsed": false
   },
   "outputs": [],
   "source": [
    "names_with_D.add('David Mertz')\n",
    "names_with_D"
   ]
  },
  {
   "cell_type": "code",
   "execution_count": null,
   "metadata": {
    "collapsed": false
   },
   "outputs": [],
   "source": [
    "names_with_D.remove('David Mertz')\n",
    "names_with_D"
   ]
  },
  {
   "cell_type": "code",
   "execution_count": null,
   "metadata": {
    "collapsed": false
   },
   "outputs": [],
   "source": [
    "{x for x in instructors | names_with_D if 'Do' in x}"
   ]
  },
  {
   "cell_type": "markdown",
   "metadata": {},
   "source": [
    "## Exercise (choosing data structures)"
   ]
  },
  {
   "cell_type": "markdown",
   "metadata": {},
   "source": [
    "Let's imagine a sales company organization that might be represented as Python data.  For example, we might indicate the management structure with a Graphviz (dot) graphic like this:\n",
    "\n",
    "<img src=\"img/Orgchart.png\" width=\"300px\">\n",
    "\n",
    "```dot\n",
    "digraph Orgchart {\n",
    "    \"Sally Owner\"     -> \"Joe Manager\"\n",
    "    \"Sally Owner\"     -> \"Juan Supervisor\"\n",
    "    \"Joe Manager\"     -> \"Vijay Salesman\"\n",
    "    \"Joe Manager\"     -> \"Susan Park\"\n",
    "    \"Juan Supervisor\" -> \"Marcel Marketer\"\n",
    "    \"Susan Park\"      -> \"Marcel Marketer\" [arrowhead=none]\n",
    "    \"Joe Manager\"     -> \"Lei Hu\"\n",
    "    \"Vijay Salesman\"  -> \"Lei Hu\" [arrowhead=none]\n",
    "}\n",
    "```"
   ]
  },
  {
   "cell_type": "markdown",
   "metadata": {},
   "source": [
    "In the example, let's say that an arrow indicates a supervisory role over another employee, and a line with no arrows indicates a collaborative project.\n",
    "\n",
    "Moreover, we want to store some information about each employee, some of which we consider permanent, some of which we wish to update periodically, e.g.:\n",
    "\n",
    "```\n",
    "Name: Susan Park\n",
    "Birthday: 1964-01-15\n",
    "Branch: Seattle, WA\n",
    "Widgets sold: 1521\n",
    "Frobniz sold: 2400\n",
    "```"
   ]
  },
  {
   "cell_type": "markdown",
   "metadata": {},
   "source": [
    "Design a Python (collection of) data structure(s) to hold all the data pertaining to employees and the work relationships among them.  Ideally, your data structure will allow changing both data and relationships in a convenient manner, and will also allow hiring or termination of particular employees.\n",
    "\n",
    "Test out your data structure by experimentally changing information in this data structure. As a debugging aid, you might want to use the `pprint.pprint()` function to help visualize a current overall state."
   ]
  },
  {
   "cell_type": "code",
   "execution_count": 15,
   "metadata": {
    "collapsed": false
   },
   "outputs": [
    {
     "name": "stdout",
     "output_type": "stream",
     "text": [
      "['Bob', ('widgets', 100), ['Susan', ('widgets', 200)]]\n",
      "['Bob', ('widgets', 100), ['Sally', ('widgets', 300)]]\n"
     ]
    }
   ],
   "source": [
    "from collections import namedtuple\n",
    "susan = [\"Susan\", ('widgets', 200)]\n",
    "sally = [\"Sally\", ('widgets', 300)]\n",
    "bob = [\"Bob\", ('widgets', 100), susan]\n",
    "print(bob)\n",
    "bob[2] = sally\n",
    "print(bob)"
   ]
  },
  {
   "cell_type": "code",
   "execution_count": 16,
   "metadata": {
    "collapsed": false
   },
   "outputs": [
    {
     "name": "stdout",
     "output_type": "stream",
     "text": [
      "Cannot change an immutable tuple\n"
     ]
    },
    {
     "data": {
      "text/plain": [
       "Person(name='David', friends=['John', 'Jane'])"
      ]
     },
     "execution_count": 16,
     "metadata": {},
     "output_type": "execute_result"
    }
   ],
   "source": [
    "Person = namedtuple('Person', [\"name\", \"friends\"])\n",
    "david = Person(\"David\", [])\n",
    "try:\n",
    "    david.name = \"Sue\"\n",
    "except AttributeError:\n",
    "    print(\"Cannot change an immutable tuple\")\n",
    "    \n",
    "david.friends.append(\"John\")\n",
    "david.friends.append(\"Jane\")\n",
    "david"
   ]
  },
  {
   "cell_type": "code",
   "execution_count": 1,
   "metadata": {
    "collapsed": false
   },
   "outputs": [
    {
     "name": "stdout",
     "output_type": "stream",
     "text": [
      "Employee(name='Susan Park', birthday='1964-01-15', branch=[], sales=Counter({'Widgets': 10}), supervisor=[Employee(name='Joe Manager', birthday='1956-01-01', branch=[], sales=Counter(), supervisor=[])])\n"
     ]
    }
   ],
   "source": [
    "from collections import namedtuple, Counter\n",
    "Employee = namedtuple(\"Employee\", \"name birthday branch sales supervisor\")\n",
    "Susan = Employee(\"Susan Park\", \"1964-01-15\", [], Counter(), [])\n",
    "Susan.sales['Widgets'] += 10\n",
    "Joe = Employee(\"Joe Manager\", \"1956-01-01\", [], Counter(), [])\n",
    "Susan.supervisor.append(Joe)\n",
    "\n",
    "print(Susan)"
   ]
  },
  {
   "cell_type": "code",
   "execution_count": 8,
   "metadata": {
    "collapsed": false
   },
   "outputs": [
    {
     "data": {
      "text/plain": [
       "Counter({'Foobars': 30000, 'Frobnitz': 600, 'Widgets': 10})"
      ]
     },
     "execution_count": 8,
     "metadata": {},
     "output_type": "execute_result"
    }
   ],
   "source": [
    "Susan.sales['Frobnitz'] += 100\n",
    "Susan.sales['Foobars'] += 10000\n",
    "Susan.sales"
   ]
  },
  {
   "cell_type": "code",
   "execution_count": 2,
   "metadata": {
    "collapsed": false
   },
   "outputs": [
    {
     "name": "stdout",
     "output_type": "stream",
     "text": [
      "1956-01-01\n",
      "\n",
      "Employee(name='Susan Park', birthday='1964-01-15', branch=[], sales=Counter({'Widgets': 10}), supervisor=[])\n"
     ]
    }
   ],
   "source": [
    "def find_supervisor_bday(employee, which=0):\n",
    "    return employee.supervisor[which].birthday\n",
    "\n",
    "def fire_employee(employee):\n",
    "    pass\n",
    "\n",
    "def find_employee(name, company):\n",
    "    pass\n",
    "\n",
    "print(find_supervisor_bday(Susan))\n",
    "\n",
    "del Susan.supervisor[0]\n",
    "print()\n",
    "print(Susan)\n",
    "\n",
    "company = {1234567: Susan, 56789: Joe}"
   ]
  },
  {
   "cell_type": "markdown",
   "metadata": {},
   "source": [
    "## Input and output"
   ]
  },
  {
   "cell_type": "markdown",
   "metadata": {},
   "source": [
    "Data you work with will often live in files, which are easy to access from Python.  Of course, sometimes your data will also be in databases, or at URLs; these are also easy to work with in Python."
   ]
  },
  {
   "cell_type": "markdown",
   "metadata": {},
   "source": [
    "### Basic file I/O"
   ]
  },
  {
   "cell_type": "markdown",
   "metadata": {},
   "source": [
    "A few examples will illustrate reading and writing files generically."
   ]
  },
  {
   "cell_type": "code",
   "execution_count": null,
   "metadata": {
    "collapsed": true
   },
   "outputs": [],
   "source": [
    "# Let's first create a file to work with\n",
    "s = \"\"\"Lorem ipsum dolor sit amet, consectetur adipisicing elit, sed\n",
    "do eiusmod tempor incididunt ut labore et dolore magna aliqua.\"\"\"\n",
    "import textwrap\n",
    "s2 = textwrap.fill(s, width=35)\n",
    "out = open('lorem-ipsum','w')\n",
    "out.write(s2)\n",
    "out.close()"
   ]
  },
  {
   "cell_type": "code",
   "execution_count": null,
   "metadata": {
    "collapsed": false
   },
   "outputs": [],
   "source": [
    "out.write(\"More stuff\")"
   ]
  },
  {
   "cell_type": "code",
   "execution_count": null,
   "metadata": {
    "collapsed": false
   },
   "outputs": [],
   "source": [
    "# Now let's read the data back in from disk\n",
    "infile = open('lorem-ipsum')\n",
    "data = infile.read()   # Read the entire file\n",
    "infile.close()\n",
    "print(data)"
   ]
  },
  {
   "cell_type": "code",
   "execution_count": null,
   "metadata": {
    "collapsed": false
   },
   "outputs": [],
   "source": [
    "# It is often more idiomatic to read by lines in a loop\n",
    "# Also, the convenient new feature of \"context managers\" handles cleanup\n",
    "with open('lorem-ipsum') as infile:\n",
    "    for line in infile:\n",
    "        print(line.title(), end=\"\")"
   ]
  },
  {
   "cell_type": "code",
   "execution_count": null,
   "metadata": {
    "collapsed": false
   },
   "outputs": [],
   "source": [
    "# You can read in a limited amount of a file other than a line at a time\n",
    "from random import random\n",
    "infile = open('lorem-ipsum')\n",
    "while True:\n",
    "    chunk = infile.read(20)    # A very small block size to illustrate\n",
    "    if not chunk:\n",
    "        break\n",
    "    if random() < 0.5:\n",
    "        print(chunk.upper())\n",
    "    else:\n",
    "        print(chunk.lower())\n",
    "infile.close()"
   ]
  },
  {
   "cell_type": "markdown",
   "metadata": {},
   "source": [
    "### Delimited data files"
   ]
  },
  {
   "cell_type": "markdown",
   "metadata": {},
   "source": [
    "A few more examples will illustrate reading and writing CSV files (or similarly TSV, or other delimiters)."
   ]
  },
  {
   "cell_type": "code",
   "execution_count": null,
   "metadata": {
    "collapsed": false
   },
   "outputs": [],
   "source": [
    "# Print can output to a file\n",
    "from random import random\n",
    "with open('random-numbers','w') as randnum:\n",
    "    for _ in range(100):\n",
    "        print(\"%0.2f\" % random(), end=\",\", file=randnum)\n",
    "print(open('random-numbers').read())"
   ]
  },
  {
   "cell_type": "code",
   "execution_count": null,
   "metadata": {
    "collapsed": false
   },
   "outputs": [],
   "source": [
    "# Non-existent file\n",
    "fh = open('no-such-file')"
   ]
  },
  {
   "cell_type": "code",
   "execution_count": null,
   "metadata": {
    "collapsed": false
   },
   "outputs": [],
   "source": [
    "# Non-existent file, but in write mode\n",
    "fhnew = open('make-the-file', 'a')\n",
    "fhnew.close()\n",
    "!ls"
   ]
  },
  {
   "cell_type": "code",
   "execution_count": null,
   "metadata": {
    "collapsed": false
   },
   "outputs": [],
   "source": [
    "import os\n",
    "os.path.exists('no-such-file')"
   ]
  },
  {
   "cell_type": "code",
   "execution_count": null,
   "metadata": {
    "collapsed": false
   },
   "outputs": [],
   "source": [
    "stats = os.stat('report.txt')\n",
    "print(stats)\n",
    "import time\n",
    "time.asctime(time.localtime(stats.st_mtime))"
   ]
  },
  {
   "cell_type": "code",
   "execution_count": null,
   "metadata": {
    "collapsed": false
   },
   "outputs": [],
   "source": [
    "import csv\n",
    "with open('./data/AAPL.csv') as csvfile:\n",
    "    stockreader = csv.reader(csvfile)\n",
    "    for row in stockreader:\n",
    "        print(row)"
   ]
  },
  {
   "cell_type": "markdown",
   "metadata": {},
   "source": [
    "## Exercise (file like objects)"
   ]
  },
  {
   "cell_type": "markdown",
   "metadata": {},
   "source": [
    "Spend a few minutes playing around with other ways of opening files (or file-like) objects.  Consider the Python 3.4+ functions, classes, or objects `io.StringIO`, `gzip.open()`, `urllib.request.urlopen()`, `pipes.Template()`, `zipfile.ZipFile()`, `sys.stdin`, `sys.stdout`, `sys.stderr`.\n",
    "\n",
    "Write a bit of code that uses these file-like objects to read and write some data."
   ]
  },
  {
   "cell_type": "markdown",
   "metadata": {},
   "source": [
    "## Comprehensions"
   ]
  },
  {
   "cell_type": "markdown",
   "metadata": {},
   "source": [
    "All of the basic data collections in Python can be constructed using what are called \"comprehensions.\" These are compact ways of constructing a data collection \"all at once\" rather than building them up incrementally within a loop."
   ]
  },
  {
   "cell_type": "code",
   "execution_count": null,
   "metadata": {
    "collapsed": false
   },
   "outputs": [],
   "source": [
    "li = open('lorem-ipsum')\n",
    "s = li.read()\n",
    "words = s.split()\n",
    "li.close()\n",
    "print(s)\n",
    "print(words)"
   ]
  },
  {
   "cell_type": "code",
   "execution_count": null,
   "metadata": {
    "collapsed": false
   },
   "outputs": [],
   "source": [
    "# A list comprehension\n",
    "[word for word in open('lorem-ipsum').read().split() if 's' in word]"
   ]
  },
  {
   "cell_type": "code",
   "execution_count": null,
   "metadata": {
    "collapsed": false
   },
   "outputs": [],
   "source": [
    "# A set comprehension\n",
    "{word for word in open('lorem-ipsum').read().split() if 's' in word}"
   ]
  },
  {
   "cell_type": "code",
   "execution_count": null,
   "metadata": {
    "collapsed": false
   },
   "outputs": [],
   "source": [
    "# A dict comprehension\n",
    "li = open('lorem-ipsum').read().split()\n",
    "{pos:word for pos, word in enumerate(li) if 's' in word}"
   ]
  },
  {
   "cell_type": "code",
   "execution_count": null,
   "metadata": {
    "collapsed": false
   },
   "outputs": [],
   "source": [
    "# A generator comprehension\n",
    "gen = (word for word in open('lorem-ipsum').read().split() if 's' in word)\n",
    "gen   # This is a lazy object that is not realized until it is looped over"
   ]
  },
  {
   "cell_type": "code",
   "execution_count": null,
   "metadata": {
    "collapsed": false
   },
   "outputs": [],
   "source": [
    "for word in gen:\n",
    "    if word == 'sed':\n",
    "        break\n",
    "    print(word)"
   ]
  },
  {
   "cell_type": "markdown",
   "metadata": {},
   "source": [
    "Some people may be more familiar with \"classical\" functional-programming style functions `map()` and `filter()` (perhaps also `reduce()`).  List comprehensions are usually more readable and equivalent in power."
   ]
  },
  {
   "cell_type": "code",
   "execution_count": null,
   "metadata": {
    "collapsed": false
   },
   "outputs": [],
   "source": [
    "li = open('lorem-ipsum').read().split()\n",
    "s_words = filter(lambda word: 's' in word, li) \n",
    "print(list(s_words))"
   ]
  },
  {
   "cell_type": "code",
   "execution_count": null,
   "metadata": {
    "collapsed": false
   },
   "outputs": [],
   "source": [
    "s_words = filter(lambda word: 's' in word, li) \n",
    "s_caps = map(str.upper, s_words)\n",
    "print(list(s_caps))"
   ]
  },
  {
   "cell_type": "markdown",
   "metadata": {},
   "source": [
    "## A bit more on loops"
   ]
  },
  {
   "cell_type": "markdown",
   "metadata": {},
   "source": [
    "The `for` loop is the most common one, but there is also `while` which we've seen briefly.  Within loops, the `break` statement can be used to end a loop, and the `continue` statement can be used to skip executing the rest of the loop body in the current pass."
   ]
  },
  {
   "cell_type": "code",
   "execution_count": null,
   "metadata": {
    "collapsed": false
   },
   "outputs": [],
   "source": [
    "# Sometimes a 'while' loop is used to run infinitely \n",
    "# (until a break is reached)\n",
    "from random import random\n",
    "while True:\n",
    "    x = random()\n",
    "    if x < .1:\n",
    "        break\n",
    "    elif x > .9:\n",
    "        continue\n",
    "    print(x, end=' ')"
   ]
  },
  {
   "cell_type": "code",
   "execution_count": null,
   "metadata": {
    "collapsed": false
   },
   "outputs": [],
   "source": [
    "# Sometimes a 'while' loop is used to reach a condition that is known, \n",
    "# but where it's not clear how many times through the loop are needed\n",
    "a, b = 1, 1\n",
    "while b < 1000:     # How many Fibonacci numbers are under 1000?\n",
    "    a, b = b, a+b\n",
    "    print(a, end=' ')"
   ]
  },
  {
   "cell_type": "markdown",
   "metadata": {},
   "source": [
    "We saw the `enumerate()` function as a way to loop over two variables at once, specifically an index and a value from a sequence (such as a list, but any iterable works, as we will see).\n",
    "\n",
    "There are various other functions and methods that create multiple variables in a loop."
   ]
  },
  {
   "cell_type": "code",
   "execution_count": null,
   "metadata": {
    "collapsed": false
   },
   "outputs": [],
   "source": [
    "goog = {'acquired': '2015-01-15',\n",
    "        'broker': 'Roberto Cruz',\n",
    "        'price': 521.78,\n",
    "        'shares': 100,\n",
    "        'symbol': 'GOOG'}\n",
    "for key, value in goog.items():\n",
    "    print(key.ljust(10), \":\", value)"
   ]
  },
  {
   "cell_type": "code",
   "execution_count": null,
   "metadata": {
    "collapsed": false
   },
   "outputs": [],
   "source": [
    "from collections import OrderedDict\n",
    "firstnames = \"David Ben Christine\".split()\n",
    "lastnames = (\"Mertz\", \"Zaitlen\", \"Doig\")\n",
    "emails = OrderedDict()\n",
    "emails['David'] = \"dmertz@continuum.io\"\n",
    "emails['Ben'] = \"ben.zaitlen@continuum.io\"\n",
    "emails['Christine'] = \"christine.doig@continuum.io\"\n",
    "for first, last, email in zip(firstnames, lastnames, emails.values()):\n",
    "    print('\"%s %s\" <%s>' % (first, last, email))"
   ]
  },
  {
   "cell_type": "code",
   "execution_count": null,
   "metadata": {
    "collapsed": false
   },
   "outputs": [],
   "source": [
    "# A curious fact: 'zip()' is almost its own inverse\n",
    "z = zip(firstnames, lastnames, emails.values())\n",
    "list(zip(*z))"
   ]
  },
  {
   "cell_type": "markdown",
   "metadata": {},
   "source": [
    "## Functions"
   ]
  },
  {
   "cell_type": "markdown",
   "metadata": {},
   "source": [
    "Arguably, so far in the class we have not mentioned the most important element of programming. The previous 200-some cells have merely shown you how to use Python as a slightly glorified calculator. Mind you, a great deal of exploration of data, text, files, URLs, and so on need never be more than this.\n",
    "\n",
    "However, the essence of reusability of programming language code is its organization into components that can be called or used repeatedly. A fundamental mantra of programming is \"DRY\" (Don't Repeat Yourself). The basic units of reusability in Python are functions and classes.\n",
    "\n",
    "A function in Python is simply a name bound to some lines of programming code that also gives you a way to bind zero or more local variables to the running of those lines. In passing, we created a couple of functions in the cells above when using the `def` keyword. Let's look at some more explicit examples."
   ]
  },
  {
   "cell_type": "code",
   "execution_count": null,
   "metadata": {
    "collapsed": false
   },
   "outputs": [],
   "source": [
    "def general(a,b): # First version with fixed arguments, no keyword arguments\n",
    "    print('a = ',a)\n",
    "    print('b = ',b)\n",
    "general(1,2)"
   ]
  },
  {
   "cell_type": "code",
   "execution_count": null,
   "metadata": {
    "collapsed": false
   },
   "outputs": [],
   "source": [
    "def general(a,b,c=4): # This time, we've added a keyword argument (default value of c is 4)\n",
    "    print('a = ',a)\n",
    "    print('b = ',b)\n",
    "    print('c = ',c)\n",
    "general(1,2,3)"
   ]
  },
  {
   "cell_type": "code",
   "execution_count": null,
   "metadata": {
    "collapsed": false
   },
   "outputs": [],
   "source": [
    "general(7.5,-1) # calling with only 2 arguments uses default values"
   ]
  },
  {
   "cell_type": "code",
   "execution_count": null,
   "metadata": {
    "collapsed": false
   },
   "outputs": [],
   "source": [
    "general(a=7.2,b=3.4,c=8) # This invocation is useful for anyone reading my code later"
   ]
  },
  {
   "cell_type": "code",
   "execution_count": null,
   "metadata": {
    "collapsed": false
   },
   "outputs": [],
   "source": [
    "def general(a,b,c=4,d=5): # This time, we've added a keyword argument (default value of c is 4, d is 5)\n",
    "    print('a = ',a)\n",
    "    print('b = ',b)\n",
    "    print('c = ',c)\n",
    "    print('d = ',d)\n",
    "general(2,3)"
   ]
  },
  {
   "cell_type": "code",
   "execution_count": null,
   "metadata": {
    "collapsed": false
   },
   "outputs": [],
   "source": [
    "general(2,3,d=8,c=99.5)"
   ]
  },
  {
   "cell_type": "code",
   "execution_count": null,
   "metadata": {
    "collapsed": false
   },
   "outputs": [],
   "source": [
    "def general(a,b,c=4,d=5,*args): # This time, we add *args for artibrary extra input arguments (as a tuple)\n",
    "    print('a = ',a)\n",
    "    print('b = ',b)\n",
    "    print('c = ',c)\n",
    "    print('d = ',d)\n",
    "    print('args = ', args)\n",
    "general(1,2,3,4,5,6,7,8,9) # a..d will be assigned 1..4, while args will be a tuple from 5..9"
   ]
  },
  {
   "cell_type": "code",
   "execution_count": null,
   "metadata": {
    "collapsed": false
   },
   "outputs": [],
   "source": [
    "general(1,2,6,7,8)"
   ]
  },
  {
   "cell_type": "code",
   "execution_count": null,
   "metadata": {
    "collapsed": false
   },
   "outputs": [],
   "source": [
    "# The basic signature of a function takes some positional arguments, some named arguments.\n",
    "# It may also collect any extra positional or named argument into a general tuple or dict\n",
    "def general(a, b, c=4, d=5, *args, **kws):\n",
    "    print(\"a =\", a)\n",
    "    print(\"b =\", b)\n",
    "    print(\"c =\", c)\n",
    "    print(\"d =\", d)\n",
    "    print(\"args =\", args)\n",
    "    print(\"kws =\", kws)\n",
    "    \n",
    "general(1,2)"
   ]
  },
  {
   "cell_type": "code",
   "execution_count": null,
   "metadata": {
    "collapsed": false
   },
   "outputs": [],
   "source": [
    "general('a','b', d=\"d\", name=\"Kim\")"
   ]
  },
  {
   "cell_type": "code",
   "execution_count": null,
   "metadata": {
    "collapsed": false
   },
   "outputs": [],
   "source": [
    "# Named keyword arguments can also be specified by their position alone\n",
    "general(1,2,3,4,5,6,7,8,9)"
   ]
  },
  {
   "cell_type": "code",
   "execution_count": null,
   "metadata": {
    "collapsed": false
   },
   "outputs": [],
   "source": [
    "general(a=1, b=2)"
   ]
  },
  {
   "cell_type": "code",
   "execution_count": null,
   "metadata": {
    "collapsed": false
   },
   "outputs": [],
   "source": [
    "# If there is no \"pick-up\" of extra positional or keyword args, call can fail\n",
    "def twoargs(a, b=1):\n",
    "    print(\"a =\", a)\n",
    "    print(\"b =\", b)\n",
    "    \n",
    "twoargs(1,2,3)"
   ]
  },
  {
   "cell_type": "code",
   "execution_count": null,
   "metadata": {
    "collapsed": false
   },
   "outputs": [],
   "source": [
    "twoargs(1, c=3) # Syntax error because c is not a valied keyname & we haven't used **kws"
   ]
  },
  {
   "cell_type": "markdown",
   "metadata": {},
   "source": [
    "### Returning values"
   ]
  },
  {
   "cell_type": "markdown",
   "metadata": {},
   "source": [
    "The last two examples were functions called only for their side effects (and to illustrate calling conventions). Most of the time, you want to call functions in order to calculate values. The statement `return` can be used to pass one or more values back to a caller. In fact, even when no `return` statement is present, the value of `None` is implicitly passed back to a caller (but it may or may not be bound to a variable with the call)."
   ]
  },
  {
   "cell_type": "code",
   "execution_count": null,
   "metadata": {
    "collapsed": true
   },
   "outputs": [],
   "source": [
    "# A reusable \"fibonacci up to N\" function\n",
    "def fibs_under(N):\n",
    "    count = 0\n",
    "    a, b = 1, 1\n",
    "    while b < N:     # How many Fibonacci numbers are under N?\n",
    "        a, b = b, a+b\n",
    "        count += 1\n",
    "    return a, count"
   ]
  },
  {
   "cell_type": "code",
   "execution_count": null,
   "metadata": {
    "collapsed": false
   },
   "outputs": [],
   "source": [
    "largest, count = fibs_under(1000)\n",
    "print(largest, count)"
   ]
  },
  {
   "cell_type": "code",
   "execution_count": null,
   "metadata": {
    "collapsed": false
   },
   "outputs": [],
   "source": [
    "largest, count = fibs_under(10000)\n",
    "print(largest, count)"
   ]
  },
  {
   "cell_type": "code",
   "execution_count": null,
   "metadata": {
    "collapsed": false
   },
   "outputs": [],
   "source": [
    "largest, count = fibs_under(1e6)\n",
    "print(largest)\n",
    "print(count)"
   ]
  },
  {
   "cell_type": "markdown",
   "metadata": {},
   "source": [
    "### Lambdas"
   ]
  },
  {
   "cell_type": "markdown",
   "metadata": {},
   "source": [
    "There is a special form of function definition that is often used for single-use and in-line definitions.  The word `lambda` defines an \"unnamed function.\"  A `lambda` function does not use a `return` statement, but rather simply returns the single expression in its body."
   ]
  },
  {
   "cell_type": "code",
   "execution_count": null,
   "metadata": {
    "collapsed": false
   },
   "outputs": [],
   "source": [
    "myfun = lambda line: line.endswith('a\\n')\n",
    "print( myfun(\"This line doesn't end in a. It ends in b\\n\"))\n",
    "print( myfun(\"This line **does** end in a\\n\"))"
   ]
  },
  {
   "cell_type": "code",
   "execution_count": null,
   "metadata": {
    "collapsed": false
   },
   "outputs": [],
   "source": [
    "myfun = lambda line: not line.endswith('wrote:\\n')\n",
    "print( myfun(\"This line doesn't end in 'wrote'. It ends in something else\\n\"))\n",
    "print( myfun(\"This line **does** end in wrote:\\n\"))"
   ]
  },
  {
   "cell_type": "code",
   "execution_count": null,
   "metadata": {
    "collapsed": false
   },
   "outputs": [],
   "source": [
    "# Here's another lambda function:\n",
    "f = lambda x,y : x + 2*y\n",
    "f(3,4)"
   ]
  },
  {
   "cell_type": "code",
   "execution_count": null,
   "metadata": {
    "collapsed": false
   },
   "outputs": [],
   "source": [
    "# An earier cell used this example\n",
    "message = \"\"\"\n",
    "David Mertz, Ph.D. <dmertz@continuum.io> wrote:\n",
    "Lorem ipsum dolor sit amet,\n",
    "consectetur adipisicing elit, sed\n",
    "do eiusmod tempor incididunt ut\n",
    "labore et dolore magna aliqua.\n",
    "\"\"\".strip()\n",
    "print(message)"
   ]
  },
  {
   "cell_type": "code",
   "execution_count": null,
   "metadata": {
    "collapsed": false
   },
   "outputs": [],
   "source": [
    "import textwrap\n",
    "print(textwrap.indent(message, '> ', \n",
    "                      predicate=lambda l: not l.endswith('wrote:\\n')))"
   ]
  },
  {
   "cell_type": "code",
   "execution_count": null,
   "metadata": {
    "collapsed": false
   },
   "outputs": [],
   "source": [
    "# We could create a named function, but since it is a one-time use, we often will not\n",
    "def not_attribution(line):\n",
    "    return not line.endswith('wrote:\\n')\n",
    "print(textwrap.indent(message, '> ', predicate=not_attribution))"
   ]
  },
  {
   "cell_type": "code",
   "execution_count": null,
   "metadata": {
    "collapsed": true
   },
   "outputs": [],
   "source": [
    "# Perhaps slightly paradoxically, an \"unnamed function\" \n",
    "# can be bound to a name also\n",
    "not_attributionL = lambda l: not l.endswith('wrote:\\n')\n",
    "\n",
    "# But actually it's not so odd, ANYTHING in Python can be bound to\n",
    "# as many names as you like (and also to places in collections, etc)"
   ]
  },
  {
   "cell_type": "code",
   "execution_count": null,
   "metadata": {
    "collapsed": false
   },
   "outputs": [],
   "source": [
    "print(not_attribution.__qualname__)\n",
    "print(not_attributionL.__qualname__)"
   ]
  },
  {
   "cell_type": "code",
   "execution_count": null,
   "metadata": {
    "collapsed": false
   },
   "outputs": [],
   "source": [
    "not_attributionL"
   ]
  },
  {
   "cell_type": "code",
   "execution_count": null,
   "metadata": {
    "collapsed": false
   },
   "outputs": [],
   "source": [
    "not_attributionL.__qualname__ = \"not_attributionL\"\n",
    "not_attributionL"
   ]
  },
  {
   "cell_type": "markdown",
   "metadata": {},
   "source": [
    "### Generator functions"
   ]
  },
  {
   "cell_type": "markdown",
   "metadata": {},
   "source": [
    "#### `yield`"
   ]
  },
  {
   "cell_type": "markdown",
   "metadata": {},
   "source": [
    "If a function contains the keyword `yield`, it a \"generator function\". This means that it is resumable, and is often used to generate lazy sequences. Using generator, and combining them in flexible ways, especially using the `itertools` module is very powerful, and saves memory allocation and defers computation."
   ]
  },
  {
   "cell_type": "code",
   "execution_count": null,
   "metadata": {
    "collapsed": true
   },
   "outputs": [],
   "source": [
    "def get_primes():\n",
    "    \"Simple lazy Sieve of Eratosthenes\"\n",
    "    candidate = 2\n",
    "    found = []\n",
    "    while True:\n",
    "        if all(candidate % prime != 0 for prime in found):\n",
    "            yield candidate\n",
    "            found.append(candidate)\n",
    "        candidate += 1"
   ]
  },
  {
   "cell_type": "code",
   "execution_count": null,
   "metadata": {
    "collapsed": false
   },
   "outputs": [],
   "source": [
    "primes = get_primes()\n",
    "print(next(primes))\n",
    "print(next(primes))\n",
    "print(next(primes))\n",
    "print(next(primes))"
   ]
  },
  {
   "cell_type": "code",
   "execution_count": null,
   "metadata": {
    "collapsed": false
   },
   "outputs": [],
   "source": [
    "for _, prime in zip(range(10), primes):\n",
    "    print(prime, end=\" \")"
   ]
  },
  {
   "cell_type": "code",
   "execution_count": null,
   "metadata": {
    "collapsed": false
   },
   "outputs": [],
   "source": [
    "next(primes)"
   ]
  },
  {
   "cell_type": "code",
   "execution_count": null,
   "metadata": {
    "collapsed": false
   },
   "outputs": [],
   "source": [
    "primes2 = get_primes()\n",
    "next(primes), next(primes2)"
   ]
  },
  {
   "cell_type": "markdown",
   "metadata": {},
   "source": [
    "#### `yield from`"
   ]
  },
  {
   "cell_type": "markdown",
   "metadata": {},
   "source": [
    "### Module: itertools"
   ]
  },
  {
   "cell_type": "markdown",
   "metadata": {},
   "source": [
    "The module `itertools` is a collection of very powerful—and carefully designed—functions for performing *iterator algebra*.  That is, these allow you to combine iterators in sophisticated ways without having to concretely instantiate anything more than is currently required. In addition to the basic functions in the module itself, the [module documentation](https://docs.python.org/3.5/library/itertools.html) provides a number of short, but easy to get subtly wrong, recipes for additional functions that each utilize two or three of the basic functions in combination.  The third-party module `more_itertools` provides additional functions that are likewise designed to avoid common pitfalls and edge cases.\n",
    "\n",
    "The basic goal of using the building blocks inside `itertools` is to avoid performing computations before they are required, to avoid the memory requirements of a large instantiated collection, to avoid potentially slow I/O until it is stricly required, and so on. Iterators are lazy sequences rather than realized collections, and when combined with functions or recipes in `itertools` they retain this property.\n",
    "\n",
    "Here is a quick example of combining a few things. Rather than the stateful `Fibonacci` class to let us keep a running sum, we might simply create a single lazy iterator to generate both the current number and this sum:\n",
    "\n",
    "The documentation for the `itertools` module contain details on its combinatorial functions as well as a number of short recipes for combining them. This paper does not have space to repeat those descriptions, so just exhibiting a few of them above will suffice. Note that for practical purposes, `zip()`, `map()`, `filter()`, and `range()` (which is, in a sense, just a terminating `itertools.count()`) could well live in `itertools` if they were not built-ins.  That is, all of those functions lazily generate sequential items (mostly based on existing iterables) without creating a concrete sequence. Built-ins like `all()`, `any()`, `sum()`, `min()`, `max()`, and `functools.reduce()` also act on iterables, but all of them, in the general case, need to exhaust the iterator rather than remain lazy. The function `itertools.product()` might be out of place in its module since it also creates concrete cached sequences, and cannot operate on infinite iterators."
   ]
  },
  {
   "cell_type": "code",
   "execution_count": null,
   "metadata": {
    "collapsed": false
   },
   "outputs": [],
   "source": [
    "# Iterate over both fibonacci number and running total of the sequence\n",
    "def fibonacci():\n",
    "    a, b = 1, 1\n",
    "    while True:\n",
    "        yield a\n",
    "        a, b = b, a+b\n",
    "fibs = fibonacci()\n",
    "next(fibs), next(fibs), next(fibs)"
   ]
  },
  {
   "cell_type": "code",
   "execution_count": null,
   "metadata": {
    "collapsed": false
   },
   "outputs": [],
   "source": [
    "from itertools import tee, accumulate\n",
    "def item_with_total(it):\n",
    "    s, t = tee(it)\n",
    "    yield from zip(t, accumulate(s))\n",
    "    # Equivalent to:\n",
    "    # for item, total in zip(t, accumulate(s)):\n",
    "    #     yield item, total\n",
    "    \n",
    "for n, (fib, total) in zip(range(10), item_with_total(fibonacci())):\n",
    "    print(\"%3d. Item: %3d; Total: %3d\" % (n+1, fib, total))"
   ]
  },
  {
   "cell_type": "markdown",
   "metadata": {},
   "source": [
    "### Large sequences, even if not quite infinitely long"
   ]
  },
  {
   "cell_type": "markdown",
   "metadata": {},
   "source": [
    "```python\n",
    "log1 = open('huge.log')\n",
    "seq = itertools.count()\n",
    "rows = db.execute(\"select * from big_data\")\n",
    "z = zip(log1, seq, rows)\n",
    "for line, num, row in z:\n",
    "    if something:\n",
    "        break\n",
    "    something_else(line, num, row)\n",
    "```"
   ]
  },
  {
   "cell_type": "markdown",
   "metadata": {},
   "source": [
    "### Chaining iterables"
   ]
  },
  {
   "cell_type": "markdown",
   "metadata": {},
   "source": [
    "The functions `itertools.chain()` and `itertools.chain.from_iterable()` combine multiple iterables.  Built-in `zip()` and `itertools.zip_longest()` also do this, but in manners that allow incremental advancement through the iterables.  A consequence of this is that while chaining infinite iterables is valid syntactically and semantically, no actual program will exhaust the earlier iterable. For example:\n",
    "\n",
    "```python\n",
    "from itertools import chain, count\n",
    "thrice_to_inf = chain(count(), count(), count())\n",
    "```"
   ]
  },
  {
   "cell_type": "markdown",
   "metadata": {},
   "source": [
    "Conceptually, `thrice_to_inf` will count to infinity three times, but in practice once would always be enough.  However, for merely *large* iterables—not for infinite ones—chaining can be very useful and parsimonious."
   ]
  },
  {
   "cell_type": "code",
   "execution_count": null,
   "metadata": {
    "collapsed": false
   },
   "outputs": [],
   "source": [
    "from glob import glob\n",
    "from itertools import chain, islice\n",
    "def from_logs(fnames):\n",
    "    yield from (open(file) for file in fnames)\n",
    "    \n",
    "logs = glob('/Users/dmertz/Library/Logs/*.log')\n",
    "lines = chain.from_iterable(from_logs(logs))\n",
    "for line in islice(lines, 16002, 16006):\n",
    "    print(line, end='')"
   ]
  },
  {
   "cell_type": "code",
   "execution_count": null,
   "metadata": {
    "collapsed": false
   },
   "outputs": [],
   "source": [
    "next(lines)"
   ]
  },
  {
   "cell_type": "code",
   "execution_count": null,
   "metadata": {
    "collapsed": false
   },
   "outputs": [],
   "source": [
    "next(lines)"
   ]
  },
  {
   "cell_type": "markdown",
   "metadata": {},
   "source": [
    "Besides the chaining with `itertools`, we should mention `collections.ChainMap()` in the same breath. Dictionaries (or generally any `collections.abc.Mapping`) are iterable (over their keys). Just as we might want to chain multiple sequence-like iterables, we sometimes want to chain together multiple mappings without needing to create a single larger concrete one. `ChainMap()` is handy, and does not alter the underlying mappings used to construct it."
   ]
  },
  {
   "cell_type": "markdown",
   "metadata": {},
   "source": [
    "## Exercise (creating iterables)"
   ]
  },
  {
   "cell_type": "markdown",
   "metadata": {},
   "source": [
    "Invent a clever iterable using the `yield` keyword to define a generator function.  In fact, invent a couple of them.  See if you can combine or utilize them in interesting ways using the tools in the `itertools` module."
   ]
  },
  {
   "cell_type": "markdown",
   "metadata": {},
   "source": [
    "### `nonlocal` and `global`"
   ]
  },
  {
   "cell_type": "markdown",
   "metadata": {},
   "source": [
    "Within a function that defines locals, either as parameters or within a function body, it is possible to modify the state of variables in an enclosing or global (module) scope."
   ]
  },
  {
   "cell_type": "code",
   "execution_count": null,
   "metadata": {
    "collapsed": false
   },
   "outputs": [],
   "source": [
    "spam = 1\n",
    "def set_spam(N):\n",
    "    spam = N\n",
    "    print(locals())\n",
    "set_spam(10)\n",
    "print(spam)\n",
    "del spam   # Explicit remove reference to value\n",
    "print(spam)"
   ]
  },
  {
   "cell_type": "code",
   "execution_count": null,
   "metadata": {
    "collapsed": false
   },
   "outputs": [],
   "source": [
    "spam = 1\n",
    "def more_spam(N):\n",
    "    global spam\n",
    "    spam += N\n",
    "more_spam(10)\n",
    "spam"
   ]
  },
  {
   "cell_type": "code",
   "execution_count": null,
   "metadata": {
    "collapsed": false
   },
   "outputs": [],
   "source": [
    "spam = 1\n",
    "eggs = 1\n",
    "def more_spam(N):\n",
    "    spam = 10\n",
    "    def incr_spam(N):\n",
    "        global eggs\n",
    "        nonlocal spam\n",
    "        spam += N\n",
    "        eggs += N\n",
    "    print(\"Local spam\", spam)\n",
    "    incr_spam(N)\n",
    "    print(\"Nonlocal spam\", spam)\n",
    "    \n",
    "print(\"Global spam\", spam)    \n",
    "more_spam(5)\n",
    "print(\"Gobal spam\", spam)\n",
    "print(\"Global eggs\", eggs)"
   ]
  },
  {
   "cell_type": "markdown",
   "metadata": {},
   "source": [
    "That's pretty much it! You can put into the body of a function the same constructs we have discussed already in this course."
   ]
  },
  {
   "cell_type": "markdown",
   "metadata": {},
   "source": [
    "## Classes"
   ]
  },
  {
   "cell_type": "markdown",
   "metadata": {},
   "source": [
    "You *can* organize an entire complex project around functions only. This approach is what is called a \"functional programming\" style. However, most larger-scale Python projects use an object-oriented programming style, at least in part."
   ]
  },
  {
   "cell_type": "code",
   "execution_count": null,
   "metadata": {
    "collapsed": false
   },
   "outputs": [],
   "source": [
    "class Mammal(object):\n",
    "    def __init__(self, name):\n",
    "        self.name = name\n",
    "        self.legs = 4\n",
    "        \n",
    "    def say(self):\n",
    "        raise NotImplemented\n",
    "        \n",
    "class Pet(Mammal):\n",
    "    pass\n",
    "\n",
    "class Dog(Pet):\n",
    "    def say(self):\n",
    "        print(\"Woof! My name is %s\" % self.name)\n",
    "        \n",
    "class Cat(Pet):\n",
    "    def say(self):\n",
    "        print(\"Meow! My name is %s\" % self.name)\n",
    "        \n",
    "class Bird(object):\n",
    "    def __init__(self, name):\n",
    "        self.name = name\n",
    "        self.legs = 2\n",
    "        \n",
    "    def say(self):\n",
    "        raise NotImplemented\n",
    "        \n",
    "class Duck(Bird):\n",
    "    def say(self):\n",
    "        print(\"Quack! my name is %s\" % self.name)\n",
    "        \n",
    "class Pony(Mammal):\n",
    "    def say(self, extra=\", Bray!\"):\n",
    "        print(\"Wheee, my name is %s\" % self.name, extra)"
   ]
  },
  {
   "cell_type": "code",
   "execution_count": null,
   "metadata": {
    "collapsed": false
   },
   "outputs": [],
   "source": [
    "mypony = Pony(\"Charlie\")\n",
    "mypony.say()\n",
    "\n",
    "doug = Dog(\"Doug\")\n",
    "doug.legs = 3\n",
    "\n",
    "animals = [Cat('Sally'), Dog('Rover'), Duck('Dolly'), \n",
    "           doug, Cat('Kitty'), 3.14]\n",
    "animals"
   ]
  },
  {
   "cell_type": "code",
   "execution_count": null,
   "metadata": {
    "collapsed": false
   },
   "outputs": [],
   "source": [
    "for animal in animals:\n",
    "    try:\n",
    "        animal.say()\n",
    "    except AttributeError as e:\n",
    "        print(\"That thing, %s, can't say anything\" % animal)        "
   ]
  },
  {
   "cell_type": "code",
   "execution_count": null,
   "metadata": {
    "collapsed": false
   },
   "outputs": [],
   "source": [
    "doug.name, doug.legs, doug.say()"
   ]
  },
  {
   "cell_type": "code",
   "execution_count": null,
   "metadata": {
    "collapsed": false
   },
   "outputs": [],
   "source": [
    "doug.tail = \"Wagging\""
   ]
  },
  {
   "cell_type": "markdown",
   "metadata": {},
   "source": [
    "## Performing magic with classes"
   ]
  },
  {
   "cell_type": "code",
   "execution_count": null,
   "metadata": {
    "collapsed": true
   },
   "outputs": [],
   "source": [
    "# A bit of cleverness to create a new sequence for infinite iterators\n",
    "from collections.abc import Sequence\n",
    "class ExpandingSequence(Sequence):\n",
    "    def __init__(self, it):\n",
    "        self.it = it\n",
    "        self._cache = []\n",
    "    def __getitem__(self, index):\n",
    "        while len(self._cache) <= index:\n",
    "            self._cache.append(next(self.it))\n",
    "        return self._cache[index]\n",
    "    def __len__(self):\n",
    "        return len(self._cache)"
   ]
  },
  {
   "cell_type": "code",
   "execution_count": null,
   "metadata": {
    "collapsed": false
   },
   "outputs": [],
   "source": [
    "primes = ExpandingSequence(get_primes())\n",
    "for _, p in zip(range(10), primes):\n",
    "    print(p, end=\" \")"
   ]
  },
  {
   "cell_type": "code",
   "execution_count": null,
   "metadata": {
    "collapsed": false
   },
   "outputs": [],
   "source": [
    "primes[10]"
   ]
  },
  {
   "cell_type": "code",
   "execution_count": null,
   "metadata": {
    "collapsed": false
   },
   "outputs": [],
   "source": [
    "primes[5]"
   ]
  },
  {
   "cell_type": "code",
   "execution_count": null,
   "metadata": {
    "collapsed": false
   },
   "outputs": [],
   "source": [
    "len(primes)"
   ]
  },
  {
   "cell_type": "code",
   "execution_count": null,
   "metadata": {
    "collapsed": false
   },
   "outputs": [],
   "source": [
    "len(get_primes())"
   ]
  },
  {
   "cell_type": "code",
   "execution_count": null,
   "metadata": {
    "collapsed": false
   },
   "outputs": [],
   "source": [
    "primes[100]"
   ]
  },
  {
   "cell_type": "code",
   "execution_count": null,
   "metadata": {
    "collapsed": false
   },
   "outputs": [],
   "source": [
    "len(primes)"
   ]
  },
  {
   "cell_type": "code",
   "execution_count": null,
   "metadata": {
    "collapsed": false
   },
   "outputs": [],
   "source": [
    "print(primes._cache)"
   ]
  },
  {
   "cell_type": "code",
   "execution_count": null,
   "metadata": {
    "collapsed": false
   },
   "outputs": [],
   "source": [
    "257 in primes._cache"
   ]
  },
  {
   "cell_type": "code",
   "execution_count": null,
   "metadata": {
    "collapsed": false
   },
   "outputs": [],
   "source": [
    "257 in primes"
   ]
  },
  {
   "cell_type": "code",
   "execution_count": null,
   "metadata": {
    "collapsed": false
   },
   "outputs": [],
   "source": [
    "print(primes)"
   ]
  },
  {
   "cell_type": "code",
   "execution_count": null,
   "metadata": {
    "collapsed": true
   },
   "outputs": [],
   "source": [
    "class Capitalizer(dict):\n",
    "    def __getitem__(self, word):\n",
    "        return word.upper()\n",
    "    \n",
    "    @staticmethod\n",
    "    def lowerer(word):\n",
    "        return word.lower()"
   ]
  },
  {
   "cell_type": "code",
   "execution_count": null,
   "metadata": {
    "collapsed": false
   },
   "outputs": [],
   "source": [
    "capitalizer = Capitalizer()\n",
    "print(capitalizer['ivan'])\n",
    "capitalizer['david'] = 'Mertz'\n",
    "print(capitalizer['david'])"
   ]
  },
  {
   "cell_type": "code",
   "execution_count": null,
   "metadata": {
    "collapsed": false
   },
   "outputs": [],
   "source": [
    "capitalizer['moise'] = \"Smith\"\n",
    "capitalizer.items()"
   ]
  },
  {
   "cell_type": "code",
   "execution_count": null,
   "metadata": {
    "collapsed": false
   },
   "outputs": [],
   "source": [
    "Capitalizer.lowerer('Ivan')"
   ]
  },
  {
   "cell_type": "code",
   "execution_count": null,
   "metadata": {
    "collapsed": false
   },
   "outputs": [],
   "source": [
    "capitalizer.lowerer('Ivan')"
   ]
  },
  {
   "cell_type": "code",
   "execution_count": null,
   "metadata": {
    "collapsed": false
   },
   "outputs": [],
   "source": [
    "dct = {'David':'Mertz', 'James':'Lowden'}\n",
    "dct['David']"
   ]
  },
  {
   "cell_type": "code",
   "execution_count": null,
   "metadata": {
    "collapsed": false
   },
   "outputs": [],
   "source": [
    "dct.__getitem__('James')"
   ]
  },
  {
   "cell_type": "markdown",
   "metadata": {},
   "source": [
    "## Exercise (create a magic object)"
   ]
  },
  {
   "cell_type": "markdown",
   "metadata": {},
   "source": [
    "Take a look at the [\"special method names\"](https://docs.python.org/3/reference/datamodel.html) in Python. Create one or more classes, and instances thereof, that respond to the Python syntax we've learned in *special* or surprising ways.  Try to think of something that is actually intuitive or useful in these behaviors."
   ]
  },
  {
   "cell_type": "code",
   "execution_count": null,
   "metadata": {
    "collapsed": false
   },
   "outputs": [],
   "source": [
    "# An example of \"interesting\" special behavior\n",
    "# A very small and terrible \"DSL\" (domain specific language)\n",
    "class PeterPiper(object):\n",
    "    def __init__(self, who=\"Peter Piper\"):\n",
    "        self.who = who\n",
    "    def __call__(self):\n",
    "        return \"%s picked a peck of pickled peppers\" % self.who\n",
    "    def __floordiv__(self, other):\n",
    "        self.who = other\n",
    "    \n",
    "class ShellCat(object):\n",
    "    def __lt__(self, other):\n",
    "        print(other)\n",
    "        \n",
    "david = PeterPiper('David')\n",
    "cat = ShellCat()\n",
    "\n",
    "cat < david()\n",
    "david // \"Bruce\"\n",
    "cat < david()"
   ]
  },
  {
   "cell_type": "code",
   "execution_count": null,
   "metadata": {
    "collapsed": false
   },
   "outputs": [],
   "source": [
    "class Person(object):\n",
    "    def __init__(self, name, age):\n",
    "        self.name = name\n",
    "        self.age = age\n",
    "    def __lt__(self, other):\n",
    "        return self.age < other.age\n",
    "    \n",
    "james = Person(\"James Lowden\", 54)\n",
    "david = Person(\"David Mertz\", 50)\n",
    "david < james"
   ]
  },
  {
   "cell_type": "markdown",
   "metadata": {},
   "source": [
    "## Exceptions"
   ]
  },
  {
   "cell_type": "markdown",
   "metadata": {},
   "source": [
    "`try` / `except` / `finally`"
   ]
  },
  {
   "cell_type": "code",
   "execution_count": null,
   "metadata": {
    "collapsed": false
   },
   "outputs": [],
   "source": [
    "denominators = [3, 4, 1, 0, 6, 9]\n",
    "for n, denom in enumerate(denominators):\n",
    "    try:\n",
    "        ratio = 7/denom\n",
    "    except ZeroDivisionError as e:\n",
    "        break\n",
    "    except ValueError as e:\n",
    "        print(\"Wow! How did that happen?\")\n",
    "        raise\n",
    "    except (ArithmeticError, AssertionError, AttributeError) as e:\n",
    "        continue\n",
    "    except:\n",
    "        print(\"I am a very naughty programmer\")\n",
    "        continue\n",
    "    finally:\n",
    "        print(\"We divided %d times out of %d elements\" % (n+1, len(denominators)))"
   ]
  },
  {
   "cell_type": "markdown",
   "metadata": {},
   "source": [
    "## Writing scripts"
   ]
  },
  {
   "cell_type": "markdown",
   "metadata": {},
   "source": [
    "* Checking `__name__ == \"__main__\"`\n",
    "* Loading modules and loading from modules\n",
    "* Modules are objects\n",
    "* `import as`\n",
    "* `from module import *` (and why to do this rarely)"
   ]
  },
  {
   "cell_type": "code",
   "execution_count": null,
   "metadata": {
    "collapsed": false
   },
   "outputs": [],
   "source": [
    "import math, re\n",
    "math.pi"
   ]
  },
  {
   "cell_type": "code",
   "execution_count": null,
   "metadata": {
    "collapsed": false
   },
   "outputs": [],
   "source": [
    "import unicodedata\n",
    "unicodedata.east_asian_width(\"a\")"
   ]
  },
  {
   "cell_type": "code",
   "execution_count": null,
   "metadata": {
    "collapsed": false
   },
   "outputs": [],
   "source": [
    "from unicodedata import east_asian_width\n",
    "east_asian_width('b')"
   ]
  },
  {
   "cell_type": "code",
   "execution_count": null,
   "metadata": {
    "collapsed": false
   },
   "outputs": [],
   "source": [
    "from unicodedata import east_asian_width as eaw\n",
    "eaw('c')"
   ]
  },
  {
   "cell_type": "code",
   "execution_count": null,
   "metadata": {
    "collapsed": false
   },
   "outputs": [],
   "source": [
    "help(eaw)"
   ]
  },
  {
   "cell_type": "markdown",
   "metadata": {},
   "source": [
    "ED5. East Asian Narrow (Na): All other characters that are always narrow and have explicit fullwidth or wide counterparts. These characters are implicitly narrow in East Asian typography and legacy character sets because they have explicit fullwidth or wide counterparts. All of ASCII is an example of East Asian Narrow characters."
   ]
  },
  {
   "cell_type": "code",
   "execution_count": null,
   "metadata": {
    "collapsed": false
   },
   "outputs": [],
   "source": [
    "from itertools import *\n",
    "for n in count():\n",
    "    print(n)\n",
    "    if n > 10: break"
   ]
  },
  {
   "cell_type": "code",
   "execution_count": null,
   "metadata": {
    "collapsed": false
   },
   "outputs": [],
   "source": [
    "import itertools\n",
    "dir(itertools)"
   ]
  },
  {
   "cell_type": "code",
   "execution_count": null,
   "metadata": {
    "collapsed": false
   },
   "outputs": [],
   "source": [
    "from math import sin, cos, tan, pi\n",
    "print(sin(pi))\n",
    "print(cos(pi))\n",
    "print(tan(pi))"
   ]
  },
  {
   "cell_type": "code",
   "execution_count": null,
   "metadata": {
    "collapsed": false
   },
   "outputs": [],
   "source": [
    "import itertools\n",
    "list(itertools.islice(itertools.count(), 100, 110))"
   ]
  },
  {
   "cell_type": "code",
   "execution_count": null,
   "metadata": {
    "collapsed": false
   },
   "outputs": [],
   "source": [
    "__name__"
   ]
  },
  {
   "cell_type": "markdown",
   "metadata": {},
   "source": [
    "## Modules and Packages (and sub-packages)"
   ]
  },
  {
   "cell_type": "markdown",
   "metadata": {},
   "source": [
    "## Exercise (creating packages)"
   ]
  },
  {
   "cell_type": "markdown",
   "metadata": {},
   "source": [
    "Read the description of who (sub-)package namespaces are created at https://docs.python.org/3.4/tutorial/modules.html#packages.  Jumping outside this Notebook to a command shell, and IDE of your choice, or a file manager, create your own first package with subpackages.  \n",
    "\n",
    "You might want to put this package root at the current directory (`os.getcwd()` or `!pwd`).  Otherwise you can manually modify `sys.path`.  In either case, play with doing imports and running functions that you've put into your package structure."
   ]
  },
  {
   "cell_type": "code",
   "execution_count": null,
   "metadata": {
    "collapsed": true
   },
   "outputs": [],
   "source": []
  }
 ],
 "metadata": {
  "kernelspec": {
   "display_name": "Python 3",
   "language": "python",
   "name": "python3"
  },
  "language_info": {
   "codemirror_mode": {
    "name": "ipython",
    "version": 3
   },
   "file_extension": ".py",
   "mimetype": "text/x-python",
   "name": "python",
   "nbconvert_exporter": "python",
   "pygments_lexer": "ipython3",
   "version": "3.5.3"
  }
 },
 "nbformat": 4,
 "nbformat_minor": 2
}
